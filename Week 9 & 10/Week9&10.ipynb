{
 "cells": [
  {
   "cell_type": "code",
   "execution_count": 48,
   "id": "6960019a-f8fb-4639-8883-896a97413642",
   "metadata": {},
   "outputs": [],
   "source": [
    "# Mithil Patel\n",
    "# DSC 630 - Week 9 & 10 Assignment\n",
    "# 02/08/2023\n",
    "\n",
    "# Import libraries\n",
    "import pandas as pd\n",
    "import matplotlib.pyplot as plt\n",
    "import seaborn as sns\n",
    "import plotly.express as px\n",
    "import numpy as np"
   ]
  },
  {
   "cell_type": "code",
   "execution_count": 2,
   "id": "7a9a0f45-3c5c-4f01-894e-6bfb786c685a",
   "metadata": {},
   "outputs": [
    {
     "data": {
      "text/html": [
       "<div>\n",
       "<style scoped>\n",
       "    .dataframe tbody tr th:only-of-type {\n",
       "        vertical-align: middle;\n",
       "    }\n",
       "\n",
       "    .dataframe tbody tr th {\n",
       "        vertical-align: top;\n",
       "    }\n",
       "\n",
       "    .dataframe thead th {\n",
       "        text-align: right;\n",
       "    }\n",
       "</style>\n",
       "<table border=\"1\" class=\"dataframe\">\n",
       "  <thead>\n",
       "    <tr style=\"text-align: right;\">\n",
       "      <th></th>\n",
       "      <th>Name</th>\n",
       "      <th>G</th>\n",
       "      <th>MIN</th>\n",
       "      <th>PTS</th>\n",
       "      <th>FGM</th>\n",
       "      <th>FGA</th>\n",
       "      <th>FGP</th>\n",
       "      <th>FTM</th>\n",
       "      <th>FTA</th>\n",
       "      <th>FTP</th>\n",
       "      <th>...</th>\n",
       "      <th>3PA</th>\n",
       "      <th>3PP</th>\n",
       "      <th>ORB</th>\n",
       "      <th>DRB</th>\n",
       "      <th>TRB</th>\n",
       "      <th>AST</th>\n",
       "      <th>STL</th>\n",
       "      <th>BLK</th>\n",
       "      <th>TO</th>\n",
       "      <th>PF</th>\n",
       "    </tr>\n",
       "  </thead>\n",
       "  <tbody>\n",
       "    <tr>\n",
       "      <th>8</th>\n",
       "      <td>Chris Paul</td>\n",
       "      <td>78</td>\n",
       "      <td>38.5</td>\n",
       "      <td>22.8</td>\n",
       "      <td>8.1</td>\n",
       "      <td>16.1</td>\n",
       "      <td>0.503</td>\n",
       "      <td>5.8</td>\n",
       "      <td>6.7</td>\n",
       "      <td>0.868</td>\n",
       "      <td>...</td>\n",
       "      <td>2.3</td>\n",
       "      <td>0.364</td>\n",
       "      <td>0.9</td>\n",
       "      <td>4.7</td>\n",
       "      <td>5.5</td>\n",
       "      <td>11.0</td>\n",
       "      <td>2.8</td>\n",
       "      <td>0.1</td>\n",
       "      <td>3.0</td>\n",
       "      <td>2.7</td>\n",
       "    </tr>\n",
       "    <tr>\n",
       "      <th>16</th>\n",
       "      <td>Devin Harris</td>\n",
       "      <td>69</td>\n",
       "      <td>36.1</td>\n",
       "      <td>21.3</td>\n",
       "      <td>6.6</td>\n",
       "      <td>15.1</td>\n",
       "      <td>0.438</td>\n",
       "      <td>7.2</td>\n",
       "      <td>8.8</td>\n",
       "      <td>0.820</td>\n",
       "      <td>...</td>\n",
       "      <td>3.2</td>\n",
       "      <td>0.291</td>\n",
       "      <td>0.4</td>\n",
       "      <td>2.9</td>\n",
       "      <td>3.3</td>\n",
       "      <td>6.9</td>\n",
       "      <td>1.7</td>\n",
       "      <td>0.2</td>\n",
       "      <td>3.1</td>\n",
       "      <td>2.4</td>\n",
       "    </tr>\n",
       "    <tr>\n",
       "      <th>14</th>\n",
       "      <td>Amare Stoudemire</td>\n",
       "      <td>53</td>\n",
       "      <td>36.8</td>\n",
       "      <td>21.4</td>\n",
       "      <td>7.6</td>\n",
       "      <td>14.1</td>\n",
       "      <td>0.539</td>\n",
       "      <td>6.1</td>\n",
       "      <td>7.3</td>\n",
       "      <td>0.835</td>\n",
       "      <td>...</td>\n",
       "      <td>0.1</td>\n",
       "      <td>0.429</td>\n",
       "      <td>2.2</td>\n",
       "      <td>5.9</td>\n",
       "      <td>8.1</td>\n",
       "      <td>2.0</td>\n",
       "      <td>0.9</td>\n",
       "      <td>1.1</td>\n",
       "      <td>2.8</td>\n",
       "      <td>3.1</td>\n",
       "    </tr>\n",
       "    <tr>\n",
       "      <th>38</th>\n",
       "      <td>O.J. Mayo</td>\n",
       "      <td>82</td>\n",
       "      <td>38.0</td>\n",
       "      <td>18.5</td>\n",
       "      <td>6.9</td>\n",
       "      <td>15.6</td>\n",
       "      <td>0.438</td>\n",
       "      <td>3.0</td>\n",
       "      <td>3.4</td>\n",
       "      <td>0.879</td>\n",
       "      <td>...</td>\n",
       "      <td>4.6</td>\n",
       "      <td>0.384</td>\n",
       "      <td>0.7</td>\n",
       "      <td>3.1</td>\n",
       "      <td>3.8</td>\n",
       "      <td>3.2</td>\n",
       "      <td>1.1</td>\n",
       "      <td>0.2</td>\n",
       "      <td>2.8</td>\n",
       "      <td>2.5</td>\n",
       "    </tr>\n",
       "    <tr>\n",
       "      <th>15</th>\n",
       "      <td>Joe Johnson</td>\n",
       "      <td>79</td>\n",
       "      <td>39.5</td>\n",
       "      <td>21.4</td>\n",
       "      <td>7.8</td>\n",
       "      <td>18.0</td>\n",
       "      <td>0.437</td>\n",
       "      <td>3.8</td>\n",
       "      <td>4.6</td>\n",
       "      <td>0.826</td>\n",
       "      <td>...</td>\n",
       "      <td>5.2</td>\n",
       "      <td>0.360</td>\n",
       "      <td>0.8</td>\n",
       "      <td>3.6</td>\n",
       "      <td>4.4</td>\n",
       "      <td>5.8</td>\n",
       "      <td>1.1</td>\n",
       "      <td>0.2</td>\n",
       "      <td>2.5</td>\n",
       "      <td>2.2</td>\n",
       "    </tr>\n",
       "  </tbody>\n",
       "</table>\n",
       "<p>5 rows × 21 columns</p>\n",
       "</div>"
      ],
      "text/plain": [
       "               Name     G   MIN   PTS  FGM   FGA    FGP  FTM  FTA    FTP  ...  \\\n",
       "8         Chris Paul   78  38.5  22.8  8.1  16.1  0.503  5.8  6.7  0.868  ...   \n",
       "16      Devin Harris   69  36.1  21.3  6.6  15.1  0.438  7.2  8.8  0.820  ...   \n",
       "14  Amare Stoudemire   53  36.8  21.4  7.6  14.1  0.539  6.1  7.3  0.835  ...   \n",
       "38         O.J. Mayo   82  38.0  18.5  6.9  15.6  0.438  3.0  3.4  0.879  ...   \n",
       "15       Joe Johnson   79  39.5  21.4  7.8  18.0  0.437  3.8  4.6  0.826  ...   \n",
       "\n",
       "    3PA    3PP  ORB  DRB  TRB   AST  STL  BLK   TO   PF  \n",
       "8   2.3  0.364  0.9  4.7  5.5  11.0  2.8  0.1  3.0  2.7  \n",
       "16  3.2  0.291  0.4  2.9  3.3   6.9  1.7  0.2  3.1  2.4  \n",
       "14  0.1  0.429  2.2  5.9  8.1   2.0  0.9  1.1  2.8  3.1  \n",
       "38  4.6  0.384  0.7  3.1  3.8   3.2  1.1  0.2  2.8  2.5  \n",
       "15  5.2  0.360  0.8  3.6  4.4   5.8  1.1  0.2  2.5  2.2  \n",
       "\n",
       "[5 rows x 21 columns]"
      ]
     },
     "execution_count": 2,
     "metadata": {},
     "output_type": "execute_result"
    }
   ],
   "source": [
    "# Import ppg dataframe\n",
    "ppg_df = pd.read_csv(\"ppg2008.csv\")\n",
    "ppg_df.sample(5)"
   ]
  },
  {
   "cell_type": "code",
   "execution_count": 22,
   "id": "e41b39c6-e4ed-448b-9393-f7ca8c72c371",
   "metadata": {},
   "outputs": [
    {
     "data": {
      "text/plain": [
       "<AxesSubplot:>"
      ]
     },
     "execution_count": 22,
     "metadata": {},
     "output_type": "execute_result"
    },
    {
     "data": {
      "image/png": "[encoded data removed]",
      "text/plain": [
       "<Figure size 1296x720 with 2 Axes>"
      ]
     },
     "metadata": {
      "needs_background": "light"
     },
     "output_type": "display_data"
    }
   ],
   "source": [
    "# Creating correlation heatmap \n",
    "plt.figure(figsize=(18,10))\n",
    "sns.heatmap(ppg_df.corr(),annot = True)"
   ]
  },
  {
   "cell_type": "code",
   "execution_count": 25,
   "id": "11ed2249-44dc-4bad-9fcc-70385d629716",
   "metadata": {},
   "outputs": [
    {
     "data": {
      "text/html": [
       "<div>\n",
       "<style scoped>\n",
       "    .dataframe tbody tr th:only-of-type {\n",
       "        vertical-align: middle;\n",
       "    }\n",
       "\n",
       "    .dataframe tbody tr th {\n",
       "        vertical-align: top;\n",
       "    }\n",
       "\n",
       "    .dataframe thead th {\n",
       "        text-align: right;\n",
       "    }\n",
       "</style>\n",
       "<table border=\"1\" class=\"dataframe\">\n",
       "  <thead>\n",
       "    <tr style=\"text-align: right;\">\n",
       "      <th></th>\n",
       "      <th>Address</th>\n",
       "      <th>City</th>\n",
       "      <th>State</th>\n",
       "      <th>Zip Code</th>\n",
       "      <th>Latitude</th>\n",
       "      <th>Longitude</th>\n",
       "    </tr>\n",
       "  </thead>\n",
       "  <tbody>\n",
       "    <tr>\n",
       "      <th>319</th>\n",
       "      <td>3130 Killdeer Ave</td>\n",
       "      <td>Albany</td>\n",
       "      <td>Oregon</td>\n",
       "      <td>97321-5325</td>\n",
       "      <td>44.639127</td>\n",
       "      <td>-123.065814</td>\n",
       "    </tr>\n",
       "    <tr>\n",
       "      <th>246</th>\n",
       "      <td>3000 Commerce Crossing</td>\n",
       "      <td>Commerce Tnshp</td>\n",
       "      <td>Michigan</td>\n",
       "      <td>48390</td>\n",
       "      <td>42.534006</td>\n",
       "      <td>-83.444799</td>\n",
       "    </tr>\n",
       "    <tr>\n",
       "      <th>35</th>\n",
       "      <td>3801 Pelandale Ave.</td>\n",
       "      <td>Modesto</td>\n",
       "      <td>California</td>\n",
       "      <td>95356-8300</td>\n",
       "      <td>37.700361</td>\n",
       "      <td>-121.067139</td>\n",
       "    </tr>\n",
       "    <tr>\n",
       "      <th>250</th>\n",
       "      <td>12011 Technology Drive</td>\n",
       "      <td>Eden Prairie</td>\n",
       "      <td>Minnesota</td>\n",
       "      <td>55344-3620</td>\n",
       "      <td>44.860321</td>\n",
       "      <td>-93.435877</td>\n",
       "    </tr>\n",
       "    <tr>\n",
       "      <th>211</th>\n",
       "      <td>999 N. Elmhurst Road</td>\n",
       "      <td>Mount Prospect</td>\n",
       "      <td>Illinois</td>\n",
       "      <td>60056</td>\n",
       "      <td>42.083165</td>\n",
       "      <td>-87.933246</td>\n",
       "    </tr>\n",
       "  </tbody>\n",
       "</table>\n",
       "</div>"
      ],
      "text/plain": [
       "                    Address            City       State    Zip Code  \\\n",
       "319       3130 Killdeer Ave          Albany      Oregon  97321-5325   \n",
       "246  3000 Commerce Crossing  Commerce Tnshp    Michigan       48390   \n",
       "35      3801 Pelandale Ave.         Modesto  California  95356-8300   \n",
       "250  12011 Technology Drive    Eden Prairie   Minnesota  55344-3620   \n",
       "211    999 N. Elmhurst Road  Mount Prospect    Illinois       60056   \n",
       "\n",
       "      Latitude   Longitude  \n",
       "319  44.639127 -123.065814  \n",
       "246  42.534006  -83.444799  \n",
       "35   37.700361 -121.067139  \n",
       "250  44.860321  -93.435877  \n",
       "211  42.083165  -87.933246  "
      ]
     },
     "execution_count": 25,
     "metadata": {},
     "output_type": "execute_result"
    }
   ],
   "source": [
    "# Import costco dataframe\n",
    "costco_df = pd.read_csv(\"costcos-geocoded.csv\")\n",
    "costco_df.sample(5)"
   ]
  },
  {
   "cell_type": "code",
   "execution_count": 45,
   "id": "14aaba3d-a8aa-4546-96c3-96b95a5e8ba4",
   "metadata": {},
   "outputs": [
    {
     "data": {
      "application/vnd.plotly.v1+json": {
       "config": {
        "plotlyServerURL": "https://plot.ly"
       },
       "data": [
        {
         "geo": "geo",
         "hovertemplate": "<b>%{hovertext}</b><br><br>State=Alabama<br>Latitude=%{lat}<br>Longitude=%{lon}<extra></extra>",
         "hovertext": [
          "Huntsville",
          "Hoover",
          "Montgomery"
         ],
         "lat": [
          34.7430949,
          33.377649,
          32.363889
         ],
         "legendgroup": "Alabama",
         "lon": [
          -86.6009553,
          -86.81242,
          -86.150884
         ],
         "marker": {
          "color": "#636efa",
          "symbol": "circle"
         },
         "mode": "markers",
         "name": "Alabama",
         "showlegend": true,
         "type": "scattergeo"
        },
        {
         "geo": "geo",
         "hovertemplate": "<b>%{hovertext}</b><br><br>State=Alaska<br>Latitude=%{lat}<br>Longitude=%{lon}<extra></extra>",
         "hovertext": [
          "Juneau",
          "Anchorage",
          "Anchorage"
         ],
         "lat": [
          58.3592,
          61.143266,
          61.210815
         ],
         "legendgroup": "Alaska",
         "lon": [
          -134.483,
          -149.884217,
          -149.804337
         ],
         "marker": {
          "color": "#EF553B",
          "symbol": "circle"
         },
         "mode": "markers",
         "name": "Alaska",
         "showlegend": true,
         "type": "scattergeo"
        },
        {
         "geo": "geo",
         "hovertemplate": "<b>%{hovertext}</b><br><br>State=Arizona<br>Latitude=%{lat}<br>Longitude=%{lon}<extra></extra>",
         "hovertext": [
          "Prescott",
          "Tucson",
          "Tucson",
          "Glendale",
          "Gilbert",
          "Tempe",
          "Scottsdale",
          "Gilbert",
          "Chandler",
          "Mesa",
          "Phoenix",
          "Phoenix",
          "Phoenix",
          "Phoenix",
          "Phoenix",
          "Avondale",
          "Phoenix"
         ],
         "lat": [
          34.548993,
          32.3262177,
          32.2522189,
          33.643277,
          33.296095,
          33.347289,
          33.6241344,
          33.376244,
          33.293696,
          33.3886808,
          33.670943,
          33.659688,
          33.49179,
          33.5206919,
          33.473335,
          33.467156,
          33.600961
         ],
         "legendgroup": "Arizona",
         "lon": [
          -112.3954274,
          -111.0491606,
          -110.859554,
          -112.233474,
          -111.745647,
          -111.961862,
          -111.9019118,
          -111.840765,
          -111.899509,
          -111.6675437,
          -112.028124,
          -112.115841,
          -112.128379,
          -112.095189,
          -111.985531,
          -112.274404,
          -111.983793
         ],
         "marker": {
          "color": "#00cc96",
          "symbol": "circle"
         },
         "mode": "markers",
         "name": "Arizona",
         "showlegend": true,
         "type": "scattergeo"
        },
        {
         "geo": "geo",
         "hovertemplate": "<b>%{hovertext}</b><br><br>State=California<br>Latitude=%{lat}<br>Longitude=%{lon}<extra></extra>",
         "hovertext": [
          "San Diego",
          "Redding",
          "Chico",
          "Sacramento",
          "Sacramento",
          "Woodland",
          "Rancho Cordova",
          "Roseville",
          "Folsom",
          "Citrus Heights",
          "Eureka",
          "Santa Rosa",
          "Modesto",
          "Merced",
          "Manteca",
          "Stockton",
          "San Jose",
          "San Jose",
          "San Jose",
          "Santa Cruz",
          "Santa Clara",
          "Novato",
          "Richmond",
          "Vallejo",
          "Fairfield",
          "San Leandro",
          "Livermore",
          "Hayward",
          "Fremont",
          "Danville",
          "Antioch",
          "Foster City",
          "San Francisco",
          "Sunnyvale",
          "South San Francisco",
          "South San Francisco",
          "Mountain View",
          "Sand City",
          "Salinas",
          "Fresno",
          "Clovis",
          "Lancaster",
          "Santa Maria",
          "San Luis Obispo",
          "Visalia",
          "Goleta",
          "Oxnard",
          "Yorba Linda",
          "Corona",
          "Garden Grove",
          "Fullerton",
          "Tustin",
          "Tustin",
          "Fountain Valley",
          "Laguna Niguel",
          "San Juan Capistrano",
          "Irvine",
          "Moreno Valley",
          "Lake Elsinore",
          "San Bernardino",
          "Victorville",
          "El Centro",
          "Palm Desert",
          "San Diego",
          "San Diego",
          "Vista",
          "Santee",
          "Poway",
          "Carlsbad",
          "La Mesa",
          "Chula Vista",
          "Chula Vista",
          "Alhambra",
          "San Dimas",
          "Montclair",
          "City of Industry",
          "Rancho Cucamonga",
          "Chino Hills",
          "Azusa",
          "Burbank",
          "Van Nuys",
          "Santa Clarita",
          "Westlake Village",
          "Northridge",
          "Canoga Park",
          "Signal Hill",
          "Lakewood",
          "Norwalk",
          "Montebello",
          "La Habra",
          "Torrance",
          "Inglewood",
          "Marina del Rey",
          "Hawthorne",
          "Los Angeles",
          "Vacaville",
          "Turlock",
          "Tracy",
          "Gilroy",
          "Rohnert Park",
          "Hayward",
          "Redwood City",
          "Fresno",
          "Bakersfield",
          "Bakersfield",
          "Laguna Niguel",
          "Temecula",
          "Fontana",
          "La Quinta",
          "San Diego",
          "San Diego",
          "Pacoima",
          "Cypress",
          "Hawthorne",
          "Commerce"
         ],
         "lat": [
          32.7789832,
          40.586449,
          39.7214025,
          38.4677597,
          38.597139,
          38.6699409,
          38.588195,
          38.78061,
          38.645206,
          38.6903,
          40.7919385,
          38.4204562,
          37.7003612,
          37.3019943,
          37.784874,
          38.018791,
          37.3886293,
          37.253214,
          37.309657,
          36.985104,
          37.357021,
          38.087238,
          37.898774,
          38.133192,
          38.215406,
          37.7181741,
          37.702588,
          37.667516,
          37.5031232,
          37.78259,
          38.009119,
          37.561366,
          37.770488,
          37.372027,
          37.6422308,
          37.6654356,
          37.420676,
          36.6170705,
          36.703939,
          36.80989,
          36.792187,
          34.66129,
          34.936541,
          35.251917,
          36.292806,
          34.42789,
          34.2251071,
          33.87567,
          33.8899732,
          33.773511,
          33.862449,
          33.7282,
          33.699689,
          33.703448,
          33.5569565,
          33.469498,
          33.6570006,
          33.935555,
          33.696337,
          34.068044,
          34.5155574,
          32.8152064,
          33.7996392,
          32.987241,
          32.712739,
          33.1879309,
          32.840642,
          32.93649,
          33.1201381,
          32.773971,
          32.6089545,
          32.637276,
          34.089515,
          34.112139,
          34.083039,
          33.994075,
          34.078576,
          34.014463,
          34.131982,
          34.185739,
          34.181613,
          34.4027129,
          34.152307,
          34.230765,
          34.218644,
          33.8043173,
          33.850463,
          33.919958,
          34.032917,
          33.932029,
          33.800813,
          33.943257,
          33.992576,
          33.898805,
          34.1285583,
          38.3506756,
          37.519131,
          37.7510679,
          37.008207,
          38.3527259,
          37.6163221,
          37.478656,
          36.839426,
          35.297271,
          35.384837,
          33.567618,
          33.521227,
          34.137557,
          33.704896,
          32.8234958,
          32.816251,
          34.2725894,
          33.8031834,
          33.918618,
          33.9947586
         ],
         "legendgroup": "California",
         "lon": [
          -117.1269067,
          -122.345675,
          -121.8096578,
          -121.4154069,
          -121.452409,
          -121.7259571,
          -121.263769,
          -121.267423,
          -121.109598,
          -121.29859,
          -124.1825438,
          -122.7134804,
          -121.0671386,
          -120.4940012,
          -121.260014,
          -121.292757,
          -121.8829132,
          -121.879999,
          -121.851571,
          -122.033615,
          -121.938843,
          -122.551076,
          -122.320125,
          -122.213745,
          -122.144911,
          -122.1809332,
          -121.812265,
          -122.10278,
          -121.9748814,
          -121.972853,
          -121.837904,
          -122.275144,
          -122.411106,
          -121.994779,
          -122.4010744,
          -122.4490857,
          -122.095061,
          -121.8474767,
          -121.668608,
          -119.874081,
          -119.714342,
          -118.151429,
          -120.42084,
          -120.691013,
          -119.306638,
          -119.874572,
          -119.148567,
          -117.74385,
          -117.5208947,
          -117.940271,
          -117.92211,
          -117.796294,
          -117.822618,
          -117.931978,
          -117.6788758,
          -117.677697,
          -117.7397337,
          -117.276579,
          -117.339182,
          -117.263077,
          -117.3196428,
          -115.5700028,
          -116.3819564,
          -117.077675,
          -117.11613,
          -117.2767568,
          -116.987356,
          -117.033125,
          -117.3165503,
          -117.024305,
          -117.0809526,
          -117.022199,
          -118.148531,
          -117.82633,
          -117.690661,
          -117.922,
          -117.5482714,
          -117.741815,
          -117.925681,
          -118.324045,
          -118.46401,
          -118.4550432,
          -118.797131,
          -118.551069,
          -118.596119,
          -118.166725,
          -118.136453,
          -118.102519,
          -118.097463,
          -117.969786,
          -118.34993,
          -118.333856,
          -118.446821,
          -118.372745,
          -118.2636796,
          -121.9817708,
          -120.888552,
          -121.475091,
          -121.556447,
          -122.717092,
          -122.0889509,
          -122.216527,
          -119.78774,
          -119.058275,
          -119.048452,
          -117.711571,
          -117.154362,
          -117.442672,
          -116.272801,
          -117.2282851,
          -117.153631,
          -118.4276271,
          -118.038976,
          -118.342576,
          -118.1430614
         ],
         "marker": {
          "color": "#ab63fa",
          "symbol": "circle"
         },
         "mode": "markers",
         "name": "California",
         "showlegend": true,
         "type": "scattergeo"
        },
        {
         "geo": "geo",
         "hovertemplate": "<b>%{hovertext}</b><br><br>State=Colorado<br>Latitude=%{lat}<br>Longitude=%{lon}<extra></extra>",
         "hovertext": [
          "Gypsum",
          "Colorado Springs",
          "Parker",
          "Littleton",
          "Littleton",
          "Sheridan",
          "Westminster",
          "Superior",
          "Thornton",
          "Aurora",
          "Arvada",
          "Colorado Springs"
         ],
         "lat": [
          39.6433872,
          38.892736,
          39.5580896,
          39.561203,
          39.638285,
          39.644445,
          39.862237,
          39.9576167,
          39.991358,
          39.690471,
          39.790074,
          38.9037505
         ],
         "legendgroup": "Colorado",
         "lon": [
          -106.8885487,
          -104.71771,
          -104.7758852,
          -104.874753,
          -105.082856,
          -105.006451,
          -105.0661949,
          -105.1699298,
          -104.983163,
          -104.86808,
          -105.082637,
          -104.8172136
         ],
         "marker": {
          "color": "#FFA15A",
          "symbol": "circle"
         },
         "mode": "markers",
         "name": "Colorado",
         "showlegend": true,
         "type": "scattergeo"
        },
        {
         "geo": "geo",
         "hovertemplate": "<b>%{hovertext}</b><br><br>State=Connecticut<br>Latitude=%{lat}<br>Longitude=%{lon}<extra></extra>",
         "hovertext": [
          "Norwalk",
          "Brookfield",
          "Waterbury",
          "Milford",
          "Enfield"
         ],
         "lat": [
          41.0919457,
          41.4422731,
          41.542672,
          41.249661,
          41.9936047
         ],
         "legendgroup": "Connecticut",
         "lon": [
          -73.4515808,
          -73.4051279,
          -72.9686675,
          -73.023977,
          -72.5754399
         ],
         "marker": {
          "color": "#19d3f3",
          "symbol": "circle"
         },
         "mode": "markers",
         "name": "Connecticut",
         "showlegend": true,
         "type": "scattergeo"
        },
        {
         "geo": "geo",
         "hovertemplate": "<b>%{hovertext}</b><br><br>State=Delaware<br>Latitude=%{lat}<br>Longitude=%{lon}<extra></extra>",
         "hovertext": [
          "Newark"
         ],
         "lat": [
          39.677736
         ],
         "legendgroup": "Delaware",
         "lon": [
          -75.64737
         ],
         "marker": {
          "color": "#FF6692",
          "symbol": "circle"
         },
         "mode": "markers",
         "name": "Delaware",
         "showlegend": true,
         "type": "scattergeo"
        },
        {
         "geo": "geo",
         "hovertemplate": "<b>%{hovertext}</b><br><br>State=Florida<br>Latitude=%{lat}<br>Longitude=%{lon}<extra></extra>",
         "hovertext": [
          "Boca Raton",
          "Naples",
          "Fort Myers",
          "Fort Myers",
          "Brandon",
          "Lantana",
          "Royal Palm Beach",
          "Lake Park",
          "Davie",
          "Kendall",
          "North Miami Beach",
          "Miami",
          "Pompano Beach",
          "Pembroke Pines",
          "Miami",
          "Orlando",
          "Winter Park",
          "Altamonte Springs",
          "Tallahassee",
          "Jacksonville",
          "Clearwater"
         ],
         "lat": [
          26.411955,
          26.22026,
          26.489631,
          26.544447,
          27.921491,
          26.5872905,
          26.6810314,
          26.8083519,
          26.0969039,
          25.655668,
          25.909564,
          25.774109,
          26.273566,
          26.009617,
          25.923451,
          28.404252,
          28.59907,
          28.6618672,
          30.4606461,
          30.252071,
          27.9604528
         ],
         "legendgroup": "Florida",
         "lon": [
          -80.1008839,
          -81.77492,
          -81.785933,
          -81.8742089,
          -82.330936,
          -80.0726927,
          -80.2195563,
          -80.0879667,
          -80.2509582,
          -80.412069,
          -80.156203,
          -80.330536,
          -80.148255,
          -80.360331,
          -80.298706,
          -81.40671,
          -81.30024,
          -81.4176945,
          -84.2124709,
          -81.533776,
          -82.7275752
         ],
         "marker": {
          "color": "#B6E880",
          "symbol": "circle"
         },
         "mode": "markers",
         "name": "Florida",
         "showlegend": true,
         "type": "scattergeo"
        },
        {
         "geo": "geo",
         "hovertemplate": "<b>%{hovertext}</b><br><br>State=Georgia<br>Latitude=%{lat}<br>Longitude=%{lon}<extra></extra>",
         "hovertext": [
          "Ringgold",
          "Buford",
          "Atlanta",
          "Atlanta",
          "Morrow",
          "Kennesaw",
          "Duluth",
          "Alpharetta",
          "Atlanta"
         ],
         "lat": [
          34.9326477,
          34.0620378,
          33.8816153,
          33.927816,
          33.572052,
          34.0092178,
          33.947764,
          34.090513,
          33.8709805
         ],
         "legendgroup": "Georgia",
         "lon": [
          -85.2547988,
          -83.9943156,
          -84.4694359,
          -84.352462,
          -84.333989,
          -84.5686483,
          -84.143039,
          -84.277902,
          -84.3350283
         ],
         "marker": {
          "color": "#FF97FF",
          "symbol": "circle"
         },
         "mode": "markers",
         "name": "Georgia",
         "showlegend": true,
         "type": "scattergeo"
        },
        {
         "geo": "geo",
         "hovertemplate": "<b>%{hovertext}</b><br><br>State=Hawaii<br>Latitude=%{lat}<br>Longitude=%{lon}<extra></extra>",
         "hovertext": [
          "Kailua-Kona (Hawaii)",
          "Honolulu (Oahu)",
          "Waipahu (Oahu)",
          "Lihue",
          "Kahului (Maui)",
          "Kapolei (Oahu)",
          "Iwilei (Oahu)"
         ],
         "lat": [
          19.687344,
          21.282117,
          21.4188931,
          21.9665355,
          20.887082,
          21.3272958,
          21.3184739
         ],
         "legendgroup": "Hawaii",
         "lon": [
          -156.017457,
          -157.7119219,
          -158.0063848,
          -159.3799149,
          -156.451364,
          -158.0881083,
          -157.870711
         ],
         "marker": {
          "color": "#FECB52",
          "symbol": "circle"
         },
         "mode": "markers",
         "name": "Hawaii",
         "showlegend": true,
         "type": "scattergeo"
        },
        {
         "geo": "geo",
         "hovertemplate": "<b>%{hovertext}</b><br><br>State=Idaho<br>Latitude=%{lat}<br>Longitude=%{lon}<extra></extra>",
         "hovertext": [
          "Coeur D\\'Alene",
          "Boise",
          "Nampa",
          "Twin Falls",
          "Pocatello"
         ],
         "lat": [
          47.7080223,
          43.585487,
          43.615175,
          42.591998,
          42.905739
         ],
         "legendgroup": "Idaho",
         "lon": [
          -116.7819023,
          -116.276686,
          -116.592784,
          -114.4656395,
          -112.468931
         ],
         "marker": {
          "color": "#636efa",
          "symbol": "circle"
         },
         "mode": "markers",
         "name": "Idaho",
         "showlegend": true,
         "type": "scattergeo"
        },
        {
         "geo": "geo",
         "hovertemplate": "<b>%{hovertext}</b><br><br>State=Illinois<br>Latitude=%{lat}<br>Longitude=%{lon}<extra></extra>",
         "hovertext": [
          "Niles",
          "Bedford Park",
          "Chicago",
          "Oak Brook",
          "Orland Park",
          "Schaumburg",
          "Lake in the Hills",
          "Bloomingdale",
          "Lake Zurich",
          "Naperville",
          "Bolingbrook",
          "St. Charles",
          "Melrose Park",
          "Mount Prospect",
          "Mettawa",
          "Glenview"
         ],
         "lat": [
          42.014665,
          41.7600708,
          41.9297729,
          41.845569,
          41.6011911,
          42.0565401,
          42.1788808,
          41.9396832,
          42.187135,
          41.7443388,
          41.7265993,
          41.9073026,
          41.9091302,
          42.0831646,
          42.240048,
          42.1090138
         ],
         "legendgroup": "Illinois",
         "lon": [
          -87.7815541,
          -87.7418497,
          -87.6770447,
          -87.964888,
          -87.8618256,
          -88.0449252,
          -88.3387302,
          -88.1323182,
          -88.093412,
          -88.2058422,
          -88.0325566,
          -88.3400191,
          -87.8367543,
          -87.9332458,
          -87.9057161,
          -87.8214507
         ],
         "marker": {
          "color": "#EF553B",
          "symbol": "circle"
         },
         "mode": "markers",
         "name": "Illinois",
         "showlegend": true,
         "type": "scattergeo"
        },
        {
         "geo": "geo",
         "hovertemplate": "<b>%{hovertext}</b><br><br>State=Indiana<br>Latitude=%{lat}<br>Longitude=%{lon}<extra></extra>",
         "hovertext": [
          "Merrillville",
          "Indianapolis",
          "Castleton"
         ],
         "lat": [
          41.4738435,
          39.916735,
          39.913779
         ],
         "legendgroup": "Indiana",
         "lon": [
          -87.3218679,
          -86.226227,
          -86.061793
         ],
         "marker": {
          "color": "#00cc96",
          "symbol": "circle"
         },
         "mode": "markers",
         "name": "Indiana",
         "showlegend": true,
         "type": "scattergeo"
        },
        {
         "geo": "geo",
         "hovertemplate": "<b>%{hovertext}</b><br><br>State=Iowa<br>Latitude=%{lat}<br>Longitude=%{lon}<extra></extra>",
         "hovertext": [
          "West Des Moines"
         ],
         "lat": [
          41.562811
         ],
         "legendgroup": "Iowa",
         "lon": [
          -93.804976
         ],
         "marker": {
          "color": "#ab63fa",
          "symbol": "circle"
         },
         "mode": "markers",
         "name": "Iowa",
         "showlegend": true,
         "type": "scattergeo"
        },
        {
         "geo": "geo",
         "hovertemplate": "<b>%{hovertext}</b><br><br>State=Kansas<br>Latitude=%{lat}<br>Longitude=%{lon}<extra></extra>",
         "hovertext": [
          "Lenexa",
          "Overland Park"
         ],
         "lat": [
          38.95885,
          38.906906
         ],
         "legendgroup": "Kansas",
         "lon": [
          -94.733002,
          -94.670999
         ],
         "marker": {
          "color": "#FFA15A",
          "symbol": "circle"
         },
         "mode": "markers",
         "name": "Kansas",
         "showlegend": true,
         "type": "scattergeo"
        },
        {
         "geo": "geo",
         "hovertemplate": "<b>%{hovertext}</b><br><br>State=Kentucky<br>Latitude=%{lat}<br>Longitude=%{lon}<extra></extra>",
         "hovertext": [
          "Louisville"
         ],
         "lat": [
          38.3163673
         ],
         "legendgroup": "Kentucky",
         "lon": [
          -85.5728641
         ],
         "marker": {
          "color": "#19d3f3",
          "symbol": "circle"
         },
         "mode": "markers",
         "name": "Kentucky",
         "showlegend": true,
         "type": "scattergeo"
        },
        {
         "geo": "geo",
         "hovertemplate": "<b>%{hovertext}</b><br><br>State=Maryland<br>Latitude=%{lat}<br>Longitude=%{lon}<extra></extra>",
         "hovertext": [
          "Lanham",
          "Frederick",
          "Baltimore",
          "Hanover",
          "Elkridge",
          "Glen Burnie",
          "Gaithersburg",
          "Beltsville",
          "Brandywine"
         ],
         "lat": [
          38.9731445,
          39.4018344,
          39.358195,
          39.15582,
          39.186369,
          39.2035401,
          39.155646,
          37.228312,
          38.6645584
         ],
         "legendgroup": "Maryland",
         "lon": [
          -76.8160858,
          -77.4075364,
          -76.444565,
          -76.730744,
          -76.793645,
          -76.5939428,
          -77.214124,
          -77.3903001,
          -76.8747015
         ],
         "marker": {
          "color": "#FF6692",
          "symbol": "circle"
         },
         "mode": "markers",
         "name": "Maryland",
         "showlegend": true,
         "type": "scattergeo"
        },
        {
         "geo": "geo",
         "hovertemplate": "<b>%{hovertext}</b><br><br>State=Massachusetts<br>Latitude=%{lat}<br>Longitude=%{lon}<extra></extra>",
         "hovertext": [
          "Waltham",
          "Avon",
          "Dedham",
          "Danvers",
          "West Springfield",
          "Everett"
         ],
         "lat": [
          42.395066,
          42.136598,
          42.230996,
          37.226693,
          42.13216,
          42.4017251
         ],
         "legendgroup": "Massachusetts",
         "lon": [
          -71.265264,
          -71.066458,
          -71.17497,
          -77.401371,
          -72.620485,
          -71.0695264
         ],
         "marker": {
          "color": "#B6E880",
          "symbol": "circle"
         },
         "mode": "markers",
         "name": "Massachusetts",
         "showlegend": true,
         "type": "scattergeo"
        },
        {
         "geo": "geo",
         "hovertemplate": "<b>%{hovertext}</b><br><br>State=Michigan<br>Latitude=%{lat}<br>Longitude=%{lon}<extra></extra>",
         "hovertext": [
          "Grand Rapids",
          "Wyoming",
          "Auburn Hills",
          "Shelby Township",
          "Bloomfield",
          "Livonia",
          "Livonia",
          "Brighton",
          "Madison Heights",
          "Roseville",
          "Commerce Tnshp"
         ],
         "lat": [
          42.910564,
          42.875818,
          42.7070854,
          42.6295851,
          42.606916,
          42.432885,
          42.3813419,
          42.5044786,
          42.5161919,
          42.4959314,
          42.534006
         ],
         "legendgroup": "Michigan",
         "lon": [
          -85.542713,
          -85.76385,
          -83.2963467,
          -82.98077,
          -83.293322,
          -83.430471,
          -83.332026,
          -83.7594455,
          -83.117129,
          -82.9371897,
          -83.444799
         ],
         "marker": {
          "color": "#FF97FF",
          "symbol": "circle"
         },
         "mode": "markers",
         "name": "Michigan",
         "showlegend": true,
         "type": "scattergeo"
        },
        {
         "geo": "geo",
         "hovertemplate": "<b>%{hovertext}</b><br><br>State=Minnesota<br>Latitude=%{lat}<br>Longitude=%{lon}<extra></extra>",
         "hovertext": [
          "Coon Rapids",
          "St. Louis Park",
          "Maple Grove",
          "Eden Prairie",
          "Maplewood",
          "Burnsville"
         ],
         "lat": [
          45.1985438,
          44.9676254,
          45.09298,
          44.8603208,
          45.029375,
          44.7481179
         ],
         "legendgroup": "Minnesota",
         "lon": [
          -93.3502188,
          -93.3495534,
          -93.424382,
          -93.4358767,
          -93.039964,
          -93.2934839
         ],
         "marker": {
          "color": "#FECB52",
          "symbol": "circle"
         },
         "mode": "markers",
         "name": "Minnesota",
         "showlegend": true,
         "type": "scattergeo"
        },
        {
         "geo": "geo",
         "hovertemplate": "<b>%{hovertext}</b><br><br>State=Missouri<br>Latitude=%{lat}<br>Longitude=%{lon}<extra></extra>",
         "hovertext": [
          "Kansas City",
          "Independence",
          "St. Peters",
          "St. Louis",
          "Manchester"
         ],
         "lat": [
          39.0682148,
          39.0372034,
          38.797262,
          38.506798,
          38.597951
         ],
         "legendgroup": "Missouri",
         "lon": [
          -94.5815625,
          -94.3551426,
          -90.607339,
          -90.3408851,
          -90.506914
         ],
         "marker": {
          "color": "#636efa",
          "symbol": "circle"
         },
         "mode": "markers",
         "name": "Missouri",
         "showlegend": true,
         "type": "scattergeo"
        },
        {
         "geo": "geo",
         "hovertemplate": "<b>%{hovertext}</b><br><br>State=Montana<br>Latitude=%{lat}<br>Longitude=%{lon}<extra></extra>",
         "hovertext": [
          "Kalispell",
          "Missoula",
          "Bozeman",
          "Helena",
          "Billings"
         ],
         "lat": [
          48.174177,
          46.89293,
          45.71334,
          46.616615,
          45.7550163
         ],
         "legendgroup": "Montana",
         "lon": [
          -114.29897,
          -114.037358,
          -111.070653,
          -112.0049737,
          -108.5727142
         ],
         "marker": {
          "color": "#EF553B",
          "symbol": "circle"
         },
         "mode": "markers",
         "name": "Montana",
         "showlegend": true,
         "type": "scattergeo"
        },
        {
         "geo": "geo",
         "hovertemplate": "<b>%{hovertext}</b><br><br>State=Nebraska<br>Latitude=%{lat}<br>Longitude=%{lon}<extra></extra>",
         "hovertext": [
          "Omaha"
         ],
         "lat": [
          41.265224
         ],
         "legendgroup": "Nebraska",
         "lon": [
          -96.10534
         ],
         "marker": {
          "color": "#00cc96",
          "symbol": "circle"
         },
         "mode": "markers",
         "name": "Nebraska",
         "showlegend": true,
         "type": "scattergeo"
        },
        {
         "geo": "geo",
         "hovertemplate": "<b>%{hovertext}</b><br><br>State=Nevada<br>Latitude=%{lat}<br>Longitude=%{lon}<extra></extra>",
         "hovertext": [
          "Carson City",
          "Reno",
          "Sparks",
          "Las Vegas",
          "Las Vegas",
          "Las Vegas",
          "Henderson"
         ],
         "lat": [
          39.1123484,
          39.503102,
          39.579204,
          36.1633476,
          36.278946,
          36.1721288,
          36.06985
         ],
         "legendgroup": "Nevada",
         "lon": [
          -119.8451288,
          -119.785095,
          -119.738792,
          -115.3318905,
          -115.209445,
          -115.1608236,
          -115.037166
         ],
         "marker": {
          "color": "#ab63fa",
          "symbol": "circle"
         },
         "mode": "markers",
         "name": "Nevada",
         "showlegend": true,
         "type": "scattergeo"
        },
        {
         "geo": "geo",
         "hovertemplate": "<b>%{hovertext}</b><br><br>State=New Hampshire<br>Latitude=%{lat}<br>Longitude=%{lon}<extra></extra>",
         "hovertext": [
          "Nashua"
         ],
         "lat": [
          42.7023
         ],
         "legendgroup": "New Hampshire",
         "lon": [
          -71.443126
         ],
         "marker": {
          "color": "#FFA15A",
          "symbol": "circle"
         },
         "mode": "markers",
         "name": "New Hampshire",
         "showlegend": true,
         "type": "scattergeo"
        },
        {
         "geo": "geo",
         "hovertemplate": "<b>%{hovertext}</b><br><br>State=New Jersey<br>Latitude=%{lat}<br>Longitude=%{lon}<extra></extra>",
         "hovertext": [
          "Edison",
          "Bridgewater",
          "Brick",
          "Mount Laurel",
          "Stafford Township",
          "East Hanover",
          "Wharton",
          "Hazlet",
          "Hackensack",
          "Wayne",
          "Union",
          "Clifton"
         ],
         "lat": [
          40.5317305,
          40.5644881,
          40.0547573,
          39.9505868,
          39.70721,
          40.8096853,
          40.906896,
          40.4194098,
          40.876239,
          40.8872413,
          40.6931,
          40.830625
         ],
         "legendgroup": "New Jersey",
         "lon": [
          -74.3766237,
          -74.5553081,
          -74.1563178,
          -74.8761132,
          -74.287661,
          -74.381266,
          -74.569445,
          -74.1705136,
          -74.038818,
          -74.2541309,
          -74.2873,
          -74.1366964
         ],
         "marker": {
          "color": "#19d3f3",
          "symbol": "circle"
         },
         "mode": "markers",
         "name": "New Jersey",
         "showlegend": true,
         "type": "scattergeo"
        },
        {
         "geo": "geo",
         "hovertemplate": "<b>%{hovertext}</b><br><br>State=New Mexico<br>Latitude=%{lat}<br>Longitude=%{lon}<extra></extra>",
         "hovertext": [
          "Albuquerque",
          "Albuquerque",
          "Albuquerque"
         ],
         "lat": [
          35.068225,
          35.19547,
          35.136386
         ],
         "legendgroup": "New Mexico",
         "lon": [
          -106.530385,
          -106.66139,
          -106.614209
         ],
         "marker": {
          "color": "#FF6692",
          "symbol": "circle"
         },
         "mode": "markers",
         "name": "New Mexico",
         "showlegend": true,
         "type": "scattergeo"
        },
        {
         "geo": "geo",
         "hovertemplate": "<b>%{hovertext}</b><br><br>State=New York<br>Latitude=%{lat}<br>Longitude=%{lon}<extra></extra>",
         "hovertext": [
          "Nesconset",
          "Melville",
          "Holbrook",
          "Commack",
          "Westbury",
          "Lawrence",
          "Brooklyn",
          "Long Island City",
          "Nanuet",
          "New Rochelle",
          "Yonkers",
          "Staten Island",
          "Rego Park",
          "Port Chester",
          "New York"
         ],
         "lat": [
          40.862057,
          40.757604,
          40.773266,
          40.8067522,
          40.743347,
          40.6307824,
          40.6554813,
          40.7673216,
          41.107253,
          40.896403,
          40.9749617,
          40.57268,
          40.7333304,
          40.997205,
          40.7953918
         ],
         "legendgroup": "New York",
         "lon": [
          -73.130236,
          -73.420634,
          -73.050016,
          -73.2865925,
          -73.601117,
          -73.7398576,
          -74.0090742,
          -73.9375771,
          -74.025274,
          -73.7938571,
          -73.8612905,
          -74.168663,
          -73.8635717,
          -73.661561,
          -73.9318516
         ],
         "marker": {
          "color": "#B6E880",
          "symbol": "circle"
         },
         "mode": "markers",
         "name": "New York",
         "showlegend": true,
         "type": "scattergeo"
        },
        {
         "geo": "geo",
         "hovertemplate": "<b>%{hovertext}</b><br><br>State=North Carolina<br>Latitude=%{lat}<br>Longitude=%{lon}<extra></extra>",
         "hovertext": [
          "Wilmington",
          "Charlotte",
          "Matthews",
          "Durham",
          "Raleigh",
          "Greensboro",
          "Winston Salem"
         ],
         "lat": [
          34.2471728,
          35.162075,
          35.130096,
          36.028911,
          35.818255,
          36.058064,
          36.064731
         ],
         "legendgroup": "North Carolina",
         "lon": [
          -77.8738996,
          -80.883958,
          -80.704742,
          -78.914527,
          -78.622315,
          -79.883838,
          -80.317952
         ],
         "marker": {
          "color": "#FF97FF",
          "symbol": "circle"
         },
         "mode": "markers",
         "name": "North Carolina",
         "showlegend": true,
         "type": "scattergeo"
        },
        {
         "geo": "geo",
         "hovertemplate": "<b>%{hovertext}</b><br><br>State=Ohio<br>Latitude=%{lat}<br>Longitude=%{lon}<extra></extra>",
         "hovertext": [
          "Cincinnati",
          "Springdale",
          "Cleveland",
          "Toledo",
          "Columbus",
          "Strongsville",
          "Avon"
         ],
         "lat": [
          39.2956999,
          39.288172,
          41.5241698,
          41.6773358,
          40.150574,
          41.3130793,
          41.461881
         ],
         "legendgroup": "Ohio",
         "lon": [
          -84.3032,
          -84.4510214,
          -81.4467262,
          -83.6241301,
          -82.976965,
          -81.8162777,
          -82.012682
         ],
         "marker": {
          "color": "#FECB52",
          "symbol": "circle"
         },
         "mode": "markers",
         "name": "Ohio",
         "showlegend": true,
         "type": "scattergeo"
        },
        {
         "geo": "geo",
         "hovertemplate": "<b>%{hovertext}</b><br><br>State=Oregon<br>Latitude=%{lat}<br>Longitude=%{lon}<extra></extra>",
         "hovertext": [
          "Bend",
          "Medford",
          "Eugene",
          "Albany",
          "Salem",
          "Portland",
          "Tigard",
          "Hillsboro",
          "Wilsonville",
          "Clackamas",
          "Aloha",
          "Roseburg",
          "Warrenton"
         ],
         "lat": [
          44.057267,
          42.3687759,
          44.089117,
          44.6391268,
          44.918976,
          45.559288,
          45.4367116,
          45.535709,
          45.332949,
          45.429738,
          45.509085,
          43.2590258,
          46.1472442
         ],
         "legendgroup": "Oregon",
         "lon": [
          -121.267616,
          -122.858378,
          -123.06635,
          -123.065814,
          -122.995309,
          -122.523747,
          -122.7564796,
          -122.9355,
          -122.764093,
          -122.571376,
          -122.841919,
          -123.3513746,
          -123.9174036
         ],
         "marker": {
          "color": "#636efa",
          "symbol": "circle"
         },
         "mode": "markers",
         "name": "Oregon",
         "showlegend": true,
         "type": "scattergeo"
        },
        {
         "geo": "geo",
         "hovertemplate": "<b>%{hovertext}</b><br><br>State=Pennsylvania<br>Latitude=%{lat}<br>Longitude=%{lon}<extra></extra>",
         "hovertext": [
          "North Wales",
          "King of Prussia",
          "Lancaster",
          "Harrisburg",
          "Cranberry Township",
          "West Homestead",
          "Pittsburgh"
         ],
         "lat": [
          40.2391985,
          40.091369,
          40.052357,
          40.3098913,
          40.691215,
          40.4067922,
          40.4581284
         ],
         "legendgroup": "Pennsylvania",
         "lon": [
          -75.2351214,
          -75.385931,
          -76.256924,
          -76.7996506,
          -80.107991,
          -79.9195722,
          -80.1671087
         ],
         "marker": {
          "color": "#EF553B",
          "symbol": "circle"
         },
         "mode": "markers",
         "name": "Pennsylvania",
         "showlegend": true,
         "type": "scattergeo"
        },
        {
         "geo": "geo",
         "hovertemplate": "<b>%{hovertext}</b><br><br>State=South Carolina<br>Latitude=%{lat}<br>Longitude=%{lon}<extra></extra>",
         "hovertext": [
          "Greenville",
          "Myrtle Beach",
          "Charleston",
          "Spartanburg"
         ],
         "lat": [
          34.8360858,
          33.705698,
          32.7953856,
          34.9370256
         ],
         "legendgroup": "South Carolina",
         "lon": [
          -82.311008,
          -78.915906,
          -80.0369654,
          -81.9906978
         ],
         "marker": {
          "color": "#00cc96",
          "symbol": "circle"
         },
         "mode": "markers",
         "name": "South Carolina",
         "showlegend": true,
         "type": "scattergeo"
        },
        {
         "geo": "geo",
         "hovertemplate": "<b>%{hovertext}</b><br><br>State=Tennessee<br>Latitude=%{lat}<br>Longitude=%{lon}<extra></extra>",
         "hovertext": [
          "Memphis",
          "Cordova",
          "Nashville",
          "Brentwood"
         ],
         "lat": [
          35.0465639,
          35.19204,
          36.1392669,
          35.963436
         ],
         "legendgroup": "Tennessee",
         "lon": [
          -89.7972209,
          -89.794989,
          -86.885891,
          -86.818149
         ],
         "marker": {
          "color": "#ab63fa",
          "symbol": "circle"
         },
         "mode": "markers",
         "name": "Tennessee",
         "showlegend": true,
         "type": "scattergeo"
        },
        {
         "geo": "geo",
         "hovertemplate": "<b>%{hovertext}</b><br><br>State=Texas<br>Latitude=%{lat}<br>Longitude=%{lon}<extra></extra>",
         "hovertext": [
          "Austin",
          "San Antonio",
          "Selma",
          "Houston",
          "Houston",
          "Houston",
          "Fort Worth",
          "Southlake",
          "Arlington",
          "Plano",
          "Plano",
          "Lewisville",
          "El Paso",
          "San Antonio",
          "Duncanville",
          "Rockwall"
         ],
         "lat": [
          30.3968644,
          29.576287,
          29.598391,
          29.9536092,
          29.787755,
          29.7327829,
          32.6775654,
          32.9419217,
          32.6846619,
          33.023989,
          33.0441379,
          32.9952011,
          31.783497,
          29.611904,
          32.620946,
          32.9087304
         ],
         "legendgroup": "Texas",
         "lon": [
          -97.7456423,
          -98.597156,
          -98.277915,
          -95.5468109,
          -95.529263,
          -95.4389565,
          -97.4087829,
          -97.1121332,
          -97.1127486,
          -96.831701,
          -96.699179,
          -96.9648545,
          -106.410297,
          -98.474805,
          -96.910279,
          -96.4454985
         ],
         "marker": {
          "color": "#FFA15A",
          "symbol": "circle"
         },
         "mode": "markers",
         "name": "Texas",
         "showlegend": true,
         "type": "scattergeo"
        },
        {
         "geo": "geo",
         "hovertemplate": "<b>%{hovertext}</b><br><br>State=Utah<br>Latitude=%{lat}<br>Longitude=%{lon}<extra></extra>",
         "hovertext": [
          "St. George",
          "Ogden",
          "West Valley",
          "Salt Lake City",
          "Orem",
          "Sandy",
          "Lehi",
          "West Bountiful",
          "Murray"
         ],
         "lat": [
          37.122515,
          41.197413,
          40.6903769,
          40.730657,
          40.2822443,
          40.5506675,
          40.389719,
          40.889379,
          40.6577119
         ],
         "legendgroup": "Utah",
         "lon": [
          -113.523381,
          -111.9793725,
          -111.9541263,
          -111.90294,
          -111.6798494,
          -111.8934445,
          -111.8229955,
          -111.895108,
          -111.889873
         ],
         "marker": {
          "color": "#19d3f3",
          "symbol": "circle"
         },
         "mode": "markers",
         "name": "Utah",
         "showlegend": true,
         "type": "scattergeo"
        },
        {
         "geo": "geo",
         "hovertemplate": "<b>%{hovertext}</b><br><br>State=Vermont<br>Latitude=%{lat}<br>Longitude=%{lon}<extra></extra>",
         "hovertext": [
          "Colchester"
         ],
         "lat": [
          44.5034
         ],
         "legendgroup": "Vermont",
         "lon": [
          -73.173988
         ],
         "marker": {
          "color": "#FF6692",
          "symbol": "circle"
         },
         "mode": "markers",
         "name": "Vermont",
         "showlegend": true,
         "type": "scattergeo"
        },
        {
         "geo": "geo",
         "hovertemplate": "<b>%{hovertext}</b><br><br>State=Virginia<br>Latitude=%{lat}<br>Longitude=%{lon}<extra></extra>",
         "hovertext": [
          "Newport News",
          "Norfolk",
          "Midlothian",
          "Glen Allen",
          "Harrisonburg",
          "Winchester",
          "Arlington",
          "Woodbridge",
          "Springfield",
          "Fairfax",
          "Leesburg",
          "Sterling",
          "Chantilly",
          "Manassas",
          "Fredericksburg"
         ],
         "lat": [
          37.106044,
          36.851561,
          37.438778,
          37.642294,
          38.428597,
          39.157827,
          38.8624735,
          38.642245,
          38.739883,
          38.849315,
          39.115223,
          39.023821,
          38.8951069,
          38.783572,
          38.293479
         ],
         "legendgroup": "Virginia",
         "lon": [
          -76.496559,
          -76.199681,
          -77.587539,
          -77.561159,
          -78.85613,
          -78.157929,
          -77.0567423,
          -77.294447,
          -77.197301,
          -77.371784,
          -77.533198,
          -77.401854,
          -77.4430209,
          -77.5164269,
          -77.515701
         ],
         "marker": {
          "color": "#B6E880",
          "symbol": "circle"
         },
         "mode": "markers",
         "name": "Virginia",
         "showlegend": true,
         "type": "scattergeo"
        },
        {
         "geo": "geo",
         "hovertemplate": "<b>%{hovertext}</b><br><br>State=Washington<br>Latitude=%{lat}<br>Longitude=%{lon}<extra></extra>",
         "hovertext": [
          "Kirkland",
          "Clarkston",
          "Kennewick",
          "Spokane",
          "Spokane",
          "Union Gap",
          "East Wenatchee",
          "Vancouver",
          "Lacey",
          "Tumwater",
          "Fife",
          "Tacoma",
          "Silverdale",
          "Sequim",
          "Sequim",
          "Puyallup",
          "Marysville",
          "Burlington",
          "Bellingham",
          "Everett",
          "Tukwila",
          "Seattle",
          "Seattle",
          "Woodinville",
          "Lynnwood",
          "Issaquah",
          "Federal Way",
          "Vancouver",
          "Gig Harbor",
          "Covington"
         ],
         "lat": [
          47.681717,
          46.4229672,
          46.225654,
          47.658358,
          47.724927,
          46.562354,
          47.401812,
          45.684942,
          47.05934,
          46.996336,
          47.238297,
          47.224683,
          47.656571,
          48.0770692,
          48.0770692,
          47.156472,
          48.147561,
          48.453882,
          48.7974507,
          47.903556,
          47.445595,
          47.5649224,
          47.77567,
          47.779015,
          47.82549,
          47.5512165,
          47.2869797,
          45.6212994,
          47.3577482,
          47.354838
         ],
         "legendgroup": "Washington",
         "lon": [
          -122.182086,
          -117.0442722,
          -119.235246,
          -117.332852,
          -117.411489,
          -120.499306,
          -120.280459,
          -122.604718,
          -122.760723,
          -122.916699,
          -122.373955,
          -122.469182,
          -122.680673,
          -123.1254206,
          -123.1254206,
          -122.308125,
          -122.191237,
          -122.338038,
          -122.4882889,
          -122.209275,
          -122.24834,
          -122.3304533,
          -122.344819,
          -122.1484548,
          -122.309915,
          -122.0528913,
          -122.3135201,
          -122.4591346,
          -122.6038876,
          -122.121185
         ],
         "marker": {
          "color": "#FF97FF",
          "symbol": "circle"
         },
         "mode": "markers",
         "name": "Washington",
         "showlegend": true,
         "type": "scattergeo"
        },
        {
         "geo": "geo",
         "hovertemplate": "<b>%{hovertext}</b><br><br>State=Wisconsin<br>Latitude=%{lat}<br>Longitude=%{lon}<extra></extra>",
         "hovertext": [
          "Middleton",
          "Grafton"
         ],
         "lat": [
          43.100195,
          43.3246907
         ],
         "legendgroup": "Wisconsin",
         "lon": [
          -89.522751,
          -87.9216153
         ],
         "marker": {
          "color": "#FECB52",
          "symbol": "circle"
         },
         "mode": "markers",
         "name": "Wisconsin",
         "showlegend": true,
         "type": "scattergeo"
        }
       ],
       "layout": {
        "autosize": true,
        "geo": {
         "center": {},
         "domain": {
          "x": [
           0,
           1
          ],
          "y": [
           0,
           1
          ]
         },
         "scope": "usa"
        },
        "legend": {
         "title": {
          "text": "State"
         },
         "tracegroupgap": 0
        },
        "margin": {
         "t": 60
        },
        "template": {
         "data": {
          "bar": [
           {
            "error_x": {
             "color": "#2a3f5f"
            },
            "error_y": {
             "color": "#2a3f5f"
            },
            "marker": {
             "line": {
              "color": "#E5ECF6",
              "width": 0.5
             },
             "pattern": {
              "fillmode": "overlay",
              "size": 10,
              "solidity": 0.2
             }
            },
            "type": "bar"
           }
          ],
          "barpolar": [
           {
            "marker": {
             "line": {
              "color": "#E5ECF6",
              "width": 0.5
             },
             "pattern": {
              "fillmode": "overlay",
              "size": 10,
              "solidity": 0.2
             }
            },
            "type": "barpolar"
           }
          ],
          "carpet": [
           {
            "aaxis": {
             "endlinecolor": "#2a3f5f",
             "gridcolor": "white",
             "linecolor": "white",
             "minorgridcolor": "white",
             "startlinecolor": "#2a3f5f"
            },
            "baxis": {
             "endlinecolor": "#2a3f5f",
             "gridcolor": "white",
             "linecolor": "white",
             "minorgridcolor": "white",
             "startlinecolor": "#2a3f5f"
            },
            "type": "carpet"
           }
          ],
          "choropleth": [
           {
            "colorbar": {
             "outlinewidth": 0,
             "ticks": ""
            },
            "type": "choropleth"
           }
          ],
          "contour": [
           {
            "colorbar": {
             "outlinewidth": 0,
             "ticks": ""
            },
            "colorscale": [
             [
              0,
              "#0d0887"
             ],
             [
              0.1111111111111111,
              "#46039f"
             ],
             [
              0.2222222222222222,
              "#7201a8"
             ],
             [
              0.3333333333333333,
              "#9c179e"
             ],
             [
              0.4444444444444444,
              "#bd3786"
             ],
             [
              0.5555555555555556,
              "#d8576b"
             ],
             [
              0.6666666666666666,
              "#ed7953"
             ],
             [
              0.7777777777777778,
              "#fb9f3a"
             ],
             [
              0.8888888888888888,
              "#fdca26"
             ],
             [
              1,
              "#f0f921"
             ]
            ],
            "type": "contour"
           }
          ],
          "contourcarpet": [
           {
            "colorbar": {
             "outlinewidth": 0,
             "ticks": ""
            },
            "type": "contourcarpet"
           }
          ],
          "heatmap": [
           {
            "colorbar": {
             "outlinewidth": 0,
             "ticks": ""
            },
            "colorscale": [
             [
              0,
              "#0d0887"
             ],
             [
              0.1111111111111111,
              "#46039f"
             ],
             [
              0.2222222222222222,
              "#7201a8"
             ],
             [
              0.3333333333333333,
              "#9c179e"
             ],
             [
              0.4444444444444444,
              "#bd3786"
             ],
             [
              0.5555555555555556,
              "#d8576b"
             ],
             [
              0.6666666666666666,
              "#ed7953"
             ],
             [
              0.7777777777777778,
              "#fb9f3a"
             ],
             [
              0.8888888888888888,
              "#fdca26"
             ],
             [
              1,
              "#f0f921"
             ]
            ],
            "type": "heatmap"
           }
          ],
          "heatmapgl": [
           {
            "colorbar": {
             "outlinewidth": 0,
             "ticks": ""
            },
            "colorscale": [
             [
              0,
              "#0d0887"
             ],
             [
              0.1111111111111111,
              "#46039f"
             ],
             [
              0.2222222222222222,
              "#7201a8"
             ],
             [
              0.3333333333333333,
              "#9c179e"
             ],
             [
              0.4444444444444444,
              "#bd3786"
             ],
             [
              0.5555555555555556,
              "#d8576b"
             ],
             [
              0.6666666666666666,
              "#ed7953"
             ],
             [
              0.7777777777777778,
              "#fb9f3a"
             ],
             [
              0.8888888888888888,
              "#fdca26"
             ],
             [
              1,
              "#f0f921"
             ]
            ],
            "type": "heatmapgl"
           }
          ],
          "histogram": [
           {
            "marker": {
             "pattern": {
              "fillmode": "overlay",
              "size": 10,
              "solidity": 0.2
             }
            },
            "type": "histogram"
           }
          ],
          "histogram2d": [
           {
            "colorbar": {
             "outlinewidth": 0,
             "ticks": ""
            },
            "colorscale": [
             [
              0,
              "#0d0887"
             ],
             [
              0.1111111111111111,
              "#46039f"
             ],
             [
              0.2222222222222222,
              "#7201a8"
             ],
             [
              0.3333333333333333,
              "#9c179e"
             ],
             [
              0.4444444444444444,
              "#bd3786"
             ],
             [
              0.5555555555555556,
              "#d8576b"
             ],
             [
              0.6666666666666666,
              "#ed7953"
             ],
             [
              0.7777777777777778,
              "#fb9f3a"
             ],
             [
              0.8888888888888888,
              "#fdca26"
             ],
             [
              1,
              "#f0f921"
             ]
            ],
            "type": "histogram2d"
           }
          ],
          "histogram2dcontour": [
           {
            "colorbar": {
             "outlinewidth": 0,
             "ticks": ""
            },
            "colorscale": [
             [
              0,
              "#0d0887"
             ],
             [
              0.1111111111111111,
              "#46039f"
             ],
             [
              0.2222222222222222,
              "#7201a8"
             ],
             [
              0.3333333333333333,
              "#9c179e"
             ],
             [
              0.4444444444444444,
              "#bd3786"
             ],
             [
              0.5555555555555556,
              "#d8576b"
             ],
             [
              0.6666666666666666,
              "#ed7953"
             ],
             [
              0.7777777777777778,
              "#fb9f3a"
             ],
             [
              0.8888888888888888,
              "#fdca26"
             ],
             [
              1,
              "#f0f921"
             ]
            ],
            "type": "histogram2dcontour"
           }
          ],
          "mesh3d": [
           {
            "colorbar": {
             "outlinewidth": 0,
             "ticks": ""
            },
            "type": "mesh3d"
           }
          ],
          "parcoords": [
           {
            "line": {
             "colorbar": {
              "outlinewidth": 0,
              "ticks": ""
             }
            },
            "type": "parcoords"
           }
          ],
          "pie": [
           {
            "automargin": true,
            "type": "pie"
           }
          ],
          "scatter": [
           {
            "marker": {
             "colorbar": {
              "outlinewidth": 0,
              "ticks": ""
             }
            },
            "type": "scatter"
           }
          ],
          "scatter3d": [
           {
            "line": {
             "colorbar": {
              "outlinewidth": 0,
              "ticks": ""
             }
            },
            "marker": {
             "colorbar": {
              "outlinewidth": 0,
              "ticks": ""
             }
            },
            "type": "scatter3d"
           }
          ],
          "scattercarpet": [
           {
            "marker": {
             "colorbar": {
              "outlinewidth": 0,
              "ticks": ""
             }
            },
            "type": "scattercarpet"
           }
          ],
          "scattergeo": [
           {
            "marker": {
             "colorbar": {
              "outlinewidth": 0,
              "ticks": ""
             }
            },
            "type": "scattergeo"
           }
          ],
          "scattergl": [
           {
            "marker": {
             "colorbar": {
              "outlinewidth": 0,
              "ticks": ""
             }
            },
            "type": "scattergl"
           }
          ],
          "scattermapbox": [
           {
            "marker": {
             "colorbar": {
              "outlinewidth": 0,
              "ticks": ""
             }
            },
            "type": "scattermapbox"
           }
          ],
          "scatterpolar": [
           {
            "marker": {
             "colorbar": {
              "outlinewidth": 0,
              "ticks": ""
             }
            },
            "type": "scatterpolar"
           }
          ],
          "scatterpolargl": [
           {
            "marker": {
             "colorbar": {
              "outlinewidth": 0,
              "ticks": ""
             }
            },
            "type": "scatterpolargl"
           }
          ],
          "scatterternary": [
           {
            "marker": {
             "colorbar": {
              "outlinewidth": 0,
              "ticks": ""
             }
            },
            "type": "scatterternary"
           }
          ],
          "surface": [
           {
            "colorbar": {
             "outlinewidth": 0,
             "ticks": ""
            },
            "colorscale": [
             [
              0,
              "#0d0887"
             ],
             [
              0.1111111111111111,
              "#46039f"
             ],
             [
              0.2222222222222222,
              "#7201a8"
             ],
             [
              0.3333333333333333,
              "#9c179e"
             ],
             [
              0.4444444444444444,
              "#bd3786"
             ],
             [
              0.5555555555555556,
              "#d8576b"
             ],
             [
              0.6666666666666666,
              "#ed7953"
             ],
             [
              0.7777777777777778,
              "#fb9f3a"
             ],
             [
              0.8888888888888888,
              "#fdca26"
             ],
             [
              1,
              "#f0f921"
             ]
            ],
            "type": "surface"
           }
          ],
          "table": [
           {
            "cells": {
             "fill": {
              "color": "#EBF0F8"
             },
             "line": {
              "color": "white"
             }
            },
            "header": {
             "fill": {
              "color": "#C8D4E3"
             },
             "line": {
              "color": "white"
             }
            },
            "type": "table"
           }
          ]
         },
         "layout": {
          "annotationdefaults": {
           "arrowcolor": "#2a3f5f",
           "arrowhead": 0,
           "arrowwidth": 1
          },
          "autotypenumbers": "strict",
          "coloraxis": {
           "colorbar": {
            "outlinewidth": 0,
            "ticks": ""
           }
          },
          "colorscale": {
           "diverging": [
            [
             0,
             "#8e0152"
            ],
            [
             0.1,
             "#c51b7d"
            ],
            [
             0.2,
             "#de77ae"
            ],
            [
             0.3,
             "#f1b6da"
            ],
            [
             0.4,
             "#fde0ef"
            ],
            [
             0.5,
             "#f7f7f7"
            ],
            [
             0.6,
             "#e6f5d0"
            ],
            [
             0.7,
             "#b8e186"
            ],
            [
             0.8,
             "#7fbc41"
            ],
            [
             0.9,
             "#4d9221"
            ],
            [
             1,
             "#276419"
            ]
           ],
           "sequential": [
            [
             0,
             "#0d0887"
            ],
            [
             0.1111111111111111,
             "#46039f"
            ],
            [
             0.2222222222222222,
             "#7201a8"
            ],
            [
             0.3333333333333333,
             "#9c179e"
            ],
            [
             0.4444444444444444,
             "#bd3786"
            ],
            [
             0.5555555555555556,
             "#d8576b"
            ],
            [
             0.6666666666666666,
             "#ed7953"
            ],
            [
             0.7777777777777778,
             "#fb9f3a"
            ],
            [
             0.8888888888888888,
             "#fdca26"
            ],
            [
             1,
             "#f0f921"
            ]
           ],
           "sequentialminus": [
            [
             0,
             "#0d0887"
            ],
            [
             0.1111111111111111,
             "#46039f"
            ],
            [
             0.2222222222222222,
             "#7201a8"
            ],
            [
             0.3333333333333333,
             "#9c179e"
            ],
            [
             0.4444444444444444,
             "#bd3786"
            ],
            [
             0.5555555555555556,
             "#d8576b"
            ],
            [
             0.6666666666666666,
             "#ed7953"
            ],
            [
             0.7777777777777778,
             "#fb9f3a"
            ],
            [
             0.8888888888888888,
             "#fdca26"
            ],
            [
             1,
             "#f0f921"
            ]
           ]
          },
          "colorway": [
           "#636efa",
           "#EF553B",
           "#00cc96",
           "#ab63fa",
           "#FFA15A",
           "#19d3f3",
           "#FF6692",
           "#B6E880",
           "#FF97FF",
           "#FECB52"
          ],
          "font": {
           "color": "#2a3f5f"
          },
          "geo": {
           "bgcolor": "white",
           "lakecolor": "white",
           "landcolor": "#E5ECF6",
           "showlakes": true,
           "showland": true,
           "subunitcolor": "white"
          },
          "hoverlabel": {
           "align": "left"
          },
          "hovermode": "closest",
          "mapbox": {
           "style": "light"
          },
          "paper_bgcolor": "white",
          "plot_bgcolor": "#E5ECF6",
          "polar": {
           "angularaxis": {
            "gridcolor": "white",
            "linecolor": "white",
            "ticks": ""
           },
           "bgcolor": "#E5ECF6",
           "radialaxis": {
            "gridcolor": "white",
            "linecolor": "white",
            "ticks": ""
           }
          },
          "scene": {
           "xaxis": {
            "backgroundcolor": "#E5ECF6",
            "gridcolor": "white",
            "gridwidth": 2,
            "linecolor": "white",
            "showbackground": true,
            "ticks": "",
            "zerolinecolor": "white"
           },
           "yaxis": {
            "backgroundcolor": "#E5ECF6",
            "gridcolor": "white",
            "gridwidth": 2,
            "linecolor": "white",
            "showbackground": true,
            "ticks": "",
            "zerolinecolor": "white"
           },
           "zaxis": {
            "backgroundcolor": "#E5ECF6",
            "gridcolor": "white",
            "gridwidth": 2,
            "linecolor": "white",
            "showbackground": true,
            "ticks": "",
            "zerolinecolor": "white"
           }
          },
          "shapedefaults": {
           "line": {
            "color": "#2a3f5f"
           }
          },
          "ternary": {
           "aaxis": {
            "gridcolor": "white",
            "linecolor": "white",
            "ticks": ""
           },
           "baxis": {
            "gridcolor": "white",
            "linecolor": "white",
            "ticks": ""
           },
           "bgcolor": "#E5ECF6",
           "caxis": {
            "gridcolor": "white",
            "linecolor": "white",
            "ticks": ""
           }
          },
          "title": {
           "x": 0.05
          },
          "xaxis": {
           "automargin": true,
           "gridcolor": "white",
           "linecolor": "white",
           "ticks": "",
           "title": {
            "standoff": 15
           },
           "zerolinecolor": "white",
           "zerolinewidth": 2
          },
          "yaxis": {
           "automargin": true,
           "gridcolor": "white",
           "linecolor": "white",
           "ticks": "",
           "title": {
            "standoff": 15
           },
           "zerolinecolor": "white",
           "zerolinewidth": 2
          }
         }
        },
        "title": {
         "text": "Costco in the United States",
         "x": 0.5,
         "y": 0.89
        }
       }
      },
      "image/png": "[encoded data removed]",
      "text/html": [
       "<div>                            <div id=\"af3e21a5-9db2-4592-a225-b194e5b3af34\" class=\"plotly-graph-div\" style=\"height:525px; width:100%;\"></div>            <script type=\"text/javascript\">                require([\"plotly\"], function(Plotly) {                    window.PLOTLYENV=window.PLOTLYENV || {};                                    if (document.getElementById(\"af3e21a5-9db2-4592-a225-b194e5b3af34\")) {                    Plotly.newPlot(                        \"af3e21a5-9db2-4592-a225-b194e5b3af34\",                        [{\"geo\":\"geo\",\"hovertemplate\":\"<b>%{hovertext}</b><br><br>State=Alabama<br>Latitude=%{lat}<br>Longitude=%{lon}<extra></extra>\",\"hovertext\":[\"Huntsville\",\"Hoover\",\"Montgomery\"],\"lat\":[34.7430949,33.377649,32.363889],\"legendgroup\":\"Alabama\",\"lon\":[-86.6009553,-86.81242,-86.150884],\"marker\":{\"color\":\"#636efa\",\"symbol\":\"circle\"},\"mode\":\"markers\",\"name\":\"Alabama\",\"showlegend\":true,\"type\":\"scattergeo\"},{\"geo\":\"geo\",\"hovertemplate\":\"<b>%{hovertext}</b><br><br>State=Alaska<br>Latitude=%{lat}<br>Longitude=%{lon}<extra></extra>\",\"hovertext\":[\"Juneau\",\"Anchorage\",\"Anchorage\"],\"lat\":[58.3592,61.143266,61.210815],\"legendgroup\":\"Alaska\",\"lon\":[-134.483,-149.884217,-149.804337],\"marker\":{\"color\":\"#EF553B\",\"symbol\":\"circle\"},\"mode\":\"markers\",\"name\":\"Alaska\",\"showlegend\":true,\"type\":\"scattergeo\"},{\"geo\":\"geo\",\"hovertemplate\":\"<b>%{hovertext}</b><br><br>State=Arizona<br>Latitude=%{lat}<br>Longitude=%{lon}<extra></extra>\",\"hovertext\":[\"Prescott\",\"Tucson\",\"Tucson\",\"Glendale\",\"Gilbert\",\"Tempe\",\"Scottsdale\",\"Gilbert\",\"Chandler\",\"Mesa\",\"Phoenix\",\"Phoenix\",\"Phoenix\",\"Phoenix\",\"Phoenix\",\"Avondale\",\"Phoenix\"],\"lat\":[34.548993,32.3262177,32.2522189,33.643277,33.296095,33.347289,33.6241344,33.376244,33.293696,33.3886808,33.670943,33.659688,33.49179,33.5206919,33.473335,33.467156,33.600961],\"legendgroup\":\"Arizona\",\"lon\":[-112.3954274,-111.0491606,-110.859554,-112.233474,-111.745647,-111.961862,-111.9019118,-111.840765,-111.899509,-111.6675437,-112.028124,-112.115841,-112.128379,-112.095189,-111.985531,-112.274404,-111.983793],\"marker\":{\"color\":\"#00cc96\",\"symbol\":\"circle\"},\"mode\":\"markers\",\"name\":\"Arizona\",\"showlegend\":true,\"type\":\"scattergeo\"},{\"geo\":\"geo\",\"hovertemplate\":\"<b>%{hovertext}</b><br><br>State=California<br>Latitude=%{lat}<br>Longitude=%{lon}<extra></extra>\",\"hovertext\":[\"San Diego\",\"Redding\",\"Chico\",\"Sacramento\",\"Sacramento\",\"Woodland\",\"Rancho Cordova\",\"Roseville\",\"Folsom\",\"Citrus Heights\",\"Eureka\",\"Santa Rosa\",\"Modesto\",\"Merced\",\"Manteca\",\"Stockton\",\"San Jose\",\"San Jose\",\"San Jose\",\"Santa Cruz\",\"Santa Clara\",\"Novato\",\"Richmond\",\"Vallejo\",\"Fairfield\",\"San Leandro\",\"Livermore\",\"Hayward\",\"Fremont\",\"Danville\",\"Antioch\",\"Foster City\",\"San Francisco\",\"Sunnyvale\",\"South San Francisco\",\"South San Francisco\",\"Mountain View\",\"Sand City\",\"Salinas\",\"Fresno\",\"Clovis\",\"Lancaster\",\"Santa Maria\",\"San Luis Obispo\",\"Visalia\",\"Goleta\",\"Oxnard\",\"Yorba Linda\",\"Corona\",\"Garden Grove\",\"Fullerton\",\"Tustin\",\"Tustin\",\"Fountain Valley\",\"Laguna Niguel\",\"San Juan Capistrano\",\"Irvine\",\"Moreno Valley\",\"Lake Elsinore\",\"San Bernardino\",\"Victorville\",\"El Centro\",\"Palm Desert\",\"San Diego\",\"San Diego\",\"Vista\",\"Santee\",\"Poway\",\"Carlsbad\",\"La Mesa\",\"Chula Vista\",\"Chula Vista\",\"Alhambra\",\"San Dimas\",\"Montclair\",\"City of Industry\",\"Rancho Cucamonga\",\"Chino Hills\",\"Azusa\",\"Burbank\",\"Van Nuys\",\"Santa Clarita\",\"Westlake Village\",\"Northridge\",\"Canoga Park\",\"Signal Hill\",\"Lakewood\",\"Norwalk\",\"Montebello\",\"La Habra\",\"Torrance\",\"Inglewood\",\"Marina del Rey\",\"Hawthorne\",\"Los Angeles\",\"Vacaville\",\"Turlock\",\"Tracy\",\"Gilroy\",\"Rohnert Park\",\"Hayward\",\"Redwood City\",\"Fresno\",\"Bakersfield\",\"Bakersfield\",\"Laguna Niguel\",\"Temecula\",\"Fontana\",\"La Quinta\",\"San Diego\",\"San Diego\",\"Pacoima\",\"Cypress\",\"Hawthorne\",\"Commerce\"],\"lat\":[32.7789832,40.586449,39.7214025,38.4677597,38.597139,38.6699409,38.588195,38.78061,38.645206,38.6903,40.7919385,38.4204562,37.7003612,37.3019943,37.784874,38.018791,37.3886293,37.253214,37.309657,36.985104,37.357021,38.087238,37.898774,38.133192,38.215406,37.7181741,37.702588,37.667516,37.5031232,37.78259,38.009119,37.561366,37.770488,37.372027,37.6422308,37.6654356,37.420676,36.6170705,36.703939,36.80989,36.792187,34.66129,34.936541,35.251917,36.292806,34.42789,34.2251071,33.87567,33.8899732,33.773511,33.862449,33.7282,33.699689,33.703448,33.5569565,33.469498,33.6570006,33.935555,33.696337,34.068044,34.5155574,32.8152064,33.7996392,32.987241,32.712739,33.1879309,32.840642,32.93649,33.1201381,32.773971,32.6089545,32.637276,34.089515,34.112139,34.083039,33.994075,34.078576,34.014463,34.131982,34.185739,34.181613,34.4027129,34.152307,34.230765,34.218644,33.8043173,33.850463,33.919958,34.032917,33.932029,33.800813,33.943257,33.992576,33.898805,34.1285583,38.3506756,37.519131,37.7510679,37.008207,38.3527259,37.6163221,37.478656,36.839426,35.297271,35.384837,33.567618,33.521227,34.137557,33.704896,32.8234958,32.816251,34.2725894,33.8031834,33.918618,33.9947586],\"legendgroup\":\"California\",\"lon\":[-117.1269067,-122.345675,-121.8096578,-121.4154069,-121.452409,-121.7259571,-121.263769,-121.267423,-121.109598,-121.29859,-124.1825438,-122.7134804,-121.0671386,-120.4940012,-121.260014,-121.292757,-121.8829132,-121.879999,-121.851571,-122.033615,-121.938843,-122.551076,-122.320125,-122.213745,-122.144911,-122.1809332,-121.812265,-122.10278,-121.9748814,-121.972853,-121.837904,-122.275144,-122.411106,-121.994779,-122.4010744,-122.4490857,-122.095061,-121.8474767,-121.668608,-119.874081,-119.714342,-118.151429,-120.42084,-120.691013,-119.306638,-119.874572,-119.148567,-117.74385,-117.5208947,-117.940271,-117.92211,-117.796294,-117.822618,-117.931978,-117.6788758,-117.677697,-117.7397337,-117.276579,-117.339182,-117.263077,-117.3196428,-115.5700028,-116.3819564,-117.077675,-117.11613,-117.2767568,-116.987356,-117.033125,-117.3165503,-117.024305,-117.0809526,-117.022199,-118.148531,-117.82633,-117.690661,-117.922,-117.5482714,-117.741815,-117.925681,-118.324045,-118.46401,-118.4550432,-118.797131,-118.551069,-118.596119,-118.166725,-118.136453,-118.102519,-118.097463,-117.969786,-118.34993,-118.333856,-118.446821,-118.372745,-118.2636796,-121.9817708,-120.888552,-121.475091,-121.556447,-122.717092,-122.0889509,-122.216527,-119.78774,-119.058275,-119.048452,-117.711571,-117.154362,-117.442672,-116.272801,-117.2282851,-117.153631,-118.4276271,-118.038976,-118.342576,-118.1430614],\"marker\":{\"color\":\"#ab63fa\",\"symbol\":\"circle\"},\"mode\":\"markers\",\"name\":\"California\",\"showlegend\":true,\"type\":\"scattergeo\"},{\"geo\":\"geo\",\"hovertemplate\":\"<b>%{hovertext}</b><br><br>State=Colorado<br>Latitude=%{lat}<br>Longitude=%{lon}<extra></extra>\",\"hovertext\":[\"Gypsum\",\"Colorado Springs\",\"Parker\",\"Littleton\",\"Littleton\",\"Sheridan\",\"Westminster\",\"Superior\",\"Thornton\",\"Aurora\",\"Arvada\",\"Colorado Springs\"],\"lat\":[39.6433872,38.892736,39.5580896,39.561203,39.638285,39.644445,39.862237,39.9576167,39.991358,39.690471,39.790074,38.9037505],\"legendgroup\":\"Colorado\",\"lon\":[-106.8885487,-104.71771,-104.7758852,-104.874753,-105.082856,-105.006451,-105.0661949,-105.1699298,-104.983163,-104.86808,-105.082637,-104.8172136],\"marker\":{\"color\":\"#FFA15A\",\"symbol\":\"circle\"},\"mode\":\"markers\",\"name\":\"Colorado\",\"showlegend\":true,\"type\":\"scattergeo\"},{\"geo\":\"geo\",\"hovertemplate\":\"<b>%{hovertext}</b><br><br>State=Connecticut<br>Latitude=%{lat}<br>Longitude=%{lon}<extra></extra>\",\"hovertext\":[\"Norwalk\",\"Brookfield\",\"Waterbury\",\"Milford\",\"Enfield\"],\"lat\":[41.0919457,41.4422731,41.542672,41.249661,41.9936047],\"legendgroup\":\"Connecticut\",\"lon\":[-73.4515808,-73.4051279,-72.9686675,-73.023977,-72.5754399],\"marker\":{\"color\":\"#19d3f3\",\"symbol\":\"circle\"},\"mode\":\"markers\",\"name\":\"Connecticut\",\"showlegend\":true,\"type\":\"scattergeo\"},{\"geo\":\"geo\",\"hovertemplate\":\"<b>%{hovertext}</b><br><br>State=Delaware<br>Latitude=%{lat}<br>Longitude=%{lon}<extra></extra>\",\"hovertext\":[\"Newark\"],\"lat\":[39.677736],\"legendgroup\":\"Delaware\",\"lon\":[-75.64737],\"marker\":{\"color\":\"#FF6692\",\"symbol\":\"circle\"},\"mode\":\"markers\",\"name\":\"Delaware\",\"showlegend\":true,\"type\":\"scattergeo\"},{\"geo\":\"geo\",\"hovertemplate\":\"<b>%{hovertext}</b><br><br>State=Florida<br>Latitude=%{lat}<br>Longitude=%{lon}<extra></extra>\",\"hovertext\":[\"Boca Raton\",\"Naples\",\"Fort Myers\",\"Fort Myers\",\"Brandon\",\"Lantana\",\"Royal Palm Beach\",\"Lake Park\",\"Davie\",\"Kendall\",\"North Miami Beach\",\"Miami\",\"Pompano Beach\",\"Pembroke Pines\",\"Miami\",\"Orlando\",\"Winter Park\",\"Altamonte Springs\",\"Tallahassee\",\"Jacksonville\",\"Clearwater\"],\"lat\":[26.411955,26.22026,26.489631,26.544447,27.921491,26.5872905,26.6810314,26.8083519,26.0969039,25.655668,25.909564,25.774109,26.273566,26.009617,25.923451,28.404252,28.59907,28.6618672,30.4606461,30.252071,27.9604528],\"legendgroup\":\"Florida\",\"lon\":[-80.1008839,-81.77492,-81.785933,-81.8742089,-82.330936,-80.0726927,-80.2195563,-80.0879667,-80.2509582,-80.412069,-80.156203,-80.330536,-80.148255,-80.360331,-80.298706,-81.40671,-81.30024,-81.4176945,-84.2124709,-81.533776,-82.7275752],\"marker\":{\"color\":\"#B6E880\",\"symbol\":\"circle\"},\"mode\":\"markers\",\"name\":\"Florida\",\"showlegend\":true,\"type\":\"scattergeo\"},{\"geo\":\"geo\",\"hovertemplate\":\"<b>%{hovertext}</b><br><br>State=Georgia<br>Latitude=%{lat}<br>Longitude=%{lon}<extra></extra>\",\"hovertext\":[\"Ringgold\",\"Buford\",\"Atlanta\",\"Atlanta\",\"Morrow\",\"Kennesaw\",\"Duluth\",\"Alpharetta\",\"Atlanta\"],\"lat\":[34.9326477,34.0620378,33.8816153,33.927816,33.572052,34.0092178,33.947764,34.090513,33.8709805],\"legendgroup\":\"Georgia\",\"lon\":[-85.2547988,-83.9943156,-84.4694359,-84.352462,-84.333989,-84.5686483,-84.143039,-84.277902,-84.3350283],\"marker\":{\"color\":\"#FF97FF\",\"symbol\":\"circle\"},\"mode\":\"markers\",\"name\":\"Georgia\",\"showlegend\":true,\"type\":\"scattergeo\"},{\"geo\":\"geo\",\"hovertemplate\":\"<b>%{hovertext}</b><br><br>State=Hawaii<br>Latitude=%{lat}<br>Longitude=%{lon}<extra></extra>\",\"hovertext\":[\"Kailua-Kona (Hawaii)\",\"Honolulu (Oahu)\",\"Waipahu (Oahu)\",\"Lihue\",\"Kahului (Maui)\",\"Kapolei (Oahu)\",\"Iwilei (Oahu)\"],\"lat\":[19.687344,21.282117,21.4188931,21.9665355,20.887082,21.3272958,21.3184739],\"legendgroup\":\"Hawaii\",\"lon\":[-156.017457,-157.7119219,-158.0063848,-159.3799149,-156.451364,-158.0881083,-157.870711],\"marker\":{\"color\":\"#FECB52\",\"symbol\":\"circle\"},\"mode\":\"markers\",\"name\":\"Hawaii\",\"showlegend\":true,\"type\":\"scattergeo\"},{\"geo\":\"geo\",\"hovertemplate\":\"<b>%{hovertext}</b><br><br>State=Idaho<br>Latitude=%{lat}<br>Longitude=%{lon}<extra></extra>\",\"hovertext\":[\"Coeur D\\\\'Alene\",\"Boise\",\"Nampa\",\"Twin Falls\",\"Pocatello\"],\"lat\":[47.7080223,43.585487,43.615175,42.591998,42.905739],\"legendgroup\":\"Idaho\",\"lon\":[-116.7819023,-116.276686,-116.592784,-114.4656395,-112.468931],\"marker\":{\"color\":\"#636efa\",\"symbol\":\"circle\"},\"mode\":\"markers\",\"name\":\"Idaho\",\"showlegend\":true,\"type\":\"scattergeo\"},{\"geo\":\"geo\",\"hovertemplate\":\"<b>%{hovertext}</b><br><br>State=Illinois<br>Latitude=%{lat}<br>Longitude=%{lon}<extra></extra>\",\"hovertext\":[\"Niles\",\"Bedford Park\",\"Chicago\",\"Oak Brook\",\"Orland Park\",\"Schaumburg\",\"Lake in the Hills\",\"Bloomingdale\",\"Lake Zurich\",\"Naperville\",\"Bolingbrook\",\"St. Charles\",\"Melrose Park\",\"Mount Prospect\",\"Mettawa\",\"Glenview\"],\"lat\":[42.014665,41.7600708,41.9297729,41.845569,41.6011911,42.0565401,42.1788808,41.9396832,42.187135,41.7443388,41.7265993,41.9073026,41.9091302,42.0831646,42.240048,42.1090138],\"legendgroup\":\"Illinois\",\"lon\":[-87.7815541,-87.7418497,-87.6770447,-87.964888,-87.8618256,-88.0449252,-88.3387302,-88.1323182,-88.093412,-88.2058422,-88.0325566,-88.3400191,-87.8367543,-87.9332458,-87.9057161,-87.8214507],\"marker\":{\"color\":\"#EF553B\",\"symbol\":\"circle\"},\"mode\":\"markers\",\"name\":\"Illinois\",\"showlegend\":true,\"type\":\"scattergeo\"},{\"geo\":\"geo\",\"hovertemplate\":\"<b>%{hovertext}</b><br><br>State=Indiana<br>Latitude=%{lat}<br>Longitude=%{lon}<extra></extra>\",\"hovertext\":[\"Merrillville\",\"Indianapolis\",\"Castleton\"],\"lat\":[41.4738435,39.916735,39.913779],\"legendgroup\":\"Indiana\",\"lon\":[-87.3218679,-86.226227,-86.061793],\"marker\":{\"color\":\"#00cc96\",\"symbol\":\"circle\"},\"mode\":\"markers\",\"name\":\"Indiana\",\"showlegend\":true,\"type\":\"scattergeo\"},{\"geo\":\"geo\",\"hovertemplate\":\"<b>%{hovertext}</b><br><br>State=Iowa<br>Latitude=%{lat}<br>Longitude=%{lon}<extra></extra>\",\"hovertext\":[\"West Des Moines\"],\"lat\":[41.562811],\"legendgroup\":\"Iowa\",\"lon\":[-93.804976],\"marker\":{\"color\":\"#ab63fa\",\"symbol\":\"circle\"},\"mode\":\"markers\",\"name\":\"Iowa\",\"showlegend\":true,\"type\":\"scattergeo\"},{\"geo\":\"geo\",\"hovertemplate\":\"<b>%{hovertext}</b><br><br>State=Kansas<br>Latitude=%{lat}<br>Longitude=%{lon}<extra></extra>\",\"hovertext\":[\"Lenexa\",\"Overland Park\"],\"lat\":[38.95885,38.906906],\"legendgroup\":\"Kansas\",\"lon\":[-94.733002,-94.670999],\"marker\":{\"color\":\"#FFA15A\",\"symbol\":\"circle\"},\"mode\":\"markers\",\"name\":\"Kansas\",\"showlegend\":true,\"type\":\"scattergeo\"},{\"geo\":\"geo\",\"hovertemplate\":\"<b>%{hovertext}</b><br><br>State=Kentucky<br>Latitude=%{lat}<br>Longitude=%{lon}<extra></extra>\",\"hovertext\":[\"Louisville\"],\"lat\":[38.3163673],\"legendgroup\":\"Kentucky\",\"lon\":[-85.5728641],\"marker\":{\"color\":\"#19d3f3\",\"symbol\":\"circle\"},\"mode\":\"markers\",\"name\":\"Kentucky\",\"showlegend\":true,\"type\":\"scattergeo\"},{\"geo\":\"geo\",\"hovertemplate\":\"<b>%{hovertext}</b><br><br>State=Maryland<br>Latitude=%{lat}<br>Longitude=%{lon}<extra></extra>\",\"hovertext\":[\"Lanham\",\"Frederick\",\"Baltimore\",\"Hanover\",\"Elkridge\",\"Glen Burnie\",\"Gaithersburg\",\"Beltsville\",\"Brandywine\"],\"lat\":[38.9731445,39.4018344,39.358195,39.15582,39.186369,39.2035401,39.155646,37.228312,38.6645584],\"legendgroup\":\"Maryland\",\"lon\":[-76.8160858,-77.4075364,-76.444565,-76.730744,-76.793645,-76.5939428,-77.214124,-77.3903001,-76.8747015],\"marker\":{\"color\":\"#FF6692\",\"symbol\":\"circle\"},\"mode\":\"markers\",\"name\":\"Maryland\",\"showlegend\":true,\"type\":\"scattergeo\"},{\"geo\":\"geo\",\"hovertemplate\":\"<b>%{hovertext}</b><br><br>State=Massachusetts<br>Latitude=%{lat}<br>Longitude=%{lon}<extra></extra>\",\"hovertext\":[\"Waltham\",\"Avon\",\"Dedham\",\"Danvers\",\"West Springfield\",\"Everett\"],\"lat\":[42.395066,42.136598,42.230996,37.226693,42.13216,42.4017251],\"legendgroup\":\"Massachusetts\",\"lon\":[-71.265264,-71.066458,-71.17497,-77.401371,-72.620485,-71.0695264],\"marker\":{\"color\":\"#B6E880\",\"symbol\":\"circle\"},\"mode\":\"markers\",\"name\":\"Massachusetts\",\"showlegend\":true,\"type\":\"scattergeo\"},{\"geo\":\"geo\",\"hovertemplate\":\"<b>%{hovertext}</b><br><br>State=Michigan<br>Latitude=%{lat}<br>Longitude=%{lon}<extra></extra>\",\"hovertext\":[\"Grand Rapids\",\"Wyoming\",\"Auburn Hills\",\"Shelby Township\",\"Bloomfield\",\"Livonia\",\"Livonia\",\"Brighton\",\"Madison Heights\",\"Roseville\",\"Commerce Tnshp\"],\"lat\":[42.910564,42.875818,42.7070854,42.6295851,42.606916,42.432885,42.3813419,42.5044786,42.5161919,42.4959314,42.534006],\"legendgroup\":\"Michigan\",\"lon\":[-85.542713,-85.76385,-83.2963467,-82.98077,-83.293322,-83.430471,-83.332026,-83.7594455,-83.117129,-82.9371897,-83.444799],\"marker\":{\"color\":\"#FF97FF\",\"symbol\":\"circle\"},\"mode\":\"markers\",\"name\":\"Michigan\",\"showlegend\":true,\"type\":\"scattergeo\"},{\"geo\":\"geo\",\"hovertemplate\":\"<b>%{hovertext}</b><br><br>State=Minnesota<br>Latitude=%{lat}<br>Longitude=%{lon}<extra></extra>\",\"hovertext\":[\"Coon Rapids\",\"St. Louis Park\",\"Maple Grove\",\"Eden Prairie\",\"Maplewood\",\"Burnsville\"],\"lat\":[45.1985438,44.9676254,45.09298,44.8603208,45.029375,44.7481179],\"legendgroup\":\"Minnesota\",\"lon\":[-93.3502188,-93.3495534,-93.424382,-93.4358767,-93.039964,-93.2934839],\"marker\":{\"color\":\"#FECB52\",\"symbol\":\"circle\"},\"mode\":\"markers\",\"name\":\"Minnesota\",\"showlegend\":true,\"type\":\"scattergeo\"},{\"geo\":\"geo\",\"hovertemplate\":\"<b>%{hovertext}</b><br><br>State=Missouri<br>Latitude=%{lat}<br>Longitude=%{lon}<extra></extra>\",\"hovertext\":[\"Kansas City\",\"Independence\",\"St. Peters\",\"St. Louis\",\"Manchester\"],\"lat\":[39.0682148,39.0372034,38.797262,38.506798,38.597951],\"legendgroup\":\"Missouri\",\"lon\":[-94.5815625,-94.3551426,-90.607339,-90.3408851,-90.506914],\"marker\":{\"color\":\"#636efa\",\"symbol\":\"circle\"},\"mode\":\"markers\",\"name\":\"Missouri\",\"showlegend\":true,\"type\":\"scattergeo\"},{\"geo\":\"geo\",\"hovertemplate\":\"<b>%{hovertext}</b><br><br>State=Montana<br>Latitude=%{lat}<br>Longitude=%{lon}<extra></extra>\",\"hovertext\":[\"Kalispell\",\"Missoula\",\"Bozeman\",\"Helena\",\"Billings\"],\"lat\":[48.174177,46.89293,45.71334,46.616615,45.7550163],\"legendgroup\":\"Montana\",\"lon\":[-114.29897,-114.037358,-111.070653,-112.0049737,-108.5727142],\"marker\":{\"color\":\"#EF553B\",\"symbol\":\"circle\"},\"mode\":\"markers\",\"name\":\"Montana\",\"showlegend\":true,\"type\":\"scattergeo\"},{\"geo\":\"geo\",\"hovertemplate\":\"<b>%{hovertext}</b><br><br>State=Nebraska<br>Latitude=%{lat}<br>Longitude=%{lon}<extra></extra>\",\"hovertext\":[\"Omaha\"],\"lat\":[41.265224],\"legendgroup\":\"Nebraska\",\"lon\":[-96.10534],\"marker\":{\"color\":\"#00cc96\",\"symbol\":\"circle\"},\"mode\":\"markers\",\"name\":\"Nebraska\",\"showlegend\":true,\"type\":\"scattergeo\"},{\"geo\":\"geo\",\"hovertemplate\":\"<b>%{hovertext}</b><br><br>State=Nevada<br>Latitude=%{lat}<br>Longitude=%{lon}<extra></extra>\",\"hovertext\":[\"Carson City\",\"Reno\",\"Sparks\",\"Las Vegas\",\"Las Vegas\",\"Las Vegas\",\"Henderson\"],\"lat\":[39.1123484,39.503102,39.579204,36.1633476,36.278946,36.1721288,36.06985],\"legendgroup\":\"Nevada\",\"lon\":[-119.8451288,-119.785095,-119.738792,-115.3318905,-115.209445,-115.1608236,-115.037166],\"marker\":{\"color\":\"#ab63fa\",\"symbol\":\"circle\"},\"mode\":\"markers\",\"name\":\"Nevada\",\"showlegend\":true,\"type\":\"scattergeo\"},{\"geo\":\"geo\",\"hovertemplate\":\"<b>%{hovertext}</b><br><br>State=New Hampshire<br>Latitude=%{lat}<br>Longitude=%{lon}<extra></extra>\",\"hovertext\":[\"Nashua\"],\"lat\":[42.7023],\"legendgroup\":\"New Hampshire\",\"lon\":[-71.443126],\"marker\":{\"color\":\"#FFA15A\",\"symbol\":\"circle\"},\"mode\":\"markers\",\"name\":\"New Hampshire\",\"showlegend\":true,\"type\":\"scattergeo\"},{\"geo\":\"geo\",\"hovertemplate\":\"<b>%{hovertext}</b><br><br>State=New Jersey<br>Latitude=%{lat}<br>Longitude=%{lon}<extra></extra>\",\"hovertext\":[\"Edison\",\"Bridgewater\",\"Brick\",\"Mount Laurel\",\"Stafford Township\",\"East Hanover\",\"Wharton\",\"Hazlet\",\"Hackensack\",\"Wayne\",\"Union\",\"Clifton\"],\"lat\":[40.5317305,40.5644881,40.0547573,39.9505868,39.70721,40.8096853,40.906896,40.4194098,40.876239,40.8872413,40.6931,40.830625],\"legendgroup\":\"New Jersey\",\"lon\":[-74.3766237,-74.5553081,-74.1563178,-74.8761132,-74.287661,-74.381266,-74.569445,-74.1705136,-74.038818,-74.2541309,-74.2873,-74.1366964],\"marker\":{\"color\":\"#19d3f3\",\"symbol\":\"circle\"},\"mode\":\"markers\",\"name\":\"New Jersey\",\"showlegend\":true,\"type\":\"scattergeo\"},{\"geo\":\"geo\",\"hovertemplate\":\"<b>%{hovertext}</b><br><br>State=New Mexico<br>Latitude=%{lat}<br>Longitude=%{lon}<extra></extra>\",\"hovertext\":[\"Albuquerque\",\"Albuquerque\",\"Albuquerque\"],\"lat\":[35.068225,35.19547,35.136386],\"legendgroup\":\"New Mexico\",\"lon\":[-106.530385,-106.66139,-106.614209],\"marker\":{\"color\":\"#FF6692\",\"symbol\":\"circle\"},\"mode\":\"markers\",\"name\":\"New Mexico\",\"showlegend\":true,\"type\":\"scattergeo\"},{\"geo\":\"geo\",\"hovertemplate\":\"<b>%{hovertext}</b><br><br>State=New York<br>Latitude=%{lat}<br>Longitude=%{lon}<extra></extra>\",\"hovertext\":[\"Nesconset\",\"Melville\",\"Holbrook\",\"Commack\",\"Westbury\",\"Lawrence\",\"Brooklyn\",\"Long Island City\",\"Nanuet\",\"New Rochelle\",\"Yonkers\",\"Staten Island\",\"Rego Park\",\"Port Chester\",\"New York\"],\"lat\":[40.862057,40.757604,40.773266,40.8067522,40.743347,40.6307824,40.6554813,40.7673216,41.107253,40.896403,40.9749617,40.57268,40.7333304,40.997205,40.7953918],\"legendgroup\":\"New York\",\"lon\":[-73.130236,-73.420634,-73.050016,-73.2865925,-73.601117,-73.7398576,-74.0090742,-73.9375771,-74.025274,-73.7938571,-73.8612905,-74.168663,-73.8635717,-73.661561,-73.9318516],\"marker\":{\"color\":\"#B6E880\",\"symbol\":\"circle\"},\"mode\":\"markers\",\"name\":\"New York\",\"showlegend\":true,\"type\":\"scattergeo\"},{\"geo\":\"geo\",\"hovertemplate\":\"<b>%{hovertext}</b><br><br>State=North Carolina<br>Latitude=%{lat}<br>Longitude=%{lon}<extra></extra>\",\"hovertext\":[\"Wilmington\",\"Charlotte\",\"Matthews\",\"Durham\",\"Raleigh\",\"Greensboro\",\"Winston Salem\"],\"lat\":[34.2471728,35.162075,35.130096,36.028911,35.818255,36.058064,36.064731],\"legendgroup\":\"North Carolina\",\"lon\":[-77.8738996,-80.883958,-80.704742,-78.914527,-78.622315,-79.883838,-80.317952],\"marker\":{\"color\":\"#FF97FF\",\"symbol\":\"circle\"},\"mode\":\"markers\",\"name\":\"North Carolina\",\"showlegend\":true,\"type\":\"scattergeo\"},{\"geo\":\"geo\",\"hovertemplate\":\"<b>%{hovertext}</b><br><br>State=Ohio<br>Latitude=%{lat}<br>Longitude=%{lon}<extra></extra>\",\"hovertext\":[\"Cincinnati\",\"Springdale\",\"Cleveland\",\"Toledo\",\"Columbus\",\"Strongsville\",\"Avon\"],\"lat\":[39.2956999,39.288172,41.5241698,41.6773358,40.150574,41.3130793,41.461881],\"legendgroup\":\"Ohio\",\"lon\":[-84.3032,-84.4510214,-81.4467262,-83.6241301,-82.976965,-81.8162777,-82.012682],\"marker\":{\"color\":\"#FECB52\",\"symbol\":\"circle\"},\"mode\":\"markers\",\"name\":\"Ohio\",\"showlegend\":true,\"type\":\"scattergeo\"},{\"geo\":\"geo\",\"hovertemplate\":\"<b>%{hovertext}</b><br><br>State=Oregon<br>Latitude=%{lat}<br>Longitude=%{lon}<extra></extra>\",\"hovertext\":[\"Bend\",\"Medford\",\"Eugene\",\"Albany\",\"Salem\",\"Portland\",\"Tigard\",\"Hillsboro\",\"Wilsonville\",\"Clackamas\",\"Aloha\",\"Roseburg\",\"Warrenton\"],\"lat\":[44.057267,42.3687759,44.089117,44.6391268,44.918976,45.559288,45.4367116,45.535709,45.332949,45.429738,45.509085,43.2590258,46.1472442],\"legendgroup\":\"Oregon\",\"lon\":[-121.267616,-122.858378,-123.06635,-123.065814,-122.995309,-122.523747,-122.7564796,-122.9355,-122.764093,-122.571376,-122.841919,-123.3513746,-123.9174036],\"marker\":{\"color\":\"#636efa\",\"symbol\":\"circle\"},\"mode\":\"markers\",\"name\":\"Oregon\",\"showlegend\":true,\"type\":\"scattergeo\"},{\"geo\":\"geo\",\"hovertemplate\":\"<b>%{hovertext}</b><br><br>State=Pennsylvania<br>Latitude=%{lat}<br>Longitude=%{lon}<extra></extra>\",\"hovertext\":[\"North Wales\",\"King of Prussia\",\"Lancaster\",\"Harrisburg\",\"Cranberry Township\",\"West Homestead\",\"Pittsburgh\"],\"lat\":[40.2391985,40.091369,40.052357,40.3098913,40.691215,40.4067922,40.4581284],\"legendgroup\":\"Pennsylvania\",\"lon\":[-75.2351214,-75.385931,-76.256924,-76.7996506,-80.107991,-79.9195722,-80.1671087],\"marker\":{\"color\":\"#EF553B\",\"symbol\":\"circle\"},\"mode\":\"markers\",\"name\":\"Pennsylvania\",\"showlegend\":true,\"type\":\"scattergeo\"},{\"geo\":\"geo\",\"hovertemplate\":\"<b>%{hovertext}</b><br><br>State=South Carolina<br>Latitude=%{lat}<br>Longitude=%{lon}<extra></extra>\",\"hovertext\":[\"Greenville\",\"Myrtle Beach\",\"Charleston\",\"Spartanburg\"],\"lat\":[34.8360858,33.705698,32.7953856,34.9370256],\"legendgroup\":\"South Carolina\",\"lon\":[-82.311008,-78.915906,-80.0369654,-81.9906978],\"marker\":{\"color\":\"#00cc96\",\"symbol\":\"circle\"},\"mode\":\"markers\",\"name\":\"South Carolina\",\"showlegend\":true,\"type\":\"scattergeo\"},{\"geo\":\"geo\",\"hovertemplate\":\"<b>%{hovertext}</b><br><br>State=Tennessee<br>Latitude=%{lat}<br>Longitude=%{lon}<extra></extra>\",\"hovertext\":[\"Memphis\",\"Cordova\",\"Nashville\",\"Brentwood\"],\"lat\":[35.0465639,35.19204,36.1392669,35.963436],\"legendgroup\":\"Tennessee\",\"lon\":[-89.7972209,-89.794989,-86.885891,-86.818149],\"marker\":{\"color\":\"#ab63fa\",\"symbol\":\"circle\"},\"mode\":\"markers\",\"name\":\"Tennessee\",\"showlegend\":true,\"type\":\"scattergeo\"},{\"geo\":\"geo\",\"hovertemplate\":\"<b>%{hovertext}</b><br><br>State=Texas<br>Latitude=%{lat}<br>Longitude=%{lon}<extra></extra>\",\"hovertext\":[\"Austin\",\"San Antonio\",\"Selma\",\"Houston\",\"Houston\",\"Houston\",\"Fort Worth\",\"Southlake\",\"Arlington\",\"Plano\",\"Plano\",\"Lewisville\",\"El Paso\",\"San Antonio\",\"Duncanville\",\"Rockwall\"],\"lat\":[30.3968644,29.576287,29.598391,29.9536092,29.787755,29.7327829,32.6775654,32.9419217,32.6846619,33.023989,33.0441379,32.9952011,31.783497,29.611904,32.620946,32.9087304],\"legendgroup\":\"Texas\",\"lon\":[-97.7456423,-98.597156,-98.277915,-95.5468109,-95.529263,-95.4389565,-97.4087829,-97.1121332,-97.1127486,-96.831701,-96.699179,-96.9648545,-106.410297,-98.474805,-96.910279,-96.4454985],\"marker\":{\"color\":\"#FFA15A\",\"symbol\":\"circle\"},\"mode\":\"markers\",\"name\":\"Texas\",\"showlegend\":true,\"type\":\"scattergeo\"},{\"geo\":\"geo\",\"hovertemplate\":\"<b>%{hovertext}</b><br><br>State=Utah<br>Latitude=%{lat}<br>Longitude=%{lon}<extra></extra>\",\"hovertext\":[\"St. George\",\"Ogden\",\"West Valley\",\"Salt Lake City\",\"Orem\",\"Sandy\",\"Lehi\",\"West Bountiful\",\"Murray\"],\"lat\":[37.122515,41.197413,40.6903769,40.730657,40.2822443,40.5506675,40.389719,40.889379,40.6577119],\"legendgroup\":\"Utah\",\"lon\":[-113.523381,-111.9793725,-111.9541263,-111.90294,-111.6798494,-111.8934445,-111.8229955,-111.895108,-111.889873],\"marker\":{\"color\":\"#19d3f3\",\"symbol\":\"circle\"},\"mode\":\"markers\",\"name\":\"Utah\",\"showlegend\":true,\"type\":\"scattergeo\"},{\"geo\":\"geo\",\"hovertemplate\":\"<b>%{hovertext}</b><br><br>State=Vermont<br>Latitude=%{lat}<br>Longitude=%{lon}<extra></extra>\",\"hovertext\":[\"Colchester\"],\"lat\":[44.5034],\"legendgroup\":\"Vermont\",\"lon\":[-73.173988],\"marker\":{\"color\":\"#FF6692\",\"symbol\":\"circle\"},\"mode\":\"markers\",\"name\":\"Vermont\",\"showlegend\":true,\"type\":\"scattergeo\"},{\"geo\":\"geo\",\"hovertemplate\":\"<b>%{hovertext}</b><br><br>State=Virginia<br>Latitude=%{lat}<br>Longitude=%{lon}<extra></extra>\",\"hovertext\":[\"Newport News\",\"Norfolk\",\"Midlothian\",\"Glen Allen\",\"Harrisonburg\",\"Winchester\",\"Arlington\",\"Woodbridge\",\"Springfield\",\"Fairfax\",\"Leesburg\",\"Sterling\",\"Chantilly\",\"Manassas\",\"Fredericksburg\"],\"lat\":[37.106044,36.851561,37.438778,37.642294,38.428597,39.157827,38.8624735,38.642245,38.739883,38.849315,39.115223,39.023821,38.8951069,38.783572,38.293479],\"legendgroup\":\"Virginia\",\"lon\":[-76.496559,-76.199681,-77.587539,-77.561159,-78.85613,-78.157929,-77.0567423,-77.294447,-77.197301,-77.371784,-77.533198,-77.401854,-77.4430209,-77.5164269,-77.515701],\"marker\":{\"color\":\"#B6E880\",\"symbol\":\"circle\"},\"mode\":\"markers\",\"name\":\"Virginia\",\"showlegend\":true,\"type\":\"scattergeo\"},{\"geo\":\"geo\",\"hovertemplate\":\"<b>%{hovertext}</b><br><br>State=Washington<br>Latitude=%{lat}<br>Longitude=%{lon}<extra></extra>\",\"hovertext\":[\"Kirkland\",\"Clarkston\",\"Kennewick\",\"Spokane\",\"Spokane\",\"Union Gap\",\"East Wenatchee\",\"Vancouver\",\"Lacey\",\"Tumwater\",\"Fife\",\"Tacoma\",\"Silverdale\",\"Sequim\",\"Sequim\",\"Puyallup\",\"Marysville\",\"Burlington\",\"Bellingham\",\"Everett\",\"Tukwila\",\"Seattle\",\"Seattle\",\"Woodinville\",\"Lynnwood\",\"Issaquah\",\"Federal Way\",\"Vancouver\",\"Gig Harbor\",\"Covington\"],\"lat\":[47.681717,46.4229672,46.225654,47.658358,47.724927,46.562354,47.401812,45.684942,47.05934,46.996336,47.238297,47.224683,47.656571,48.0770692,48.0770692,47.156472,48.147561,48.453882,48.7974507,47.903556,47.445595,47.5649224,47.77567,47.779015,47.82549,47.5512165,47.2869797,45.6212994,47.3577482,47.354838],\"legendgroup\":\"Washington\",\"lon\":[-122.182086,-117.0442722,-119.235246,-117.332852,-117.411489,-120.499306,-120.280459,-122.604718,-122.760723,-122.916699,-122.373955,-122.469182,-122.680673,-123.1254206,-123.1254206,-122.308125,-122.191237,-122.338038,-122.4882889,-122.209275,-122.24834,-122.3304533,-122.344819,-122.1484548,-122.309915,-122.0528913,-122.3135201,-122.4591346,-122.6038876,-122.121185],\"marker\":{\"color\":\"#FF97FF\",\"symbol\":\"circle\"},\"mode\":\"markers\",\"name\":\"Washington\",\"showlegend\":true,\"type\":\"scattergeo\"},{\"geo\":\"geo\",\"hovertemplate\":\"<b>%{hovertext}</b><br><br>State=Wisconsin<br>Latitude=%{lat}<br>Longitude=%{lon}<extra></extra>\",\"hovertext\":[\"Middleton\",\"Grafton\"],\"lat\":[43.100195,43.3246907],\"legendgroup\":\"Wisconsin\",\"lon\":[-89.522751,-87.9216153],\"marker\":{\"color\":\"#FECB52\",\"symbol\":\"circle\"},\"mode\":\"markers\",\"name\":\"Wisconsin\",\"showlegend\":true,\"type\":\"scattergeo\"}],                        {\"template\":{\"data\":{\"bar\":[{\"error_x\":{\"color\":\"#2a3f5f\"},\"error_y\":{\"color\":\"#2a3f5f\"},\"marker\":{\"line\":{\"color\":\"#E5ECF6\",\"width\":0.5},\"pattern\":{\"fillmode\":\"overlay\",\"size\":10,\"solidity\":0.2}},\"type\":\"bar\"}],\"barpolar\":[{\"marker\":{\"line\":{\"color\":\"#E5ECF6\",\"width\":0.5},\"pattern\":{\"fillmode\":\"overlay\",\"size\":10,\"solidity\":0.2}},\"type\":\"barpolar\"}],\"carpet\":[{\"aaxis\":{\"endlinecolor\":\"#2a3f5f\",\"gridcolor\":\"white\",\"linecolor\":\"white\",\"minorgridcolor\":\"white\",\"startlinecolor\":\"#2a3f5f\"},\"baxis\":{\"endlinecolor\":\"#2a3f5f\",\"gridcolor\":\"white\",\"linecolor\":\"white\",\"minorgridcolor\":\"white\",\"startlinecolor\":\"#2a3f5f\"},\"type\":\"carpet\"}],\"choropleth\":[{\"colorbar\":{\"outlinewidth\":0,\"ticks\":\"\"},\"type\":\"choropleth\"}],\"contour\":[{\"colorbar\":{\"outlinewidth\":0,\"ticks\":\"\"},\"colorscale\":[[0.0,\"#0d0887\"],[0.1111111111111111,\"#46039f\"],[0.2222222222222222,\"#7201a8\"],[0.3333333333333333,\"#9c179e\"],[0.4444444444444444,\"#bd3786\"],[0.5555555555555556,\"#d8576b\"],[0.6666666666666666,\"#ed7953\"],[0.7777777777777778,\"#fb9f3a\"],[0.8888888888888888,\"#fdca26\"],[1.0,\"#f0f921\"]],\"type\":\"contour\"}],\"contourcarpet\":[{\"colorbar\":{\"outlinewidth\":0,\"ticks\":\"\"},\"type\":\"contourcarpet\"}],\"heatmap\":[{\"colorbar\":{\"outlinewidth\":0,\"ticks\":\"\"},\"colorscale\":[[0.0,\"#0d0887\"],[0.1111111111111111,\"#46039f\"],[0.2222222222222222,\"#7201a8\"],[0.3333333333333333,\"#9c179e\"],[0.4444444444444444,\"#bd3786\"],[0.5555555555555556,\"#d8576b\"],[0.6666666666666666,\"#ed7953\"],[0.7777777777777778,\"#fb9f3a\"],[0.8888888888888888,\"#fdca26\"],[1.0,\"#f0f921\"]],\"type\":\"heatmap\"}],\"heatmapgl\":[{\"colorbar\":{\"outlinewidth\":0,\"ticks\":\"\"},\"colorscale\":[[0.0,\"#0d0887\"],[0.1111111111111111,\"#46039f\"],[0.2222222222222222,\"#7201a8\"],[0.3333333333333333,\"#9c179e\"],[0.4444444444444444,\"#bd3786\"],[0.5555555555555556,\"#d8576b\"],[0.6666666666666666,\"#ed7953\"],[0.7777777777777778,\"#fb9f3a\"],[0.8888888888888888,\"#fdca26\"],[1.0,\"#f0f921\"]],\"type\":\"heatmapgl\"}],\"histogram\":[{\"marker\":{\"pattern\":{\"fillmode\":\"overlay\",\"size\":10,\"solidity\":0.2}},\"type\":\"histogram\"}],\"histogram2d\":[{\"colorbar\":{\"outlinewidth\":0,\"ticks\":\"\"},\"colorscale\":[[0.0,\"#0d0887\"],[0.1111111111111111,\"#46039f\"],[0.2222222222222222,\"#7201a8\"],[0.3333333333333333,\"#9c179e\"],[0.4444444444444444,\"#bd3786\"],[0.5555555555555556,\"#d8576b\"],[0.6666666666666666,\"#ed7953\"],[0.7777777777777778,\"#fb9f3a\"],[0.8888888888888888,\"#fdca26\"],[1.0,\"#f0f921\"]],\"type\":\"histogram2d\"}],\"histogram2dcontour\":[{\"colorbar\":{\"outlinewidth\":0,\"ticks\":\"\"},\"colorscale\":[[0.0,\"#0d0887\"],[0.1111111111111111,\"#46039f\"],[0.2222222222222222,\"#7201a8\"],[0.3333333333333333,\"#9c179e\"],[0.4444444444444444,\"#bd3786\"],[0.5555555555555556,\"#d8576b\"],[0.6666666666666666,\"#ed7953\"],[0.7777777777777778,\"#fb9f3a\"],[0.8888888888888888,\"#fdca26\"],[1.0,\"#f0f921\"]],\"type\":\"histogram2dcontour\"}],\"mesh3d\":[{\"colorbar\":{\"outlinewidth\":0,\"ticks\":\"\"},\"type\":\"mesh3d\"}],\"parcoords\":[{\"line\":{\"colorbar\":{\"outlinewidth\":0,\"ticks\":\"\"}},\"type\":\"parcoords\"}],\"pie\":[{\"automargin\":true,\"type\":\"pie\"}],\"scatter\":[{\"marker\":{\"colorbar\":{\"outlinewidth\":0,\"ticks\":\"\"}},\"type\":\"scatter\"}],\"scatter3d\":[{\"line\":{\"colorbar\":{\"outlinewidth\":0,\"ticks\":\"\"}},\"marker\":{\"colorbar\":{\"outlinewidth\":0,\"ticks\":\"\"}},\"type\":\"scatter3d\"}],\"scattercarpet\":[{\"marker\":{\"colorbar\":{\"outlinewidth\":0,\"ticks\":\"\"}},\"type\":\"scattercarpet\"}],\"scattergeo\":[{\"marker\":{\"colorbar\":{\"outlinewidth\":0,\"ticks\":\"\"}},\"type\":\"scattergeo\"}],\"scattergl\":[{\"marker\":{\"colorbar\":{\"outlinewidth\":0,\"ticks\":\"\"}},\"type\":\"scattergl\"}],\"scattermapbox\":[{\"marker\":{\"colorbar\":{\"outlinewidth\":0,\"ticks\":\"\"}},\"type\":\"scattermapbox\"}],\"scatterpolar\":[{\"marker\":{\"colorbar\":{\"outlinewidth\":0,\"ticks\":\"\"}},\"type\":\"scatterpolar\"}],\"scatterpolargl\":[{\"marker\":{\"colorbar\":{\"outlinewidth\":0,\"ticks\":\"\"}},\"type\":\"scatterpolargl\"}],\"scatterternary\":[{\"marker\":{\"colorbar\":{\"outlinewidth\":0,\"ticks\":\"\"}},\"type\":\"scatterternary\"}],\"surface\":[{\"colorbar\":{\"outlinewidth\":0,\"ticks\":\"\"},\"colorscale\":[[0.0,\"#0d0887\"],[0.1111111111111111,\"#46039f\"],[0.2222222222222222,\"#7201a8\"],[0.3333333333333333,\"#9c179e\"],[0.4444444444444444,\"#bd3786\"],[0.5555555555555556,\"#d8576b\"],[0.6666666666666666,\"#ed7953\"],[0.7777777777777778,\"#fb9f3a\"],[0.8888888888888888,\"#fdca26\"],[1.0,\"#f0f921\"]],\"type\":\"surface\"}],\"table\":[{\"cells\":{\"fill\":{\"color\":\"#EBF0F8\"},\"line\":{\"color\":\"white\"}},\"header\":{\"fill\":{\"color\":\"#C8D4E3\"},\"line\":{\"color\":\"white\"}},\"type\":\"table\"}]},\"layout\":{\"annotationdefaults\":{\"arrowcolor\":\"#2a3f5f\",\"arrowhead\":0,\"arrowwidth\":1},\"autotypenumbers\":\"strict\",\"coloraxis\":{\"colorbar\":{\"outlinewidth\":0,\"ticks\":\"\"}},\"colorscale\":{\"diverging\":[[0,\"#8e0152\"],[0.1,\"#c51b7d\"],[0.2,\"#de77ae\"],[0.3,\"#f1b6da\"],[0.4,\"#fde0ef\"],[0.5,\"#f7f7f7\"],[0.6,\"#e6f5d0\"],[0.7,\"#b8e186\"],[0.8,\"#7fbc41\"],[0.9,\"#4d9221\"],[1,\"#276419\"]],\"sequential\":[[0.0,\"#0d0887\"],[0.1111111111111111,\"#46039f\"],[0.2222222222222222,\"#7201a8\"],[0.3333333333333333,\"#9c179e\"],[0.4444444444444444,\"#bd3786\"],[0.5555555555555556,\"#d8576b\"],[0.6666666666666666,\"#ed7953\"],[0.7777777777777778,\"#fb9f3a\"],[0.8888888888888888,\"#fdca26\"],[1.0,\"#f0f921\"]],\"sequentialminus\":[[0.0,\"#0d0887\"],[0.1111111111111111,\"#46039f\"],[0.2222222222222222,\"#7201a8\"],[0.3333333333333333,\"#9c179e\"],[0.4444444444444444,\"#bd3786\"],[0.5555555555555556,\"#d8576b\"],[0.6666666666666666,\"#ed7953\"],[0.7777777777777778,\"#fb9f3a\"],[0.8888888888888888,\"#fdca26\"],[1.0,\"#f0f921\"]]},\"colorway\":[\"#636efa\",\"#EF553B\",\"#00cc96\",\"#ab63fa\",\"#FFA15A\",\"#19d3f3\",\"#FF6692\",\"#B6E880\",\"#FF97FF\",\"#FECB52\"],\"font\":{\"color\":\"#2a3f5f\"},\"geo\":{\"bgcolor\":\"white\",\"lakecolor\":\"white\",\"landcolor\":\"#E5ECF6\",\"showlakes\":true,\"showland\":true,\"subunitcolor\":\"white\"},\"hoverlabel\":{\"align\":\"left\"},\"hovermode\":\"closest\",\"mapbox\":{\"style\":\"light\"},\"paper_bgcolor\":\"white\",\"plot_bgcolor\":\"#E5ECF6\",\"polar\":{\"angularaxis\":{\"gridcolor\":\"white\",\"linecolor\":\"white\",\"ticks\":\"\"},\"bgcolor\":\"#E5ECF6\",\"radialaxis\":{\"gridcolor\":\"white\",\"linecolor\":\"white\",\"ticks\":\"\"}},\"scene\":{\"xaxis\":{\"backgroundcolor\":\"#E5ECF6\",\"gridcolor\":\"white\",\"gridwidth\":2,\"linecolor\":\"white\",\"showbackground\":true,\"ticks\":\"\",\"zerolinecolor\":\"white\"},\"yaxis\":{\"backgroundcolor\":\"#E5ECF6\",\"gridcolor\":\"white\",\"gridwidth\":2,\"linecolor\":\"white\",\"showbackground\":true,\"ticks\":\"\",\"zerolinecolor\":\"white\"},\"zaxis\":{\"backgroundcolor\":\"#E5ECF6\",\"gridcolor\":\"white\",\"gridwidth\":2,\"linecolor\":\"white\",\"showbackground\":true,\"ticks\":\"\",\"zerolinecolor\":\"white\"}},\"shapedefaults\":{\"line\":{\"color\":\"#2a3f5f\"}},\"ternary\":{\"aaxis\":{\"gridcolor\":\"white\",\"linecolor\":\"white\",\"ticks\":\"\"},\"baxis\":{\"gridcolor\":\"white\",\"linecolor\":\"white\",\"ticks\":\"\"},\"bgcolor\":\"#E5ECF6\",\"caxis\":{\"gridcolor\":\"white\",\"linecolor\":\"white\",\"ticks\":\"\"}},\"title\":{\"x\":0.05},\"xaxis\":{\"automargin\":true,\"gridcolor\":\"white\",\"linecolor\":\"white\",\"ticks\":\"\",\"title\":{\"standoff\":15},\"zerolinecolor\":\"white\",\"zerolinewidth\":2},\"yaxis\":{\"automargin\":true,\"gridcolor\":\"white\",\"linecolor\":\"white\",\"ticks\":\"\",\"title\":{\"standoff\":15},\"zerolinecolor\":\"white\",\"zerolinewidth\":2}}},\"geo\":{\"domain\":{\"x\":[0.0,1.0],\"y\":[0.0,1.0]},\"center\":{},\"scope\":\"usa\"},\"legend\":{\"title\":{\"text\":\"State\"},\"tracegroupgap\":0},\"margin\":{\"t\":60},\"title\":{\"text\":\"Costco in the United States\",\"x\":0.5,\"y\":0.89}},                        {\"responsive\": true}                    ).then(function(){\n",
       "                            \n",
       "var gd = document.getElementById('af3e21a5-9db2-4592-a225-b194e5b3af34');\n",
       "var x = new MutationObserver(function (mutations, observer) {{\n",
       "        var display = window.getComputedStyle(gd).display;\n",
       "        if (!display || display === 'none') {{\n",
       "            console.log([gd, 'removed!']);\n",
       "            Plotly.purge(gd);\n",
       "            observer.disconnect();\n",
       "        }}\n",
       "}});\n",
       "\n",
       "// Listen for the removal of the full notebook cells\n",
       "var notebookContainer = gd.closest('#notebook-container');\n",
       "if (notebookContainer) {{\n",
       "    x.observe(notebookContainer, {childList: true});\n",
       "}}\n",
       "\n",
       "// Listen for the clearing of the current output cell\n",
       "var outputEl = gd.closest('.output');\n",
       "if (outputEl) {{\n",
       "    x.observe(outputEl, {childList: true});\n",
       "}}\n",
       "\n",
       "                        })                };                });            </script>        </div>"
      ]
     },
     "metadata": {},
     "output_type": "display_data"
    }
   ],
   "source": [
    "# Creating Spatial map using Plotly \n",
    "fig = px.scatter_geo(costco_df,lat='Latitude',lon='Longitude', hover_name=\"City\", scope=\"usa\", color='State')\n",
    "\n",
    "# Chart title\n",
    "fig.update_layout(title = 'Costco in the United States', title_x=0.5, title_y=0.89)\n",
    "\n",
    "# Display spatial chart\n",
    "fig.show()"
   ]
  },
  {
   "cell_type": "code",
   "execution_count": 83,
   "id": "218a2633-af36-4700-a95f-ab75ae3c0585",
   "metadata": {},
   "outputs": [
    {
     "data": {
      "text/plain": [
       "<Figure size 720x1080 with 0 Axes>"
      ]
     },
     "metadata": {},
     "output_type": "display_data"
    },
    {
     "data": {
      "image/png": "[encoded data removed]",
      "text/plain": [
       "<Figure size 432x288 with 2 Axes>"
      ]
     },
     "metadata": {
      "needs_background": "light"
     },
     "output_type": "display_data"
    }
   ],
   "source": [
    "# Creating a contour plot\n",
    "\n",
    "# getting a subset of the original dataframe to contain only numerical columns\n",
    "columns = list(ppg_df.columns)[1:]\n",
    "test_df = ppg_df[columns]\n",
    "\n",
    "# Specifying x,y, and z coordinates\n",
    "x = np.arange(len(test_df.columns))\n",
    "y = np.arange(len(test_df.index))\n",
    "X, Y = np.meshgrid(x, y)\n",
    "fig, ax = plt.subplots()\n",
    "cs = ax.contourf(X, Y, test_df.values, cmap = 'jet')\n",
    "plt.colorbar(cs)\n",
    "\n",
    "# Display contour plot\n",
    "plt.title('Contour Plot')\n",
    "plt.show()"
   ]
  },
  {
   "cell_type": "code",
   "execution_count": null,
   "id": "0d3c0964-718f-4680-b72f-9f5093dfef56",
   "metadata": {},
   "outputs": [],
   "source": []
  }
 ],
 "metadata": {
  "kernelspec": {
   "display_name": "Python 3 (ipykernel)",
   "language": "python",
   "name": "python3"
  },
  "language_info": {
   "codemirror_mode": {
    "name": "ipython",
    "version": 3
   },
   "file_extension": ".py",
   "mimetype": "text/x-python",
   "name": "python",
   "nbconvert_exporter": "python",
   "pygments_lexer": "ipython3",
   "version": "3.9.12"
  }
 },
 "nbformat": 4,
 "nbformat_minor": 5
}
