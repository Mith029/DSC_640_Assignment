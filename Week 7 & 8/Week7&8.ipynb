{
 "cells": [
  {
   "cell_type": "code",
   "execution_count": 5,
   "id": "aab4b710-5ae7-41a3-9c30-7d78c72aa461",
   "metadata": {},
   "outputs": [],
   "source": [
    "# Mithil Patel\n",
    "# DSC 630 - Week 7 & 8 Assignment\n",
    "# 02/08/2023\n",
    "\n",
    "# Import libraries\n",
    "import pandas as pd\n",
    "import matplotlib.pyplot as plt\n",
    "import plotly.express as px"
   ]
  },
  {
   "cell_type": "code",
   "execution_count": 3,
   "id": "648adc31-27b3-4e02-bdcf-6ba0384053f5",
   "metadata": {},
   "outputs": [
    {
     "data": {
      "text/html": [
       "<div>\n",
       "<style scoped>\n",
       "    .dataframe tbody tr th:only-of-type {\n",
       "        vertical-align: middle;\n",
       "    }\n",
       "\n",
       "    .dataframe tbody tr th {\n",
       "        vertical-align: top;\n",
       "    }\n",
       "\n",
       "    .dataframe thead th {\n",
       "        text-align: right;\n",
       "    }\n",
       "</style>\n",
       "<table border=\"1\" class=\"dataframe\">\n",
       "  <thead>\n",
       "    <tr style=\"text-align: right;\">\n",
       "      <th></th>\n",
       "      <th>state</th>\n",
       "      <th>murder</th>\n",
       "      <th>forcible_rape</th>\n",
       "      <th>robbery</th>\n",
       "      <th>aggravated_assault</th>\n",
       "      <th>burglary</th>\n",
       "      <th>larceny_theft</th>\n",
       "      <th>motor_vehicle_theft</th>\n",
       "      <th>population</th>\n",
       "    </tr>\n",
       "  </thead>\n",
       "  <tbody>\n",
       "    <tr>\n",
       "      <th>8</th>\n",
       "      <td>Delaware</td>\n",
       "      <td>4.4</td>\n",
       "      <td>44.7</td>\n",
       "      <td>154.8</td>\n",
       "      <td>428.2</td>\n",
       "      <td>688.9</td>\n",
       "      <td>2144.0</td>\n",
       "      <td>278.5</td>\n",
       "      <td>839906</td>\n",
       "    </tr>\n",
       "    <tr>\n",
       "      <th>44</th>\n",
       "      <td>Texas</td>\n",
       "      <td>6.2</td>\n",
       "      <td>37.2</td>\n",
       "      <td>156.6</td>\n",
       "      <td>329.8</td>\n",
       "      <td>961.6</td>\n",
       "      <td>2961.7</td>\n",
       "      <td>408.7</td>\n",
       "      <td>22801920</td>\n",
       "    </tr>\n",
       "    <tr>\n",
       "      <th>28</th>\n",
       "      <td>Nebraska</td>\n",
       "      <td>2.5</td>\n",
       "      <td>32.9</td>\n",
       "      <td>59.1</td>\n",
       "      <td>192.5</td>\n",
       "      <td>532.4</td>\n",
       "      <td>2574.3</td>\n",
       "      <td>316.5</td>\n",
       "      <td>1751721</td>\n",
       "    </tr>\n",
       "    <tr>\n",
       "      <th>19</th>\n",
       "      <td>Louisiana</td>\n",
       "      <td>9.9</td>\n",
       "      <td>31.4</td>\n",
       "      <td>118.0</td>\n",
       "      <td>435.1</td>\n",
       "      <td>870.6</td>\n",
       "      <td>2494.5</td>\n",
       "      <td>318.1</td>\n",
       "      <td>4497691</td>\n",
       "    </tr>\n",
       "    <tr>\n",
       "      <th>23</th>\n",
       "      <td>Michigan</td>\n",
       "      <td>6.1</td>\n",
       "      <td>51.3</td>\n",
       "      <td>131.8</td>\n",
       "      <td>362.9</td>\n",
       "      <td>696.8</td>\n",
       "      <td>1917.8</td>\n",
       "      <td>476.5</td>\n",
       "      <td>10090554</td>\n",
       "    </tr>\n",
       "  </tbody>\n",
       "</table>\n",
       "</div>"
      ],
      "text/plain": [
       "        state  murder  forcible_rape  robbery  aggravated_assault  burglary  \\\n",
       "8    Delaware     4.4           44.7    154.8               428.2     688.9   \n",
       "44      Texas     6.2           37.2    156.6               329.8     961.6   \n",
       "28   Nebraska     2.5           32.9     59.1               192.5     532.4   \n",
       "19  Louisiana     9.9           31.4    118.0               435.1     870.6   \n",
       "23   Michigan     6.1           51.3    131.8               362.9     696.8   \n",
       "\n",
       "    larceny_theft  motor_vehicle_theft  population  \n",
       "8          2144.0                278.5      839906  \n",
       "44         2961.7                408.7    22801920  \n",
       "28         2574.3                316.5     1751721  \n",
       "19         2494.5                318.1     4497691  \n",
       "23         1917.8                476.5    10090554  "
      ]
     },
     "execution_count": 3,
     "metadata": {},
     "output_type": "execute_result"
    }
   ],
   "source": [
    "# Importing dataframe\n",
    "crime_df = pd.read_csv(\"crimerates-by-state-2005.csv\")\n",
    "crime_df.sample(5)"
   ]
  },
  {
   "cell_type": "code",
   "execution_count": 15,
   "id": "08669d73-42a1-4481-84d4-3a726a502bd0",
   "metadata": {},
   "outputs": [
    {
     "data": {
      "text/plain": [
       "<function matplotlib.pyplot.show(close=None, block=None)>"
      ]
     },
     "execution_count": 15,
     "metadata": {},
     "output_type": "execute_result"
    },
    {
     "data": {
      "image/png": "[encoded data removed]",
      "text/plain": [
       "<Figure size 576x432 with 1 Axes>"
      ]
     },
     "metadata": {
      "needs_background": "light"
     },
     "output_type": "display_data"
    }
   ],
   "source": [
    "# Creating a scatter plot\n",
    "plt.scatter(crime_df.robbery, crime_df.burglary, c= \"red\")\n",
    "\n",
    "# labeling x & y axis\n",
    "plt.xlabel('Robbery')\n",
    "plt.ylabel('Burglary')\n",
    " \n",
    "# plot title\n",
    "plt.title(\"Python: Scatter plot\")\n",
    "plt.gcf().set_size_inches(8,6)\n",
    "plt.show"
   ]
  },
  {
   "cell_type": "code",
   "execution_count": 10,
   "id": "434ae592-3371-40ba-900e-9332d426e8e7",
   "metadata": {},
   "outputs": [
    {
     "data": {
      "application/vnd.plotly.v1+json": {
       "config": {
        "plotlyServerURL": "https://plot.ly"
       },
       "data": [
        {
         "hovertemplate": "state=United States<br>burglary=%{x}<br>larceny_theft=%{y}<br>population=%{marker.size}<extra></extra>",
         "legendgroup": "United States",
         "marker": {
          "color": "#636efa",
          "size": [
           295753151
          ],
          "sizemode": "area",
          "sizeref": 82153.65305555555,
          "symbol": "circle"
         },
         "mode": "markers",
         "name": "United States",
         "orientation": "v",
         "showlegend": true,
         "type": "scatter",
         "x": [
          726.7
         ],
         "xaxis": "x",
         "y": [
          2286.3
         ],
         "yaxis": "y"
        },
        {
         "hovertemplate": "state=Alabama<br>burglary=%{x}<br>larceny_theft=%{y}<br>population=%{marker.size}<extra></extra>",
         "legendgroup": "Alabama",
         "marker": {
          "color": "#EF553B",
          "size": [
           4545049
          ],
          "sizemode": "area",
          "sizeref": 82153.65305555555,
          "symbol": "circle"
         },
         "mode": "markers",
         "name": "Alabama",
         "orientation": "v",
         "showlegend": true,
         "type": "scatter",
         "x": [
          953.8
         ],
         "xaxis": "x",
         "y": [
          2650
         ],
         "yaxis": "y"
        },
        {
         "hovertemplate": "state=Alaska<br>burglary=%{x}<br>larceny_theft=%{y}<br>population=%{marker.size}<extra></extra>",
         "legendgroup": "Alaska",
         "marker": {
          "color": "#00cc96",
          "size": [
           669488
          ],
          "sizemode": "area",
          "sizeref": 82153.65305555555,
          "symbol": "circle"
         },
         "mode": "markers",
         "name": "Alaska",
         "orientation": "v",
         "showlegend": true,
         "type": "scatter",
         "x": [
          622.5
         ],
         "xaxis": "x",
         "y": [
          2599.1
         ],
         "yaxis": "y"
        },
        {
         "hovertemplate": "state=Arizona<br>burglary=%{x}<br>larceny_theft=%{y}<br>population=%{marker.size}<extra></extra>",
         "legendgroup": "Arizona",
         "marker": {
          "color": "#ab63fa",
          "size": [
           5974834
          ],
          "sizemode": "area",
          "sizeref": 82153.65305555555,
          "symbol": "circle"
         },
         "mode": "markers",
         "name": "Arizona",
         "orientation": "v",
         "showlegend": true,
         "type": "scatter",
         "x": [
          948.4
         ],
         "xaxis": "x",
         "y": [
          2965.2
         ],
         "yaxis": "y"
        },
        {
         "hovertemplate": "state=Arkansas<br>burglary=%{x}<br>larceny_theft=%{y}<br>population=%{marker.size}<extra></extra>",
         "legendgroup": "Arkansas",
         "marker": {
          "color": "#FFA15A",
          "size": [
           2776221
          ],
          "sizemode": "area",
          "sizeref": 82153.65305555555,
          "symbol": "circle"
         },
         "mode": "markers",
         "name": "Arkansas",
         "orientation": "v",
         "showlegend": true,
         "type": "scatter",
         "x": [
          1084.6
         ],
         "xaxis": "x",
         "y": [
          2711.2
         ],
         "yaxis": "y"
        },
        {
         "hovertemplate": "state=California<br>burglary=%{x}<br>larceny_theft=%{y}<br>population=%{marker.size}<extra></extra>",
         "legendgroup": "California",
         "marker": {
          "color": "#19d3f3",
          "size": [
           35795255
          ],
          "sizemode": "area",
          "sizeref": 82153.65305555555,
          "symbol": "circle"
         },
         "mode": "markers",
         "name": "California",
         "orientation": "v",
         "showlegend": true,
         "type": "scatter",
         "x": [
          693.3
         ],
         "xaxis": "x",
         "y": [
          1916.5
         ],
         "yaxis": "y"
        },
        {
         "hovertemplate": "state=Colorado<br>burglary=%{x}<br>larceny_theft=%{y}<br>population=%{marker.size}<extra></extra>",
         "legendgroup": "Colorado",
         "marker": {
          "color": "#FF6692",
          "size": [
           4660780
          ],
          "sizemode": "area",
          "sizeref": 82153.65305555555,
          "symbol": "circle"
         },
         "mode": "markers",
         "name": "Colorado",
         "orientation": "v",
         "showlegend": true,
         "type": "scatter",
         "x": [
          744.8
         ],
         "xaxis": "x",
         "y": [
          2735.2
         ],
         "yaxis": "y"
        },
        {
         "hovertemplate": "state=Connecticut<br>burglary=%{x}<br>larceny_theft=%{y}<br>population=%{marker.size}<extra></extra>",
         "legendgroup": "Connecticut",
         "marker": {
          "color": "#B6E880",
          "size": [
           3477416
          ],
          "sizemode": "area",
          "sizeref": 82153.65305555555,
          "symbol": "circle"
         },
         "mode": "markers",
         "name": "Connecticut",
         "orientation": "v",
         "showlegend": true,
         "type": "scatter",
         "x": [
          437.1
         ],
         "xaxis": "x",
         "y": [
          1824.1
         ],
         "yaxis": "y"
        },
        {
         "hovertemplate": "state=Delaware<br>burglary=%{x}<br>larceny_theft=%{y}<br>population=%{marker.size}<extra></extra>",
         "legendgroup": "Delaware",
         "marker": {
          "color": "#FF97FF",
          "size": [
           839906
          ],
          "sizemode": "area",
          "sizeref": 82153.65305555555,
          "symbol": "circle"
         },
         "mode": "markers",
         "name": "Delaware",
         "orientation": "v",
         "showlegend": true,
         "type": "scatter",
         "x": [
          688.9
         ],
         "xaxis": "x",
         "y": [
          2144
         ],
         "yaxis": "y"
        },
        {
         "hovertemplate": "state=District of Columbia<br>burglary=%{x}<br>larceny_theft=%{y}<br>population=%{marker.size}<extra></extra>",
         "legendgroup": "District of Columbia",
         "marker": {
          "color": "#FECB52",
          "size": [
           582049
          ],
          "sizemode": "area",
          "sizeref": 82153.65305555555,
          "symbol": "circle"
         },
         "mode": "markers",
         "name": "District of Columbia",
         "orientation": "v",
         "showlegend": true,
         "type": "scatter",
         "x": [
          649.7
         ],
         "xaxis": "x",
         "y": [
          2694.9
         ],
         "yaxis": "y"
        },
        {
         "hovertemplate": "state=Florida<br>burglary=%{x}<br>larceny_theft=%{y}<br>population=%{marker.size}<extra></extra>",
         "legendgroup": "Florida",
         "marker": {
          "color": "#636efa",
          "size": [
           17783868
          ],
          "sizemode": "area",
          "sizeref": 82153.65305555555,
          "symbol": "circle"
         },
         "mode": "markers",
         "name": "Florida",
         "orientation": "v",
         "showlegend": true,
         "type": "scatter",
         "x": [
          926.3
         ],
         "xaxis": "x",
         "y": [
          2658.3
         ],
         "yaxis": "y"
        },
        {
         "hovertemplate": "state=Georgia<br>burglary=%{x}<br>larceny_theft=%{y}<br>population=%{marker.size}<extra></extra>",
         "legendgroup": "Georgia",
         "marker": {
          "color": "#EF553B",
          "size": [
           9097428
          ],
          "sizemode": "area",
          "sizeref": 82153.65305555555,
          "symbol": "circle"
         },
         "mode": "markers",
         "name": "Georgia",
         "orientation": "v",
         "showlegend": true,
         "type": "scatter",
         "x": [
          931
         ],
         "xaxis": "x",
         "y": [
          2751.1
         ],
         "yaxis": "y"
        },
        {
         "hovertemplate": "state=Hawaii<br>burglary=%{x}<br>larceny_theft=%{y}<br>population=%{marker.size}<extra></extra>",
         "legendgroup": "Hawaii",
         "marker": {
          "color": "#00cc96",
          "size": [
           1266117
          ],
          "sizemode": "area",
          "sizeref": 82153.65305555555,
          "symbol": "circle"
         },
         "mode": "markers",
         "name": "Hawaii",
         "orientation": "v",
         "showlegend": true,
         "type": "scatter",
         "x": [
          767.9
         ],
         "xaxis": "x",
         "y": [
          3308.4
         ],
         "yaxis": "y"
        },
        {
         "hovertemplate": "state=Idaho<br>burglary=%{x}<br>larceny_theft=%{y}<br>population=%{marker.size}<extra></extra>",
         "legendgroup": "Idaho",
         "marker": {
          "color": "#ab63fa",
          "size": [
           1425862
          ],
          "sizemode": "area",
          "sizeref": 82153.65305555555,
          "symbol": "circle"
         },
         "mode": "markers",
         "name": "Idaho",
         "orientation": "v",
         "showlegend": true,
         "type": "scatter",
         "x": [
          564.4
         ],
         "xaxis": "x",
         "y": [
          1931.7
         ],
         "yaxis": "y"
        },
        {
         "hovertemplate": "state=Illinois<br>burglary=%{x}<br>larceny_theft=%{y}<br>population=%{marker.size}<extra></extra>",
         "legendgroup": "Illinois",
         "marker": {
          "color": "#FFA15A",
          "size": [
           12674452
          ],
          "sizemode": "area",
          "sizeref": 82153.65305555555,
          "symbol": "circle"
         },
         "mode": "markers",
         "name": "Illinois",
         "orientation": "v",
         "showlegend": true,
         "type": "scatter",
         "x": [
          606.9
         ],
         "xaxis": "x",
         "y": [
          2164.8
         ],
         "yaxis": "y"
        },
        {
         "hovertemplate": "state=Indiana<br>burglary=%{x}<br>larceny_theft=%{y}<br>population=%{marker.size}<extra></extra>",
         "legendgroup": "Indiana",
         "marker": {
          "color": "#19d3f3",
          "size": [
           6253120
          ],
          "sizemode": "area",
          "sizeref": 82153.65305555555,
          "symbol": "circle"
         },
         "mode": "markers",
         "name": "Indiana",
         "orientation": "v",
         "showlegend": true,
         "type": "scatter",
         "x": [
          697.6
         ],
         "xaxis": "x",
         "y": [
          2412
         ],
         "yaxis": "y"
        },
        {
         "hovertemplate": "state=Iowa<br>burglary=%{x}<br>larceny_theft=%{y}<br>population=%{marker.size}<extra></extra>",
         "legendgroup": "Iowa",
         "marker": {
          "color": "#FF6692",
          "size": [
           2949450
          ],
          "sizemode": "area",
          "sizeref": 82153.65305555555,
          "symbol": "circle"
         },
         "mode": "markers",
         "name": "Iowa",
         "orientation": "v",
         "showlegend": true,
         "type": "scatter",
         "x": [
          606.4
         ],
         "xaxis": "x",
         "y": [
          2042.7
         ],
         "yaxis": "y"
        },
        {
         "hovertemplate": "state=Kansas<br>burglary=%{x}<br>larceny_theft=%{y}<br>population=%{marker.size}<extra></extra>",
         "legendgroup": "Kansas",
         "marker": {
          "color": "#B6E880",
          "size": [
           2741771
          ],
          "sizemode": "area",
          "sizeref": 82153.65305555555,
          "symbol": "circle"
         },
         "mode": "markers",
         "name": "Kansas",
         "orientation": "v",
         "showlegend": true,
         "type": "scatter",
         "x": [
          689.2
         ],
         "xaxis": "x",
         "y": [
          2758.1
         ],
         "yaxis": "y"
        },
        {
         "hovertemplate": "state=Kentucky<br>burglary=%{x}<br>larceny_theft=%{y}<br>population=%{marker.size}<extra></extra>",
         "legendgroup": "Kentucky",
         "marker": {
          "color": "#FF97FF",
          "size": [
           4182293
          ],
          "sizemode": "area",
          "sizeref": 82153.65305555555,
          "symbol": "circle"
         },
         "mode": "markers",
         "name": "Kentucky",
         "orientation": "v",
         "showlegend": true,
         "type": "scatter",
         "x": [
          634
         ],
         "xaxis": "x",
         "y": [
          1685.8
         ],
         "yaxis": "y"
        },
        {
         "hovertemplate": "state=Louisiana<br>burglary=%{x}<br>larceny_theft=%{y}<br>population=%{marker.size}<extra></extra>",
         "legendgroup": "Louisiana",
         "marker": {
          "color": "#FECB52",
          "size": [
           4497691
          ],
          "sizemode": "area",
          "sizeref": 82153.65305555555,
          "symbol": "circle"
         },
         "mode": "markers",
         "name": "Louisiana",
         "orientation": "v",
         "showlegend": true,
         "type": "scatter",
         "x": [
          870.6
         ],
         "xaxis": "x",
         "y": [
          2494.5
         ],
         "yaxis": "y"
        },
        {
         "hovertemplate": "state=Maine<br>burglary=%{x}<br>larceny_theft=%{y}<br>population=%{marker.size}<extra></extra>",
         "legendgroup": "Maine",
         "marker": {
          "color": "#636efa",
          "size": [
           1311631
          ],
          "sizemode": "area",
          "sizeref": 82153.65305555555,
          "symbol": "circle"
         },
         "mode": "markers",
         "name": "Maine",
         "orientation": "v",
         "showlegend": true,
         "type": "scatter",
         "x": [
          478.5
         ],
         "xaxis": "x",
         "y": [
          1832.6
         ],
         "yaxis": "y"
        },
        {
         "hovertemplate": "state=Maryland<br>burglary=%{x}<br>larceny_theft=%{y}<br>population=%{marker.size}<extra></extra>",
         "legendgroup": "Maryland",
         "marker": {
          "color": "#EF553B",
          "size": [
           5582520
          ],
          "sizemode": "area",
          "sizeref": 82153.65305555555,
          "symbol": "circle"
         },
         "mode": "markers",
         "name": "Maryland",
         "orientation": "v",
         "showlegend": true,
         "type": "scatter",
         "x": [
          641.4
         ],
         "xaxis": "x",
         "y": [
          2294.3
         ],
         "yaxis": "y"
        },
        {
         "hovertemplate": "state=Massachusetts<br>burglary=%{x}<br>larceny_theft=%{y}<br>population=%{marker.size}<extra></extra>",
         "legendgroup": "Massachusetts",
         "marker": {
          "color": "#00cc96",
          "size": [
           6453031
          ],
          "sizemode": "area",
          "sizeref": 82153.65305555555,
          "symbol": "circle"
         },
         "mode": "markers",
         "name": "Massachusetts",
         "orientation": "v",
         "showlegend": true,
         "type": "scatter",
         "x": [
          541.1
         ],
         "xaxis": "x",
         "y": [
          1527.4
         ],
         "yaxis": "y"
        },
        {
         "hovertemplate": "state=Michigan<br>burglary=%{x}<br>larceny_theft=%{y}<br>population=%{marker.size}<extra></extra>",
         "legendgroup": "Michigan",
         "marker": {
          "color": "#ab63fa",
          "size": [
           10090554
          ],
          "sizemode": "area",
          "sizeref": 82153.65305555555,
          "symbol": "circle"
         },
         "mode": "markers",
         "name": "Michigan",
         "orientation": "v",
         "showlegend": true,
         "type": "scatter",
         "x": [
          696.8
         ],
         "xaxis": "x",
         "y": [
          1917.8
         ],
         "yaxis": "y"
        },
        {
         "hovertemplate": "state=Minnesota<br>burglary=%{x}<br>larceny_theft=%{y}<br>population=%{marker.size}<extra></extra>",
         "legendgroup": "Minnesota",
         "marker": {
          "color": "#FFA15A",
          "size": [
           5106560
          ],
          "sizemode": "area",
          "sizeref": 82153.65305555555,
          "symbol": "circle"
         },
         "mode": "markers",
         "name": "Minnesota",
         "orientation": "v",
         "showlegend": true,
         "type": "scatter",
         "x": [
          578.9
         ],
         "xaxis": "x",
         "y": [
          2226.9
         ],
         "yaxis": "y"
        },
        {
         "hovertemplate": "state=Mississippi<br>burglary=%{x}<br>larceny_theft=%{y}<br>population=%{marker.size}<extra></extra>",
         "legendgroup": "Mississippi",
         "marker": {
          "color": "#19d3f3",
          "size": [
           2900116
          ],
          "sizemode": "area",
          "sizeref": 82153.65305555555,
          "symbol": "circle"
         },
         "mode": "markers",
         "name": "Mississippi",
         "orientation": "v",
         "showlegend": true,
         "type": "scatter",
         "x": [
          919.7
         ],
         "xaxis": "x",
         "y": [
          2083.9
         ],
         "yaxis": "y"
        },
        {
         "hovertemplate": "state=Missouri<br>burglary=%{x}<br>larceny_theft=%{y}<br>population=%{marker.size}<extra></extra>",
         "legendgroup": "Missouri",
         "marker": {
          "color": "#FF6692",
          "size": [
           5806639
          ],
          "sizemode": "area",
          "sizeref": 82153.65305555555,
          "symbol": "circle"
         },
         "mode": "markers",
         "name": "Missouri",
         "orientation": "v",
         "showlegend": true,
         "type": "scatter",
         "x": [
          738.3
         ],
         "xaxis": "x",
         "y": [
          2746.2
         ],
         "yaxis": "y"
        },
        {
         "hovertemplate": "state=Montana<br>burglary=%{x}<br>larceny_theft=%{y}<br>population=%{marker.size}<extra></extra>",
         "legendgroup": "Montana",
         "marker": {
          "color": "#B6E880",
          "size": [
           934801
          ],
          "sizemode": "area",
          "sizeref": 82153.65305555555,
          "symbol": "circle"
         },
         "mode": "markers",
         "name": "Montana",
         "orientation": "v",
         "showlegend": true,
         "type": "scatter",
         "x": [
          389.2
         ],
         "xaxis": "x",
         "y": [
          2543
         ],
         "yaxis": "y"
        },
        {
         "hovertemplate": "state=Nebraska<br>burglary=%{x}<br>larceny_theft=%{y}<br>population=%{marker.size}<extra></extra>",
         "legendgroup": "Nebraska",
         "marker": {
          "color": "#FF97FF",
          "size": [
           1751721
          ],
          "sizemode": "area",
          "sizeref": 82153.65305555555,
          "symbol": "circle"
         },
         "mode": "markers",
         "name": "Nebraska",
         "orientation": "v",
         "showlegend": true,
         "type": "scatter",
         "x": [
          532.4
         ],
         "xaxis": "x",
         "y": [
          2574.3
         ],
         "yaxis": "y"
        },
        {
         "hovertemplate": "state=Nevada<br>burglary=%{x}<br>larceny_theft=%{y}<br>population=%{marker.size}<extra></extra>",
         "legendgroup": "Nevada",
         "marker": {
          "color": "#FECB52",
          "size": [
           2408804
          ],
          "sizemode": "area",
          "sizeref": 82153.65305555555,
          "symbol": "circle"
         },
         "mode": "markers",
         "name": "Nevada",
         "orientation": "v",
         "showlegend": true,
         "type": "scatter",
         "x": [
          972.4
         ],
         "xaxis": "x",
         "y": [
          2153.9
         ],
         "yaxis": "y"
        },
        {
         "hovertemplate": "state=New Hampshire<br>burglary=%{x}<br>larceny_theft=%{y}<br>population=%{marker.size}<extra></extra>",
         "legendgroup": "New Hampshire",
         "marker": {
          "color": "#636efa",
          "size": [
           1301415
          ],
          "sizemode": "area",
          "sizeref": 82153.65305555555,
          "symbol": "circle"
         },
         "mode": "markers",
         "name": "New Hampshire",
         "orientation": "v",
         "showlegend": true,
         "type": "scatter",
         "x": [
          317
         ],
         "xaxis": "x",
         "y": [
          1377.3
         ],
         "yaxis": "y"
        },
        {
         "hovertemplate": "state=New Jersey<br>burglary=%{x}<br>larceny_theft=%{y}<br>population=%{marker.size}<extra></extra>",
         "legendgroup": "New Jersey",
         "marker": {
          "color": "#EF553B",
          "size": [
           8621837
          ],
          "sizemode": "area",
          "sizeref": 82153.65305555555,
          "symbol": "circle"
         },
         "mode": "markers",
         "name": "New Jersey",
         "orientation": "v",
         "showlegend": true,
         "type": "scatter",
         "x": [
          447.1
         ],
         "xaxis": "x",
         "y": [
          1568.4
         ],
         "yaxis": "y"
        },
        {
         "hovertemplate": "state=New Mexico<br>burglary=%{x}<br>larceny_theft=%{y}<br>population=%{marker.size}<extra></extra>",
         "legendgroup": "New Mexico",
         "marker": {
          "color": "#00cc96",
          "size": [
           1916538
          ],
          "sizemode": "area",
          "sizeref": 82153.65305555555,
          "symbol": "circle"
         },
         "mode": "markers",
         "name": "New Mexico",
         "orientation": "v",
         "showlegend": true,
         "type": "scatter",
         "x": [
          1093.9
         ],
         "xaxis": "x",
         "y": [
          2639.9
         ],
         "yaxis": "y"
        },
        {
         "hovertemplate": "state=New York<br>burglary=%{x}<br>larceny_theft=%{y}<br>population=%{marker.size}<extra></extra>",
         "legendgroup": "New York",
         "marker": {
          "color": "#ab63fa",
          "size": [
           19330891
          ],
          "sizemode": "area",
          "sizeref": 82153.65305555555,
          "symbol": "circle"
         },
         "mode": "markers",
         "name": "New York",
         "orientation": "v",
         "showlegend": true,
         "type": "scatter",
         "x": [
          353.3
         ],
         "xaxis": "x",
         "y": [
          1569.6
         ],
         "yaxis": "y"
        },
        {
         "hovertemplate": "state=North Carolina<br>burglary=%{x}<br>larceny_theft=%{y}<br>population=%{marker.size}<extra></extra>",
         "legendgroup": "North Carolina",
         "marker": {
          "color": "#FFA15A",
          "size": [
           8669452
          ],
          "sizemode": "area",
          "sizeref": 82153.65305555555,
          "symbol": "circle"
         },
         "mode": "markers",
         "name": "North Carolina",
         "orientation": "v",
         "showlegend": true,
         "type": "scatter",
         "x": [
          1201.1
         ],
         "xaxis": "x",
         "y": [
          2546.2
         ],
         "yaxis": "y"
        },
        {
         "hovertemplate": "state=North Dakota<br>burglary=%{x}<br>larceny_theft=%{y}<br>population=%{marker.size}<extra></extra>",
         "legendgroup": "North Dakota",
         "marker": {
          "color": "#19d3f3",
          "size": [
           635365
          ],
          "sizemode": "area",
          "sizeref": 82153.65305555555,
          "symbol": "circle"
         },
         "mode": "markers",
         "name": "North Dakota",
         "orientation": "v",
         "showlegend": true,
         "type": "scatter",
         "x": [
          311.9
         ],
         "xaxis": "x",
         "y": [
          1500.3
         ],
         "yaxis": "y"
        },
        {
         "hovertemplate": "state=Ohio<br>burglary=%{x}<br>larceny_theft=%{y}<br>population=%{marker.size}<extra></extra>",
         "legendgroup": "Ohio",
         "marker": {
          "color": "#FF6692",
          "size": [
           11475262
          ],
          "sizemode": "area",
          "sizeref": 82153.65305555555,
          "symbol": "circle"
         },
         "mode": "markers",
         "name": "Ohio",
         "orientation": "v",
         "showlegend": true,
         "type": "scatter",
         "x": [
          872.8
         ],
         "xaxis": "x",
         "y": [
          2429
         ],
         "yaxis": "y"
        },
        {
         "hovertemplate": "state=Oklahoma<br>burglary=%{x}<br>larceny_theft=%{y}<br>population=%{marker.size}<extra></extra>",
         "legendgroup": "Oklahoma",
         "marker": {
          "color": "#B6E880",
          "size": [
           3532769
          ],
          "sizemode": "area",
          "sizeref": 82153.65305555555,
          "symbol": "circle"
         },
         "mode": "markers",
         "name": "Oklahoma",
         "orientation": "v",
         "showlegend": true,
         "type": "scatter",
         "x": [
          1006
         ],
         "xaxis": "x",
         "y": [
          2644.2
         ],
         "yaxis": "y"
        },
        {
         "hovertemplate": "state=Oregon<br>burglary=%{x}<br>larceny_theft=%{y}<br>population=%{marker.size}<extra></extra>",
         "legendgroup": "Oregon",
         "marker": {
          "color": "#FF97FF",
          "size": [
           3617869
          ],
          "sizemode": "area",
          "sizeref": 82153.65305555555,
          "symbol": "circle"
         },
         "mode": "markers",
         "name": "Oregon",
         "orientation": "v",
         "showlegend": true,
         "type": "scatter",
         "x": [
          758.6
         ],
         "xaxis": "x",
         "y": [
          3112.2
         ],
         "yaxis": "y"
        },
        {
         "hovertemplate": "state=Pennsylvania<br>burglary=%{x}<br>larceny_theft=%{y}<br>population=%{marker.size}<extra></extra>",
         "legendgroup": "Pennsylvania",
         "marker": {
          "color": "#FECB52",
          "size": [
           12418161
          ],
          "sizemode": "area",
          "sizeref": 82153.65305555555,
          "symbol": "circle"
         },
         "mode": "markers",
         "name": "Pennsylvania",
         "orientation": "v",
         "showlegend": true,
         "type": "scatter",
         "x": [
          451.6
         ],
         "xaxis": "x",
         "y": [
          1729.1
         ],
         "yaxis": "y"
        },
        {
         "hovertemplate": "state=Rhode Island<br>burglary=%{x}<br>larceny_theft=%{y}<br>population=%{marker.size}<extra></extra>",
         "legendgroup": "Rhode Island",
         "marker": {
          "color": "#636efa",
          "size": [
           1064989
          ],
          "sizemode": "area",
          "sizeref": 82153.65305555555,
          "symbol": "circle"
         },
         "mode": "markers",
         "name": "Rhode Island",
         "orientation": "v",
         "showlegend": true,
         "type": "scatter",
         "x": [
          494.2
         ],
         "xaxis": "x",
         "y": [
          1816
         ],
         "yaxis": "y"
        },
        {
         "hovertemplate": "state=South Carolina<br>burglary=%{x}<br>larceny_theft=%{y}<br>population=%{marker.size}<extra></extra>",
         "legendgroup": "South Carolina",
         "marker": {
          "color": "#EF553B",
          "size": [
           4256199
          ],
          "sizemode": "area",
          "sizeref": 82153.65305555555,
          "symbol": "circle"
         },
         "mode": "markers",
         "name": "South Carolina",
         "orientation": "v",
         "showlegend": true,
         "type": "scatter",
         "x": [
          1000.9
         ],
         "xaxis": "x",
         "y": [
          2954.1
         ],
         "yaxis": "y"
        },
        {
         "hovertemplate": "state=South Dakota<br>burglary=%{x}<br>larceny_theft=%{y}<br>population=%{marker.size}<extra></extra>",
         "legendgroup": "South Dakota",
         "marker": {
          "color": "#00cc96",
          "size": [
           780084
          ],
          "sizemode": "area",
          "sizeref": 82153.65305555555,
          "symbol": "circle"
         },
         "mode": "markers",
         "name": "South Dakota",
         "orientation": "v",
         "showlegend": true,
         "type": "scatter",
         "x": [
          324.4
         ],
         "xaxis": "x",
         "y": [
          1343.7
         ],
         "yaxis": "y"
        },
        {
         "hovertemplate": "state=Tennessee<br>burglary=%{x}<br>larceny_theft=%{y}<br>population=%{marker.size}<extra></extra>",
         "legendgroup": "Tennessee",
         "marker": {
          "color": "#ab63fa",
          "size": [
           5995748
          ],
          "sizemode": "area",
          "sizeref": 82153.65305555555,
          "symbol": "circle"
         },
         "mode": "markers",
         "name": "Tennessee",
         "orientation": "v",
         "showlegend": true,
         "type": "scatter",
         "x": [
          1026.9
         ],
         "xaxis": "x",
         "y": [
          2828.1
         ],
         "yaxis": "y"
        },
        {
         "hovertemplate": "state=Texas<br>burglary=%{x}<br>larceny_theft=%{y}<br>population=%{marker.size}<extra></extra>",
         "legendgroup": "Texas",
         "marker": {
          "color": "#FFA15A",
          "size": [
           22801920
          ],
          "sizemode": "area",
          "sizeref": 82153.65305555555,
          "symbol": "circle"
         },
         "mode": "markers",
         "name": "Texas",
         "orientation": "v",
         "showlegend": true,
         "type": "scatter",
         "x": [
          961.6
         ],
         "xaxis": "x",
         "y": [
          2961.7
         ],
         "yaxis": "y"
        },
        {
         "hovertemplate": "state=Utah<br>burglary=%{x}<br>larceny_theft=%{y}<br>population=%{marker.size}<extra></extra>",
         "legendgroup": "Utah",
         "marker": {
          "color": "#19d3f3",
          "size": [
           2499637
          ],
          "sizemode": "area",
          "sizeref": 82153.65305555555,
          "symbol": "circle"
         },
         "mode": "markers",
         "name": "Utah",
         "orientation": "v",
         "showlegend": true,
         "type": "scatter",
         "x": [
          606.2
         ],
         "xaxis": "x",
         "y": [
          2918.8
         ],
         "yaxis": "y"
        },
        {
         "hovertemplate": "state=Vermont<br>burglary=%{x}<br>larceny_theft=%{y}<br>population=%{marker.size}<extra></extra>",
         "legendgroup": "Vermont",
         "marker": {
          "color": "#FF6692",
          "size": [
           618814
          ],
          "sizemode": "area",
          "sizeref": 82153.65305555555,
          "symbol": "circle"
         },
         "mode": "markers",
         "name": "Vermont",
         "orientation": "v",
         "showlegend": true,
         "type": "scatter",
         "x": [
          491.8
         ],
         "xaxis": "x",
         "y": [
          1686.1
         ],
         "yaxis": "y"
        },
        {
         "hovertemplate": "state=Virginia<br>burglary=%{x}<br>larceny_theft=%{y}<br>population=%{marker.size}<extra></extra>",
         "legendgroup": "Virginia",
         "marker": {
          "color": "#B6E880",
          "size": [
           7563887
          ],
          "sizemode": "area",
          "sizeref": 82153.65305555555,
          "symbol": "circle"
         },
         "mode": "markers",
         "name": "Virginia",
         "orientation": "v",
         "showlegend": true,
         "type": "scatter",
         "x": [
          392.1
         ],
         "xaxis": "x",
         "y": [
          2035
         ],
         "yaxis": "y"
        },
        {
         "hovertemplate": "state=Washington<br>burglary=%{x}<br>larceny_theft=%{y}<br>population=%{marker.size}<extra></extra>",
         "legendgroup": "Washington",
         "marker": {
          "color": "#FF97FF",
          "size": [
           6261282
          ],
          "sizemode": "area",
          "sizeref": 82153.65305555555,
          "symbol": "circle"
         },
         "mode": "markers",
         "name": "Washington",
         "orientation": "v",
         "showlegend": true,
         "type": "scatter",
         "x": [
          959.7
         ],
         "xaxis": "x",
         "y": [
          3149.5
         ],
         "yaxis": "y"
        },
        {
         "hovertemplate": "state=West Virginia<br>burglary=%{x}<br>larceny_theft=%{y}<br>population=%{marker.size}<extra></extra>",
         "legendgroup": "West Virginia",
         "marker": {
          "color": "#FECB52",
          "size": [
           1803920
          ],
          "sizemode": "area",
          "sizeref": 82153.65305555555,
          "symbol": "circle"
         },
         "mode": "markers",
         "name": "West Virginia",
         "orientation": "v",
         "showlegend": true,
         "type": "scatter",
         "x": [
          621.2
         ],
         "xaxis": "x",
         "y": [
          1794
         ],
         "yaxis": "y"
        },
        {
         "hovertemplate": "state=Wisconsin<br>burglary=%{x}<br>larceny_theft=%{y}<br>population=%{marker.size}<extra></extra>",
         "legendgroup": "Wisconsin",
         "marker": {
          "color": "#636efa",
          "size": [
           5541443
          ],
          "sizemode": "area",
          "sizeref": 82153.65305555555,
          "symbol": "circle"
         },
         "mode": "markers",
         "name": "Wisconsin",
         "orientation": "v",
         "showlegend": true,
         "type": "scatter",
         "x": [
          440.8
         ],
         "xaxis": "x",
         "y": [
          1992.8
         ],
         "yaxis": "y"
        },
        {
         "hovertemplate": "state=Wyoming<br>burglary=%{x}<br>larceny_theft=%{y}<br>population=%{marker.size}<extra></extra>",
         "legendgroup": "Wyoming",
         "marker": {
          "color": "#EF553B",
          "size": [
           506242
          ],
          "sizemode": "area",
          "sizeref": 82153.65305555555,
          "symbol": "circle"
         },
         "mode": "markers",
         "name": "Wyoming",
         "orientation": "v",
         "showlegend": true,
         "type": "scatter",
         "x": [
          476.3
         ],
         "xaxis": "x",
         "y": [
          2533.9
         ],
         "yaxis": "y"
        }
       ],
       "layout": {
        "autosize": true,
        "dragmode": "zoom",
        "legend": {
         "itemsizing": "constant",
         "title": {
          "text": "state"
         },
         "tracegroupgap": 0
        },
        "margin": {
         "t": 60
        },
        "template": {
         "data": {
          "bar": [
           {
            "error_x": {
             "color": "#2a3f5f"
            },
            "error_y": {
             "color": "#2a3f5f"
            },
            "marker": {
             "line": {
              "color": "#E5ECF6",
              "width": 0.5
             },
             "pattern": {
              "fillmode": "overlay",
              "size": 10,
              "solidity": 0.2
             }
            },
            "type": "bar"
           }
          ],
          "barpolar": [
           {
            "marker": {
             "line": {
              "color": "#E5ECF6",
              "width": 0.5
             },
             "pattern": {
              "fillmode": "overlay",
              "size": 10,
              "solidity": 0.2
             }
            },
            "type": "barpolar"
           }
          ],
          "carpet": [
           {
            "aaxis": {
             "endlinecolor": "#2a3f5f",
             "gridcolor": "white",
             "linecolor": "white",
             "minorgridcolor": "white",
             "startlinecolor": "#2a3f5f"
            },
            "baxis": {
             "endlinecolor": "#2a3f5f",
             "gridcolor": "white",
             "linecolor": "white",
             "minorgridcolor": "white",
             "startlinecolor": "#2a3f5f"
            },
            "type": "carpet"
           }
          ],
          "choropleth": [
           {
            "colorbar": {
             "outlinewidth": 0,
             "ticks": ""
            },
            "type": "choropleth"
           }
          ],
          "contour": [
           {
            "colorbar": {
             "outlinewidth": 0,
             "ticks": ""
            },
            "colorscale": [
             [
              0,
              "#0d0887"
             ],
             [
              0.1111111111111111,
              "#46039f"
             ],
             [
              0.2222222222222222,
              "#7201a8"
             ],
             [
              0.3333333333333333,
              "#9c179e"
             ],
             [
              0.4444444444444444,
              "#bd3786"
             ],
             [
              0.5555555555555556,
              "#d8576b"
             ],
             [
              0.6666666666666666,
              "#ed7953"
             ],
             [
              0.7777777777777778,
              "#fb9f3a"
             ],
             [
              0.8888888888888888,
              "#fdca26"
             ],
             [
              1,
              "#f0f921"
             ]
            ],
            "type": "contour"
           }
          ],
          "contourcarpet": [
           {
            "colorbar": {
             "outlinewidth": 0,
             "ticks": ""
            },
            "type": "contourcarpet"
           }
          ],
          "heatmap": [
           {
            "colorbar": {
             "outlinewidth": 0,
             "ticks": ""
            },
            "colorscale": [
             [
              0,
              "#0d0887"
             ],
             [
              0.1111111111111111,
              "#46039f"
             ],
             [
              0.2222222222222222,
              "#7201a8"
             ],
             [
              0.3333333333333333,
              "#9c179e"
             ],
             [
              0.4444444444444444,
              "#bd3786"
             ],
             [
              0.5555555555555556,
              "#d8576b"
             ],
             [
              0.6666666666666666,
              "#ed7953"
             ],
             [
              0.7777777777777778,
              "#fb9f3a"
             ],
             [
              0.8888888888888888,
              "#fdca26"
             ],
             [
              1,
              "#f0f921"
             ]
            ],
            "type": "heatmap"
           }
          ],
          "heatmapgl": [
           {
            "colorbar": {
             "outlinewidth": 0,
             "ticks": ""
            },
            "colorscale": [
             [
              0,
              "#0d0887"
             ],
             [
              0.1111111111111111,
              "#46039f"
             ],
             [
              0.2222222222222222,
              "#7201a8"
             ],
             [
              0.3333333333333333,
              "#9c179e"
             ],
             [
              0.4444444444444444,
              "#bd3786"
             ],
             [
              0.5555555555555556,
              "#d8576b"
             ],
             [
              0.6666666666666666,
              "#ed7953"
             ],
             [
              0.7777777777777778,
              "#fb9f3a"
             ],
             [
              0.8888888888888888,
              "#fdca26"
             ],
             [
              1,
              "#f0f921"
             ]
            ],
            "type": "heatmapgl"
           }
          ],
          "histogram": [
           {
            "marker": {
             "pattern": {
              "fillmode": "overlay",
              "size": 10,
              "solidity": 0.2
             }
            },
            "type": "histogram"
           }
          ],
          "histogram2d": [
           {
            "colorbar": {
             "outlinewidth": 0,
             "ticks": ""
            },
            "colorscale": [
             [
              0,
              "#0d0887"
             ],
             [
              0.1111111111111111,
              "#46039f"
             ],
             [
              0.2222222222222222,
              "#7201a8"
             ],
             [
              0.3333333333333333,
              "#9c179e"
             ],
             [
              0.4444444444444444,
              "#bd3786"
             ],
             [
              0.5555555555555556,
              "#d8576b"
             ],
             [
              0.6666666666666666,
              "#ed7953"
             ],
             [
              0.7777777777777778,
              "#fb9f3a"
             ],
             [
              0.8888888888888888,
              "#fdca26"
             ],
             [
              1,
              "#f0f921"
             ]
            ],
            "type": "histogram2d"
           }
          ],
          "histogram2dcontour": [
           {
            "colorbar": {
             "outlinewidth": 0,
             "ticks": ""
            },
            "colorscale": [
             [
              0,
              "#0d0887"
             ],
             [
              0.1111111111111111,
              "#46039f"
             ],
             [
              0.2222222222222222,
              "#7201a8"
             ],
             [
              0.3333333333333333,
              "#9c179e"
             ],
             [
              0.4444444444444444,
              "#bd3786"
             ],
             [
              0.5555555555555556,
              "#d8576b"
             ],
             [
              0.6666666666666666,
              "#ed7953"
             ],
             [
              0.7777777777777778,
              "#fb9f3a"
             ],
             [
              0.8888888888888888,
              "#fdca26"
             ],
             [
              1,
              "#f0f921"
             ]
            ],
            "type": "histogram2dcontour"
           }
          ],
          "mesh3d": [
           {
            "colorbar": {
             "outlinewidth": 0,
             "ticks": ""
            },
            "type": "mesh3d"
           }
          ],
          "parcoords": [
           {
            "line": {
             "colorbar": {
              "outlinewidth": 0,
              "ticks": ""
             }
            },
            "type": "parcoords"
           }
          ],
          "pie": [
           {
            "automargin": true,
            "type": "pie"
           }
          ],
          "scatter": [
           {
            "marker": {
             "colorbar": {
              "outlinewidth": 0,
              "ticks": ""
             }
            },
            "type": "scatter"
           }
          ],
          "scatter3d": [
           {
            "line": {
             "colorbar": {
              "outlinewidth": 0,
              "ticks": ""
             }
            },
            "marker": {
             "colorbar": {
              "outlinewidth": 0,
              "ticks": ""
             }
            },
            "type": "scatter3d"
           }
          ],
          "scattercarpet": [
           {
            "marker": {
             "colorbar": {
              "outlinewidth": 0,
              "ticks": ""
             }
            },
            "type": "scattercarpet"
           }
          ],
          "scattergeo": [
           {
            "marker": {
             "colorbar": {
              "outlinewidth": 0,
              "ticks": ""
             }
            },
            "type": "scattergeo"
           }
          ],
          "scattergl": [
           {
            "marker": {
             "colorbar": {
              "outlinewidth": 0,
              "ticks": ""
             }
            },
            "type": "scattergl"
           }
          ],
          "scattermapbox": [
           {
            "marker": {
             "colorbar": {
              "outlinewidth": 0,
              "ticks": ""
             }
            },
            "type": "scattermapbox"
           }
          ],
          "scatterpolar": [
           {
            "marker": {
             "colorbar": {
              "outlinewidth": 0,
              "ticks": ""
             }
            },
            "type": "scatterpolar"
           }
          ],
          "scatterpolargl": [
           {
            "marker": {
             "colorbar": {
              "outlinewidth": 0,
              "ticks": ""
             }
            },
            "type": "scatterpolargl"
           }
          ],
          "scatterternary": [
           {
            "marker": {
             "colorbar": {
              "outlinewidth": 0,
              "ticks": ""
             }
            },
            "type": "scatterternary"
           }
          ],
          "surface": [
           {
            "colorbar": {
             "outlinewidth": 0,
             "ticks": ""
            },
            "colorscale": [
             [
              0,
              "#0d0887"
             ],
             [
              0.1111111111111111,
              "#46039f"
             ],
             [
              0.2222222222222222,
              "#7201a8"
             ],
             [
              0.3333333333333333,
              "#9c179e"
             ],
             [
              0.4444444444444444,
              "#bd3786"
             ],
             [
              0.5555555555555556,
              "#d8576b"
             ],
             [
              0.6666666666666666,
              "#ed7953"
             ],
             [
              0.7777777777777778,
              "#fb9f3a"
             ],
             [
              0.8888888888888888,
              "#fdca26"
             ],
             [
              1,
              "#f0f921"
             ]
            ],
            "type": "surface"
           }
          ],
          "table": [
           {
            "cells": {
             "fill": {
              "color": "#EBF0F8"
             },
             "line": {
              "color": "white"
             }
            },
            "header": {
             "fill": {
              "color": "#C8D4E3"
             },
             "line": {
              "color": "white"
             }
            },
            "type": "table"
           }
          ]
         },
         "layout": {
          "annotationdefaults": {
           "arrowcolor": "#2a3f5f",
           "arrowhead": 0,
           "arrowwidth": 1
          },
          "autotypenumbers": "strict",
          "coloraxis": {
           "colorbar": {
            "outlinewidth": 0,
            "ticks": ""
           }
          },
          "colorscale": {
           "diverging": [
            [
             0,
             "#8e0152"
            ],
            [
             0.1,
             "#c51b7d"
            ],
            [
             0.2,
             "#de77ae"
            ],
            [
             0.3,
             "#f1b6da"
            ],
            [
             0.4,
             "#fde0ef"
            ],
            [
             0.5,
             "#f7f7f7"
            ],
            [
             0.6,
             "#e6f5d0"
            ],
            [
             0.7,
             "#b8e186"
            ],
            [
             0.8,
             "#7fbc41"
            ],
            [
             0.9,
             "#4d9221"
            ],
            [
             1,
             "#276419"
            ]
           ],
           "sequential": [
            [
             0,
             "#0d0887"
            ],
            [
             0.1111111111111111,
             "#46039f"
            ],
            [
             0.2222222222222222,
             "#7201a8"
            ],
            [
             0.3333333333333333,
             "#9c179e"
            ],
            [
             0.4444444444444444,
             "#bd3786"
            ],
            [
             0.5555555555555556,
             "#d8576b"
            ],
            [
             0.6666666666666666,
             "#ed7953"
            ],
            [
             0.7777777777777778,
             "#fb9f3a"
            ],
            [
             0.8888888888888888,
             "#fdca26"
            ],
            [
             1,
             "#f0f921"
            ]
           ],
           "sequentialminus": [
            [
             0,
             "#0d0887"
            ],
            [
             0.1111111111111111,
             "#46039f"
            ],
            [
             0.2222222222222222,
             "#7201a8"
            ],
            [
             0.3333333333333333,
             "#9c179e"
            ],
            [
             0.4444444444444444,
             "#bd3786"
            ],
            [
             0.5555555555555556,
             "#d8576b"
            ],
            [
             0.6666666666666666,
             "#ed7953"
            ],
            [
             0.7777777777777778,
             "#fb9f3a"
            ],
            [
             0.8888888888888888,
             "#fdca26"
            ],
            [
             1,
             "#f0f921"
            ]
           ]
          },
          "colorway": [
           "#636efa",
           "#EF553B",
           "#00cc96",
           "#ab63fa",
           "#FFA15A",
           "#19d3f3",
           "#FF6692",
           "#B6E880",
           "#FF97FF",
           "#FECB52"
          ],
          "font": {
           "color": "#2a3f5f"
          },
          "geo": {
           "bgcolor": "white",
           "lakecolor": "white",
           "landcolor": "#E5ECF6",
           "showlakes": true,
           "showland": true,
           "subunitcolor": "white"
          },
          "hoverlabel": {
           "align": "left"
          },
          "hovermode": "closest",
          "mapbox": {
           "style": "light"
          },
          "paper_bgcolor": "white",
          "plot_bgcolor": "#E5ECF6",
          "polar": {
           "angularaxis": {
            "gridcolor": "white",
            "linecolor": "white",
            "ticks": ""
           },
           "bgcolor": "#E5ECF6",
           "radialaxis": {
            "gridcolor": "white",
            "linecolor": "white",
            "ticks": ""
           }
          },
          "scene": {
           "xaxis": {
            "backgroundcolor": "#E5ECF6",
            "gridcolor": "white",
            "gridwidth": 2,
            "linecolor": "white",
            "showbackground": true,
            "ticks": "",
            "zerolinecolor": "white"
           },
           "yaxis": {
            "backgroundcolor": "#E5ECF6",
            "gridcolor": "white",
            "gridwidth": 2,
            "linecolor": "white",
            "showbackground": true,
            "ticks": "",
            "zerolinecolor": "white"
           },
           "zaxis": {
            "backgroundcolor": "#E5ECF6",
            "gridcolor": "white",
            "gridwidth": 2,
            "linecolor": "white",
            "showbackground": true,
            "ticks": "",
            "zerolinecolor": "white"
           }
          },
          "shapedefaults": {
           "line": {
            "color": "#2a3f5f"
           }
          },
          "ternary": {
           "aaxis": {
            "gridcolor": "white",
            "linecolor": "white",
            "ticks": ""
           },
           "baxis": {
            "gridcolor": "white",
            "linecolor": "white",
            "ticks": ""
           },
           "bgcolor": "#E5ECF6",
           "caxis": {
            "gridcolor": "white",
            "linecolor": "white",
            "ticks": ""
           }
          },
          "title": {
           "x": 0.05
          },
          "xaxis": {
           "automargin": true,
           "gridcolor": "white",
           "linecolor": "white",
           "ticks": "",
           "title": {
            "standoff": 15
           },
           "zerolinecolor": "white",
           "zerolinewidth": 2
          },
          "yaxis": {
           "automargin": true,
           "gridcolor": "white",
           "linecolor": "white",
           "ticks": "",
           "title": {
            "standoff": 15
           },
           "zerolinecolor": "white",
           "zerolinewidth": 2
          }
         }
        },
        "xaxis": {
         "anchor": "y",
         "autorange": false,
         "domain": [
          0,
          1
         ],
         "range": [
          2.458231252207889,
          3.1199677898021516
         ],
         "title": {
          "text": "burglary"
         },
         "type": "log"
        },
        "yaxis": {
         "anchor": "x",
         "autorange": false,
         "domain": [
          0,
          1
         ],
         "range": [
          1200.363294929636,
          3452.7972317496474
         ],
         "title": {
          "text": "larceny_theft"
         },
         "type": "linear"
        }
       }
      },
      "image/png": "[encoded data removed]",
      "text/html": [
       "<div>                            <div id=\"d15b5d61-8502-49b1-8cc4-7c5d8721a185\" class=\"plotly-graph-div\" style=\"height:525px; width:100%;\"></div>            <script type=\"text/javascript\">                require([\"plotly\"], function(Plotly) {                    window.PLOTLYENV=window.PLOTLYENV || {};                                    if (document.getElementById(\"d15b5d61-8502-49b1-8cc4-7c5d8721a185\")) {                    Plotly.newPlot(                        \"d15b5d61-8502-49b1-8cc4-7c5d8721a185\",                        [{\"hovertemplate\":\"state=United States<br>burglary=%{x}<br>larceny_theft=%{y}<br>population=%{marker.size}<extra></extra>\",\"legendgroup\":\"United States\",\"marker\":{\"color\":\"#636efa\",\"size\":[295753151],\"sizemode\":\"area\",\"sizeref\":82153.65305555555,\"symbol\":\"circle\"},\"mode\":\"markers\",\"name\":\"United States\",\"orientation\":\"v\",\"showlegend\":true,\"x\":[726.7],\"xaxis\":\"x\",\"y\":[2286.3],\"yaxis\":\"y\",\"type\":\"scatter\"},{\"hovertemplate\":\"state=Alabama<br>burglary=%{x}<br>larceny_theft=%{y}<br>population=%{marker.size}<extra></extra>\",\"legendgroup\":\"Alabama\",\"marker\":{\"color\":\"#EF553B\",\"size\":[4545049],\"sizemode\":\"area\",\"sizeref\":82153.65305555555,\"symbol\":\"circle\"},\"mode\":\"markers\",\"name\":\"Alabama\",\"orientation\":\"v\",\"showlegend\":true,\"x\":[953.8],\"xaxis\":\"x\",\"y\":[2650.0],\"yaxis\":\"y\",\"type\":\"scatter\"},{\"hovertemplate\":\"state=Alaska<br>burglary=%{x}<br>larceny_theft=%{y}<br>population=%{marker.size}<extra></extra>\",\"legendgroup\":\"Alaska\",\"marker\":{\"color\":\"#00cc96\",\"size\":[669488],\"sizemode\":\"area\",\"sizeref\":82153.65305555555,\"symbol\":\"circle\"},\"mode\":\"markers\",\"name\":\"Alaska\",\"orientation\":\"v\",\"showlegend\":true,\"x\":[622.5],\"xaxis\":\"x\",\"y\":[2599.1],\"yaxis\":\"y\",\"type\":\"scatter\"},{\"hovertemplate\":\"state=Arizona<br>burglary=%{x}<br>larceny_theft=%{y}<br>population=%{marker.size}<extra></extra>\",\"legendgroup\":\"Arizona\",\"marker\":{\"color\":\"#ab63fa\",\"size\":[5974834],\"sizemode\":\"area\",\"sizeref\":82153.65305555555,\"symbol\":\"circle\"},\"mode\":\"markers\",\"name\":\"Arizona\",\"orientation\":\"v\",\"showlegend\":true,\"x\":[948.4],\"xaxis\":\"x\",\"y\":[2965.2],\"yaxis\":\"y\",\"type\":\"scatter\"},{\"hovertemplate\":\"state=Arkansas<br>burglary=%{x}<br>larceny_theft=%{y}<br>population=%{marker.size}<extra></extra>\",\"legendgroup\":\"Arkansas\",\"marker\":{\"color\":\"#FFA15A\",\"size\":[2776221],\"sizemode\":\"area\",\"sizeref\":82153.65305555555,\"symbol\":\"circle\"},\"mode\":\"markers\",\"name\":\"Arkansas\",\"orientation\":\"v\",\"showlegend\":true,\"x\":[1084.6],\"xaxis\":\"x\",\"y\":[2711.2],\"yaxis\":\"y\",\"type\":\"scatter\"},{\"hovertemplate\":\"state=California<br>burglary=%{x}<br>larceny_theft=%{y}<br>population=%{marker.size}<extra></extra>\",\"legendgroup\":\"California\",\"marker\":{\"color\":\"#19d3f3\",\"size\":[35795255],\"sizemode\":\"area\",\"sizeref\":82153.65305555555,\"symbol\":\"circle\"},\"mode\":\"markers\",\"name\":\"California\",\"orientation\":\"v\",\"showlegend\":true,\"x\":[693.3],\"xaxis\":\"x\",\"y\":[1916.5],\"yaxis\":\"y\",\"type\":\"scatter\"},{\"hovertemplate\":\"state=Colorado<br>burglary=%{x}<br>larceny_theft=%{y}<br>population=%{marker.size}<extra></extra>\",\"legendgroup\":\"Colorado\",\"marker\":{\"color\":\"#FF6692\",\"size\":[4660780],\"sizemode\":\"area\",\"sizeref\":82153.65305555555,\"symbol\":\"circle\"},\"mode\":\"markers\",\"name\":\"Colorado\",\"orientation\":\"v\",\"showlegend\":true,\"x\":[744.8],\"xaxis\":\"x\",\"y\":[2735.2],\"yaxis\":\"y\",\"type\":\"scatter\"},{\"hovertemplate\":\"state=Connecticut<br>burglary=%{x}<br>larceny_theft=%{y}<br>population=%{marker.size}<extra></extra>\",\"legendgroup\":\"Connecticut\",\"marker\":{\"color\":\"#B6E880\",\"size\":[3477416],\"sizemode\":\"area\",\"sizeref\":82153.65305555555,\"symbol\":\"circle\"},\"mode\":\"markers\",\"name\":\"Connecticut\",\"orientation\":\"v\",\"showlegend\":true,\"x\":[437.1],\"xaxis\":\"x\",\"y\":[1824.1],\"yaxis\":\"y\",\"type\":\"scatter\"},{\"hovertemplate\":\"state=Delaware<br>burglary=%{x}<br>larceny_theft=%{y}<br>population=%{marker.size}<extra></extra>\",\"legendgroup\":\"Delaware\",\"marker\":{\"color\":\"#FF97FF\",\"size\":[839906],\"sizemode\":\"area\",\"sizeref\":82153.65305555555,\"symbol\":\"circle\"},\"mode\":\"markers\",\"name\":\"Delaware\",\"orientation\":\"v\",\"showlegend\":true,\"x\":[688.9],\"xaxis\":\"x\",\"y\":[2144.0],\"yaxis\":\"y\",\"type\":\"scatter\"},{\"hovertemplate\":\"state=District of Columbia<br>burglary=%{x}<br>larceny_theft=%{y}<br>population=%{marker.size}<extra></extra>\",\"legendgroup\":\"District of Columbia\",\"marker\":{\"color\":\"#FECB52\",\"size\":[582049],\"sizemode\":\"area\",\"sizeref\":82153.65305555555,\"symbol\":\"circle\"},\"mode\":\"markers\",\"name\":\"District of Columbia\",\"orientation\":\"v\",\"showlegend\":true,\"x\":[649.7],\"xaxis\":\"x\",\"y\":[2694.9],\"yaxis\":\"y\",\"type\":\"scatter\"},{\"hovertemplate\":\"state=Florida<br>burglary=%{x}<br>larceny_theft=%{y}<br>population=%{marker.size}<extra></extra>\",\"legendgroup\":\"Florida\",\"marker\":{\"color\":\"#636efa\",\"size\":[17783868],\"sizemode\":\"area\",\"sizeref\":82153.65305555555,\"symbol\":\"circle\"},\"mode\":\"markers\",\"name\":\"Florida\",\"orientation\":\"v\",\"showlegend\":true,\"x\":[926.3],\"xaxis\":\"x\",\"y\":[2658.3],\"yaxis\":\"y\",\"type\":\"scatter\"},{\"hovertemplate\":\"state=Georgia<br>burglary=%{x}<br>larceny_theft=%{y}<br>population=%{marker.size}<extra></extra>\",\"legendgroup\":\"Georgia\",\"marker\":{\"color\":\"#EF553B\",\"size\":[9097428],\"sizemode\":\"area\",\"sizeref\":82153.65305555555,\"symbol\":\"circle\"},\"mode\":\"markers\",\"name\":\"Georgia\",\"orientation\":\"v\",\"showlegend\":true,\"x\":[931.0],\"xaxis\":\"x\",\"y\":[2751.1],\"yaxis\":\"y\",\"type\":\"scatter\"},{\"hovertemplate\":\"state=Hawaii<br>burglary=%{x}<br>larceny_theft=%{y}<br>population=%{marker.size}<extra></extra>\",\"legendgroup\":\"Hawaii\",\"marker\":{\"color\":\"#00cc96\",\"size\":[1266117],\"sizemode\":\"area\",\"sizeref\":82153.65305555555,\"symbol\":\"circle\"},\"mode\":\"markers\",\"name\":\"Hawaii\",\"orientation\":\"v\",\"showlegend\":true,\"x\":[767.9],\"xaxis\":\"x\",\"y\":[3308.4],\"yaxis\":\"y\",\"type\":\"scatter\"},{\"hovertemplate\":\"state=Idaho<br>burglary=%{x}<br>larceny_theft=%{y}<br>population=%{marker.size}<extra></extra>\",\"legendgroup\":\"Idaho\",\"marker\":{\"color\":\"#ab63fa\",\"size\":[1425862],\"sizemode\":\"area\",\"sizeref\":82153.65305555555,\"symbol\":\"circle\"},\"mode\":\"markers\",\"name\":\"Idaho\",\"orientation\":\"v\",\"showlegend\":true,\"x\":[564.4],\"xaxis\":\"x\",\"y\":[1931.7],\"yaxis\":\"y\",\"type\":\"scatter\"},{\"hovertemplate\":\"state=Illinois<br>burglary=%{x}<br>larceny_theft=%{y}<br>population=%{marker.size}<extra></extra>\",\"legendgroup\":\"Illinois\",\"marker\":{\"color\":\"#FFA15A\",\"size\":[12674452],\"sizemode\":\"area\",\"sizeref\":82153.65305555555,\"symbol\":\"circle\"},\"mode\":\"markers\",\"name\":\"Illinois\",\"orientation\":\"v\",\"showlegend\":true,\"x\":[606.9],\"xaxis\":\"x\",\"y\":[2164.8],\"yaxis\":\"y\",\"type\":\"scatter\"},{\"hovertemplate\":\"state=Indiana<br>burglary=%{x}<br>larceny_theft=%{y}<br>population=%{marker.size}<extra></extra>\",\"legendgroup\":\"Indiana\",\"marker\":{\"color\":\"#19d3f3\",\"size\":[6253120],\"sizemode\":\"area\",\"sizeref\":82153.65305555555,\"symbol\":\"circle\"},\"mode\":\"markers\",\"name\":\"Indiana\",\"orientation\":\"v\",\"showlegend\":true,\"x\":[697.6],\"xaxis\":\"x\",\"y\":[2412.0],\"yaxis\":\"y\",\"type\":\"scatter\"},{\"hovertemplate\":\"state=Iowa<br>burglary=%{x}<br>larceny_theft=%{y}<br>population=%{marker.size}<extra></extra>\",\"legendgroup\":\"Iowa\",\"marker\":{\"color\":\"#FF6692\",\"size\":[2949450],\"sizemode\":\"area\",\"sizeref\":82153.65305555555,\"symbol\":\"circle\"},\"mode\":\"markers\",\"name\":\"Iowa\",\"orientation\":\"v\",\"showlegend\":true,\"x\":[606.4],\"xaxis\":\"x\",\"y\":[2042.7],\"yaxis\":\"y\",\"type\":\"scatter\"},{\"hovertemplate\":\"state=Kansas<br>burglary=%{x}<br>larceny_theft=%{y}<br>population=%{marker.size}<extra></extra>\",\"legendgroup\":\"Kansas\",\"marker\":{\"color\":\"#B6E880\",\"size\":[2741771],\"sizemode\":\"area\",\"sizeref\":82153.65305555555,\"symbol\":\"circle\"},\"mode\":\"markers\",\"name\":\"Kansas\",\"orientation\":\"v\",\"showlegend\":true,\"x\":[689.2],\"xaxis\":\"x\",\"y\":[2758.1],\"yaxis\":\"y\",\"type\":\"scatter\"},{\"hovertemplate\":\"state=Kentucky<br>burglary=%{x}<br>larceny_theft=%{y}<br>population=%{marker.size}<extra></extra>\",\"legendgroup\":\"Kentucky\",\"marker\":{\"color\":\"#FF97FF\",\"size\":[4182293],\"sizemode\":\"area\",\"sizeref\":82153.65305555555,\"symbol\":\"circle\"},\"mode\":\"markers\",\"name\":\"Kentucky\",\"orientation\":\"v\",\"showlegend\":true,\"x\":[634.0],\"xaxis\":\"x\",\"y\":[1685.8],\"yaxis\":\"y\",\"type\":\"scatter\"},{\"hovertemplate\":\"state=Louisiana<br>burglary=%{x}<br>larceny_theft=%{y}<br>population=%{marker.size}<extra></extra>\",\"legendgroup\":\"Louisiana\",\"marker\":{\"color\":\"#FECB52\",\"size\":[4497691],\"sizemode\":\"area\",\"sizeref\":82153.65305555555,\"symbol\":\"circle\"},\"mode\":\"markers\",\"name\":\"Louisiana\",\"orientation\":\"v\",\"showlegend\":true,\"x\":[870.6],\"xaxis\":\"x\",\"y\":[2494.5],\"yaxis\":\"y\",\"type\":\"scatter\"},{\"hovertemplate\":\"state=Maine<br>burglary=%{x}<br>larceny_theft=%{y}<br>population=%{marker.size}<extra></extra>\",\"legendgroup\":\"Maine\",\"marker\":{\"color\":\"#636efa\",\"size\":[1311631],\"sizemode\":\"area\",\"sizeref\":82153.65305555555,\"symbol\":\"circle\"},\"mode\":\"markers\",\"name\":\"Maine\",\"orientation\":\"v\",\"showlegend\":true,\"x\":[478.5],\"xaxis\":\"x\",\"y\":[1832.6],\"yaxis\":\"y\",\"type\":\"scatter\"},{\"hovertemplate\":\"state=Maryland<br>burglary=%{x}<br>larceny_theft=%{y}<br>population=%{marker.size}<extra></extra>\",\"legendgroup\":\"Maryland\",\"marker\":{\"color\":\"#EF553B\",\"size\":[5582520],\"sizemode\":\"area\",\"sizeref\":82153.65305555555,\"symbol\":\"circle\"},\"mode\":\"markers\",\"name\":\"Maryland\",\"orientation\":\"v\",\"showlegend\":true,\"x\":[641.4],\"xaxis\":\"x\",\"y\":[2294.3],\"yaxis\":\"y\",\"type\":\"scatter\"},{\"hovertemplate\":\"state=Massachusetts<br>burglary=%{x}<br>larceny_theft=%{y}<br>population=%{marker.size}<extra></extra>\",\"legendgroup\":\"Massachusetts\",\"marker\":{\"color\":\"#00cc96\",\"size\":[6453031],\"sizemode\":\"area\",\"sizeref\":82153.65305555555,\"symbol\":\"circle\"},\"mode\":\"markers\",\"name\":\"Massachusetts\",\"orientation\":\"v\",\"showlegend\":true,\"x\":[541.1],\"xaxis\":\"x\",\"y\":[1527.4],\"yaxis\":\"y\",\"type\":\"scatter\"},{\"hovertemplate\":\"state=Michigan<br>burglary=%{x}<br>larceny_theft=%{y}<br>population=%{marker.size}<extra></extra>\",\"legendgroup\":\"Michigan\",\"marker\":{\"color\":\"#ab63fa\",\"size\":[10090554],\"sizemode\":\"area\",\"sizeref\":82153.65305555555,\"symbol\":\"circle\"},\"mode\":\"markers\",\"name\":\"Michigan\",\"orientation\":\"v\",\"showlegend\":true,\"x\":[696.8],\"xaxis\":\"x\",\"y\":[1917.8],\"yaxis\":\"y\",\"type\":\"scatter\"},{\"hovertemplate\":\"state=Minnesota<br>burglary=%{x}<br>larceny_theft=%{y}<br>population=%{marker.size}<extra></extra>\",\"legendgroup\":\"Minnesota\",\"marker\":{\"color\":\"#FFA15A\",\"size\":[5106560],\"sizemode\":\"area\",\"sizeref\":82153.65305555555,\"symbol\":\"circle\"},\"mode\":\"markers\",\"name\":\"Minnesota\",\"orientation\":\"v\",\"showlegend\":true,\"x\":[578.9],\"xaxis\":\"x\",\"y\":[2226.9],\"yaxis\":\"y\",\"type\":\"scatter\"},{\"hovertemplate\":\"state=Mississippi<br>burglary=%{x}<br>larceny_theft=%{y}<br>population=%{marker.size}<extra></extra>\",\"legendgroup\":\"Mississippi\",\"marker\":{\"color\":\"#19d3f3\",\"size\":[2900116],\"sizemode\":\"area\",\"sizeref\":82153.65305555555,\"symbol\":\"circle\"},\"mode\":\"markers\",\"name\":\"Mississippi\",\"orientation\":\"v\",\"showlegend\":true,\"x\":[919.7],\"xaxis\":\"x\",\"y\":[2083.9],\"yaxis\":\"y\",\"type\":\"scatter\"},{\"hovertemplate\":\"state=Missouri<br>burglary=%{x}<br>larceny_theft=%{y}<br>population=%{marker.size}<extra></extra>\",\"legendgroup\":\"Missouri\",\"marker\":{\"color\":\"#FF6692\",\"size\":[5806639],\"sizemode\":\"area\",\"sizeref\":82153.65305555555,\"symbol\":\"circle\"},\"mode\":\"markers\",\"name\":\"Missouri\",\"orientation\":\"v\",\"showlegend\":true,\"x\":[738.3],\"xaxis\":\"x\",\"y\":[2746.2],\"yaxis\":\"y\",\"type\":\"scatter\"},{\"hovertemplate\":\"state=Montana<br>burglary=%{x}<br>larceny_theft=%{y}<br>population=%{marker.size}<extra></extra>\",\"legendgroup\":\"Montana\",\"marker\":{\"color\":\"#B6E880\",\"size\":[934801],\"sizemode\":\"area\",\"sizeref\":82153.65305555555,\"symbol\":\"circle\"},\"mode\":\"markers\",\"name\":\"Montana\",\"orientation\":\"v\",\"showlegend\":true,\"x\":[389.2],\"xaxis\":\"x\",\"y\":[2543.0],\"yaxis\":\"y\",\"type\":\"scatter\"},{\"hovertemplate\":\"state=Nebraska<br>burglary=%{x}<br>larceny_theft=%{y}<br>population=%{marker.size}<extra></extra>\",\"legendgroup\":\"Nebraska\",\"marker\":{\"color\":\"#FF97FF\",\"size\":[1751721],\"sizemode\":\"area\",\"sizeref\":82153.65305555555,\"symbol\":\"circle\"},\"mode\":\"markers\",\"name\":\"Nebraska\",\"orientation\":\"v\",\"showlegend\":true,\"x\":[532.4],\"xaxis\":\"x\",\"y\":[2574.3],\"yaxis\":\"y\",\"type\":\"scatter\"},{\"hovertemplate\":\"state=Nevada<br>burglary=%{x}<br>larceny_theft=%{y}<br>population=%{marker.size}<extra></extra>\",\"legendgroup\":\"Nevada\",\"marker\":{\"color\":\"#FECB52\",\"size\":[2408804],\"sizemode\":\"area\",\"sizeref\":82153.65305555555,\"symbol\":\"circle\"},\"mode\":\"markers\",\"name\":\"Nevada\",\"orientation\":\"v\",\"showlegend\":true,\"x\":[972.4],\"xaxis\":\"x\",\"y\":[2153.9],\"yaxis\":\"y\",\"type\":\"scatter\"},{\"hovertemplate\":\"state=New Hampshire<br>burglary=%{x}<br>larceny_theft=%{y}<br>population=%{marker.size}<extra></extra>\",\"legendgroup\":\"New Hampshire\",\"marker\":{\"color\":\"#636efa\",\"size\":[1301415],\"sizemode\":\"area\",\"sizeref\":82153.65305555555,\"symbol\":\"circle\"},\"mode\":\"markers\",\"name\":\"New Hampshire\",\"orientation\":\"v\",\"showlegend\":true,\"x\":[317.0],\"xaxis\":\"x\",\"y\":[1377.3],\"yaxis\":\"y\",\"type\":\"scatter\"},{\"hovertemplate\":\"state=New Jersey<br>burglary=%{x}<br>larceny_theft=%{y}<br>population=%{marker.size}<extra></extra>\",\"legendgroup\":\"New Jersey\",\"marker\":{\"color\":\"#EF553B\",\"size\":[8621837],\"sizemode\":\"area\",\"sizeref\":82153.65305555555,\"symbol\":\"circle\"},\"mode\":\"markers\",\"name\":\"New Jersey\",\"orientation\":\"v\",\"showlegend\":true,\"x\":[447.1],\"xaxis\":\"x\",\"y\":[1568.4],\"yaxis\":\"y\",\"type\":\"scatter\"},{\"hovertemplate\":\"state=New Mexico<br>burglary=%{x}<br>larceny_theft=%{y}<br>population=%{marker.size}<extra></extra>\",\"legendgroup\":\"New Mexico\",\"marker\":{\"color\":\"#00cc96\",\"size\":[1916538],\"sizemode\":\"area\",\"sizeref\":82153.65305555555,\"symbol\":\"circle\"},\"mode\":\"markers\",\"name\":\"New Mexico\",\"orientation\":\"v\",\"showlegend\":true,\"x\":[1093.9],\"xaxis\":\"x\",\"y\":[2639.9],\"yaxis\":\"y\",\"type\":\"scatter\"},{\"hovertemplate\":\"state=New York<br>burglary=%{x}<br>larceny_theft=%{y}<br>population=%{marker.size}<extra></extra>\",\"legendgroup\":\"New York\",\"marker\":{\"color\":\"#ab63fa\",\"size\":[19330891],\"sizemode\":\"area\",\"sizeref\":82153.65305555555,\"symbol\":\"circle\"},\"mode\":\"markers\",\"name\":\"New York\",\"orientation\":\"v\",\"showlegend\":true,\"x\":[353.3],\"xaxis\":\"x\",\"y\":[1569.6],\"yaxis\":\"y\",\"type\":\"scatter\"},{\"hovertemplate\":\"state=North Carolina<br>burglary=%{x}<br>larceny_theft=%{y}<br>population=%{marker.size}<extra></extra>\",\"legendgroup\":\"North Carolina\",\"marker\":{\"color\":\"#FFA15A\",\"size\":[8669452],\"sizemode\":\"area\",\"sizeref\":82153.65305555555,\"symbol\":\"circle\"},\"mode\":\"markers\",\"name\":\"North Carolina\",\"orientation\":\"v\",\"showlegend\":true,\"x\":[1201.1],\"xaxis\":\"x\",\"y\":[2546.2],\"yaxis\":\"y\",\"type\":\"scatter\"},{\"hovertemplate\":\"state=North Dakota<br>burglary=%{x}<br>larceny_theft=%{y}<br>population=%{marker.size}<extra></extra>\",\"legendgroup\":\"North Dakota\",\"marker\":{\"color\":\"#19d3f3\",\"size\":[635365],\"sizemode\":\"area\",\"sizeref\":82153.65305555555,\"symbol\":\"circle\"},\"mode\":\"markers\",\"name\":\"North Dakota\",\"orientation\":\"v\",\"showlegend\":true,\"x\":[311.9],\"xaxis\":\"x\",\"y\":[1500.3],\"yaxis\":\"y\",\"type\":\"scatter\"},{\"hovertemplate\":\"state=Ohio<br>burglary=%{x}<br>larceny_theft=%{y}<br>population=%{marker.size}<extra></extra>\",\"legendgroup\":\"Ohio\",\"marker\":{\"color\":\"#FF6692\",\"size\":[11475262],\"sizemode\":\"area\",\"sizeref\":82153.65305555555,\"symbol\":\"circle\"},\"mode\":\"markers\",\"name\":\"Ohio\",\"orientation\":\"v\",\"showlegend\":true,\"x\":[872.8],\"xaxis\":\"x\",\"y\":[2429.0],\"yaxis\":\"y\",\"type\":\"scatter\"},{\"hovertemplate\":\"state=Oklahoma<br>burglary=%{x}<br>larceny_theft=%{y}<br>population=%{marker.size}<extra></extra>\",\"legendgroup\":\"Oklahoma\",\"marker\":{\"color\":\"#B6E880\",\"size\":[3532769],\"sizemode\":\"area\",\"sizeref\":82153.65305555555,\"symbol\":\"circle\"},\"mode\":\"markers\",\"name\":\"Oklahoma\",\"orientation\":\"v\",\"showlegend\":true,\"x\":[1006.0],\"xaxis\":\"x\",\"y\":[2644.2],\"yaxis\":\"y\",\"type\":\"scatter\"},{\"hovertemplate\":\"state=Oregon<br>burglary=%{x}<br>larceny_theft=%{y}<br>population=%{marker.size}<extra></extra>\",\"legendgroup\":\"Oregon\",\"marker\":{\"color\":\"#FF97FF\",\"size\":[3617869],\"sizemode\":\"area\",\"sizeref\":82153.65305555555,\"symbol\":\"circle\"},\"mode\":\"markers\",\"name\":\"Oregon\",\"orientation\":\"v\",\"showlegend\":true,\"x\":[758.6],\"xaxis\":\"x\",\"y\":[3112.2],\"yaxis\":\"y\",\"type\":\"scatter\"},{\"hovertemplate\":\"state=Pennsylvania<br>burglary=%{x}<br>larceny_theft=%{y}<br>population=%{marker.size}<extra></extra>\",\"legendgroup\":\"Pennsylvania\",\"marker\":{\"color\":\"#FECB52\",\"size\":[12418161],\"sizemode\":\"area\",\"sizeref\":82153.65305555555,\"symbol\":\"circle\"},\"mode\":\"markers\",\"name\":\"Pennsylvania\",\"orientation\":\"v\",\"showlegend\":true,\"x\":[451.6],\"xaxis\":\"x\",\"y\":[1729.1],\"yaxis\":\"y\",\"type\":\"scatter\"},{\"hovertemplate\":\"state=Rhode Island<br>burglary=%{x}<br>larceny_theft=%{y}<br>population=%{marker.size}<extra></extra>\",\"legendgroup\":\"Rhode Island\",\"marker\":{\"color\":\"#636efa\",\"size\":[1064989],\"sizemode\":\"area\",\"sizeref\":82153.65305555555,\"symbol\":\"circle\"},\"mode\":\"markers\",\"name\":\"Rhode Island\",\"orientation\":\"v\",\"showlegend\":true,\"x\":[494.2],\"xaxis\":\"x\",\"y\":[1816.0],\"yaxis\":\"y\",\"type\":\"scatter\"},{\"hovertemplate\":\"state=South Carolina<br>burglary=%{x}<br>larceny_theft=%{y}<br>population=%{marker.size}<extra></extra>\",\"legendgroup\":\"South Carolina\",\"marker\":{\"color\":\"#EF553B\",\"size\":[4256199],\"sizemode\":\"area\",\"sizeref\":82153.65305555555,\"symbol\":\"circle\"},\"mode\":\"markers\",\"name\":\"South Carolina\",\"orientation\":\"v\",\"showlegend\":true,\"x\":[1000.9],\"xaxis\":\"x\",\"y\":[2954.1],\"yaxis\":\"y\",\"type\":\"scatter\"},{\"hovertemplate\":\"state=South Dakota<br>burglary=%{x}<br>larceny_theft=%{y}<br>population=%{marker.size}<extra></extra>\",\"legendgroup\":\"South Dakota\",\"marker\":{\"color\":\"#00cc96\",\"size\":[780084],\"sizemode\":\"area\",\"sizeref\":82153.65305555555,\"symbol\":\"circle\"},\"mode\":\"markers\",\"name\":\"South Dakota\",\"orientation\":\"v\",\"showlegend\":true,\"x\":[324.4],\"xaxis\":\"x\",\"y\":[1343.7],\"yaxis\":\"y\",\"type\":\"scatter\"},{\"hovertemplate\":\"state=Tennessee<br>burglary=%{x}<br>larceny_theft=%{y}<br>population=%{marker.size}<extra></extra>\",\"legendgroup\":\"Tennessee\",\"marker\":{\"color\":\"#ab63fa\",\"size\":[5995748],\"sizemode\":\"area\",\"sizeref\":82153.65305555555,\"symbol\":\"circle\"},\"mode\":\"markers\",\"name\":\"Tennessee\",\"orientation\":\"v\",\"showlegend\":true,\"x\":[1026.9],\"xaxis\":\"x\",\"y\":[2828.1],\"yaxis\":\"y\",\"type\":\"scatter\"},{\"hovertemplate\":\"state=Texas<br>burglary=%{x}<br>larceny_theft=%{y}<br>population=%{marker.size}<extra></extra>\",\"legendgroup\":\"Texas\",\"marker\":{\"color\":\"#FFA15A\",\"size\":[22801920],\"sizemode\":\"area\",\"sizeref\":82153.65305555555,\"symbol\":\"circle\"},\"mode\":\"markers\",\"name\":\"Texas\",\"orientation\":\"v\",\"showlegend\":true,\"x\":[961.6],\"xaxis\":\"x\",\"y\":[2961.7],\"yaxis\":\"y\",\"type\":\"scatter\"},{\"hovertemplate\":\"state=Utah<br>burglary=%{x}<br>larceny_theft=%{y}<br>population=%{marker.size}<extra></extra>\",\"legendgroup\":\"Utah\",\"marker\":{\"color\":\"#19d3f3\",\"size\":[2499637],\"sizemode\":\"area\",\"sizeref\":82153.65305555555,\"symbol\":\"circle\"},\"mode\":\"markers\",\"name\":\"Utah\",\"orientation\":\"v\",\"showlegend\":true,\"x\":[606.2],\"xaxis\":\"x\",\"y\":[2918.8],\"yaxis\":\"y\",\"type\":\"scatter\"},{\"hovertemplate\":\"state=Vermont<br>burglary=%{x}<br>larceny_theft=%{y}<br>population=%{marker.size}<extra></extra>\",\"legendgroup\":\"Vermont\",\"marker\":{\"color\":\"#FF6692\",\"size\":[618814],\"sizemode\":\"area\",\"sizeref\":82153.65305555555,\"symbol\":\"circle\"},\"mode\":\"markers\",\"name\":\"Vermont\",\"orientation\":\"v\",\"showlegend\":true,\"x\":[491.8],\"xaxis\":\"x\",\"y\":[1686.1],\"yaxis\":\"y\",\"type\":\"scatter\"},{\"hovertemplate\":\"state=Virginia<br>burglary=%{x}<br>larceny_theft=%{y}<br>population=%{marker.size}<extra></extra>\",\"legendgroup\":\"Virginia\",\"marker\":{\"color\":\"#B6E880\",\"size\":[7563887],\"sizemode\":\"area\",\"sizeref\":82153.65305555555,\"symbol\":\"circle\"},\"mode\":\"markers\",\"name\":\"Virginia\",\"orientation\":\"v\",\"showlegend\":true,\"x\":[392.1],\"xaxis\":\"x\",\"y\":[2035.0],\"yaxis\":\"y\",\"type\":\"scatter\"},{\"hovertemplate\":\"state=Washington<br>burglary=%{x}<br>larceny_theft=%{y}<br>population=%{marker.size}<extra></extra>\",\"legendgroup\":\"Washington\",\"marker\":{\"color\":\"#FF97FF\",\"size\":[6261282],\"sizemode\":\"area\",\"sizeref\":82153.65305555555,\"symbol\":\"circle\"},\"mode\":\"markers\",\"name\":\"Washington\",\"orientation\":\"v\",\"showlegend\":true,\"x\":[959.7],\"xaxis\":\"x\",\"y\":[3149.5],\"yaxis\":\"y\",\"type\":\"scatter\"},{\"hovertemplate\":\"state=West Virginia<br>burglary=%{x}<br>larceny_theft=%{y}<br>population=%{marker.size}<extra></extra>\",\"legendgroup\":\"West Virginia\",\"marker\":{\"color\":\"#FECB52\",\"size\":[1803920],\"sizemode\":\"area\",\"sizeref\":82153.65305555555,\"symbol\":\"circle\"},\"mode\":\"markers\",\"name\":\"West Virginia\",\"orientation\":\"v\",\"showlegend\":true,\"x\":[621.2],\"xaxis\":\"x\",\"y\":[1794.0],\"yaxis\":\"y\",\"type\":\"scatter\"},{\"hovertemplate\":\"state=Wisconsin<br>burglary=%{x}<br>larceny_theft=%{y}<br>population=%{marker.size}<extra></extra>\",\"legendgroup\":\"Wisconsin\",\"marker\":{\"color\":\"#636efa\",\"size\":[5541443],\"sizemode\":\"area\",\"sizeref\":82153.65305555555,\"symbol\":\"circle\"},\"mode\":\"markers\",\"name\":\"Wisconsin\",\"orientation\":\"v\",\"showlegend\":true,\"x\":[440.8],\"xaxis\":\"x\",\"y\":[1992.8],\"yaxis\":\"y\",\"type\":\"scatter\"},{\"hovertemplate\":\"state=Wyoming<br>burglary=%{x}<br>larceny_theft=%{y}<br>population=%{marker.size}<extra></extra>\",\"legendgroup\":\"Wyoming\",\"marker\":{\"color\":\"#EF553B\",\"size\":[506242],\"sizemode\":\"area\",\"sizeref\":82153.65305555555,\"symbol\":\"circle\"},\"mode\":\"markers\",\"name\":\"Wyoming\",\"orientation\":\"v\",\"showlegend\":true,\"x\":[476.3],\"xaxis\":\"x\",\"y\":[2533.9],\"yaxis\":\"y\",\"type\":\"scatter\"}],                        {\"template\":{\"data\":{\"bar\":[{\"error_x\":{\"color\":\"#2a3f5f\"},\"error_y\":{\"color\":\"#2a3f5f\"},\"marker\":{\"line\":{\"color\":\"#E5ECF6\",\"width\":0.5},\"pattern\":{\"fillmode\":\"overlay\",\"size\":10,\"solidity\":0.2}},\"type\":\"bar\"}],\"barpolar\":[{\"marker\":{\"line\":{\"color\":\"#E5ECF6\",\"width\":0.5},\"pattern\":{\"fillmode\":\"overlay\",\"size\":10,\"solidity\":0.2}},\"type\":\"barpolar\"}],\"carpet\":[{\"aaxis\":{\"endlinecolor\":\"#2a3f5f\",\"gridcolor\":\"white\",\"linecolor\":\"white\",\"minorgridcolor\":\"white\",\"startlinecolor\":\"#2a3f5f\"},\"baxis\":{\"endlinecolor\":\"#2a3f5f\",\"gridcolor\":\"white\",\"linecolor\":\"white\",\"minorgridcolor\":\"white\",\"startlinecolor\":\"#2a3f5f\"},\"type\":\"carpet\"}],\"choropleth\":[{\"colorbar\":{\"outlinewidth\":0,\"ticks\":\"\"},\"type\":\"choropleth\"}],\"contour\":[{\"colorbar\":{\"outlinewidth\":0,\"ticks\":\"\"},\"colorscale\":[[0.0,\"#0d0887\"],[0.1111111111111111,\"#46039f\"],[0.2222222222222222,\"#7201a8\"],[0.3333333333333333,\"#9c179e\"],[0.4444444444444444,\"#bd3786\"],[0.5555555555555556,\"#d8576b\"],[0.6666666666666666,\"#ed7953\"],[0.7777777777777778,\"#fb9f3a\"],[0.8888888888888888,\"#fdca26\"],[1.0,\"#f0f921\"]],\"type\":\"contour\"}],\"contourcarpet\":[{\"colorbar\":{\"outlinewidth\":0,\"ticks\":\"\"},\"type\":\"contourcarpet\"}],\"heatmap\":[{\"colorbar\":{\"outlinewidth\":0,\"ticks\":\"\"},\"colorscale\":[[0.0,\"#0d0887\"],[0.1111111111111111,\"#46039f\"],[0.2222222222222222,\"#7201a8\"],[0.3333333333333333,\"#9c179e\"],[0.4444444444444444,\"#bd3786\"],[0.5555555555555556,\"#d8576b\"],[0.6666666666666666,\"#ed7953\"],[0.7777777777777778,\"#fb9f3a\"],[0.8888888888888888,\"#fdca26\"],[1.0,\"#f0f921\"]],\"type\":\"heatmap\"}],\"heatmapgl\":[{\"colorbar\":{\"outlinewidth\":0,\"ticks\":\"\"},\"colorscale\":[[0.0,\"#0d0887\"],[0.1111111111111111,\"#46039f\"],[0.2222222222222222,\"#7201a8\"],[0.3333333333333333,\"#9c179e\"],[0.4444444444444444,\"#bd3786\"],[0.5555555555555556,\"#d8576b\"],[0.6666666666666666,\"#ed7953\"],[0.7777777777777778,\"#fb9f3a\"],[0.8888888888888888,\"#fdca26\"],[1.0,\"#f0f921\"]],\"type\":\"heatmapgl\"}],\"histogram\":[{\"marker\":{\"pattern\":{\"fillmode\":\"overlay\",\"size\":10,\"solidity\":0.2}},\"type\":\"histogram\"}],\"histogram2d\":[{\"colorbar\":{\"outlinewidth\":0,\"ticks\":\"\"},\"colorscale\":[[0.0,\"#0d0887\"],[0.1111111111111111,\"#46039f\"],[0.2222222222222222,\"#7201a8\"],[0.3333333333333333,\"#9c179e\"],[0.4444444444444444,\"#bd3786\"],[0.5555555555555556,\"#d8576b\"],[0.6666666666666666,\"#ed7953\"],[0.7777777777777778,\"#fb9f3a\"],[0.8888888888888888,\"#fdca26\"],[1.0,\"#f0f921\"]],\"type\":\"histogram2d\"}],\"histogram2dcontour\":[{\"colorbar\":{\"outlinewidth\":0,\"ticks\":\"\"},\"colorscale\":[[0.0,\"#0d0887\"],[0.1111111111111111,\"#46039f\"],[0.2222222222222222,\"#7201a8\"],[0.3333333333333333,\"#9c179e\"],[0.4444444444444444,\"#bd3786\"],[0.5555555555555556,\"#d8576b\"],[0.6666666666666666,\"#ed7953\"],[0.7777777777777778,\"#fb9f3a\"],[0.8888888888888888,\"#fdca26\"],[1.0,\"#f0f921\"]],\"type\":\"histogram2dcontour\"}],\"mesh3d\":[{\"colorbar\":{\"outlinewidth\":0,\"ticks\":\"\"},\"type\":\"mesh3d\"}],\"parcoords\":[{\"line\":{\"colorbar\":{\"outlinewidth\":0,\"ticks\":\"\"}},\"type\":\"parcoords\"}],\"pie\":[{\"automargin\":true,\"type\":\"pie\"}],\"scatter\":[{\"marker\":{\"colorbar\":{\"outlinewidth\":0,\"ticks\":\"\"}},\"type\":\"scatter\"}],\"scatter3d\":[{\"line\":{\"colorbar\":{\"outlinewidth\":0,\"ticks\":\"\"}},\"marker\":{\"colorbar\":{\"outlinewidth\":0,\"ticks\":\"\"}},\"type\":\"scatter3d\"}],\"scattercarpet\":[{\"marker\":{\"colorbar\":{\"outlinewidth\":0,\"ticks\":\"\"}},\"type\":\"scattercarpet\"}],\"scattergeo\":[{\"marker\":{\"colorbar\":{\"outlinewidth\":0,\"ticks\":\"\"}},\"type\":\"scattergeo\"}],\"scattergl\":[{\"marker\":{\"colorbar\":{\"outlinewidth\":0,\"ticks\":\"\"}},\"type\":\"scattergl\"}],\"scattermapbox\":[{\"marker\":{\"colorbar\":{\"outlinewidth\":0,\"ticks\":\"\"}},\"type\":\"scattermapbox\"}],\"scatterpolar\":[{\"marker\":{\"colorbar\":{\"outlinewidth\":0,\"ticks\":\"\"}},\"type\":\"scatterpolar\"}],\"scatterpolargl\":[{\"marker\":{\"colorbar\":{\"outlinewidth\":0,\"ticks\":\"\"}},\"type\":\"scatterpolargl\"}],\"scatterternary\":[{\"marker\":{\"colorbar\":{\"outlinewidth\":0,\"ticks\":\"\"}},\"type\":\"scatterternary\"}],\"surface\":[{\"colorbar\":{\"outlinewidth\":0,\"ticks\":\"\"},\"colorscale\":[[0.0,\"#0d0887\"],[0.1111111111111111,\"#46039f\"],[0.2222222222222222,\"#7201a8\"],[0.3333333333333333,\"#9c179e\"],[0.4444444444444444,\"#bd3786\"],[0.5555555555555556,\"#d8576b\"],[0.6666666666666666,\"#ed7953\"],[0.7777777777777778,\"#fb9f3a\"],[0.8888888888888888,\"#fdca26\"],[1.0,\"#f0f921\"]],\"type\":\"surface\"}],\"table\":[{\"cells\":{\"fill\":{\"color\":\"#EBF0F8\"},\"line\":{\"color\":\"white\"}},\"header\":{\"fill\":{\"color\":\"#C8D4E3\"},\"line\":{\"color\":\"white\"}},\"type\":\"table\"}]},\"layout\":{\"annotationdefaults\":{\"arrowcolor\":\"#2a3f5f\",\"arrowhead\":0,\"arrowwidth\":1},\"autotypenumbers\":\"strict\",\"coloraxis\":{\"colorbar\":{\"outlinewidth\":0,\"ticks\":\"\"}},\"colorscale\":{\"diverging\":[[0,\"#8e0152\"],[0.1,\"#c51b7d\"],[0.2,\"#de77ae\"],[0.3,\"#f1b6da\"],[0.4,\"#fde0ef\"],[0.5,\"#f7f7f7\"],[0.6,\"#e6f5d0\"],[0.7,\"#b8e186\"],[0.8,\"#7fbc41\"],[0.9,\"#4d9221\"],[1,\"#276419\"]],\"sequential\":[[0.0,\"#0d0887\"],[0.1111111111111111,\"#46039f\"],[0.2222222222222222,\"#7201a8\"],[0.3333333333333333,\"#9c179e\"],[0.4444444444444444,\"#bd3786\"],[0.5555555555555556,\"#d8576b\"],[0.6666666666666666,\"#ed7953\"],[0.7777777777777778,\"#fb9f3a\"],[0.8888888888888888,\"#fdca26\"],[1.0,\"#f0f921\"]],\"sequentialminus\":[[0.0,\"#0d0887\"],[0.1111111111111111,\"#46039f\"],[0.2222222222222222,\"#7201a8\"],[0.3333333333333333,\"#9c179e\"],[0.4444444444444444,\"#bd3786\"],[0.5555555555555556,\"#d8576b\"],[0.6666666666666666,\"#ed7953\"],[0.7777777777777778,\"#fb9f3a\"],[0.8888888888888888,\"#fdca26\"],[1.0,\"#f0f921\"]]},\"colorway\":[\"#636efa\",\"#EF553B\",\"#00cc96\",\"#ab63fa\",\"#FFA15A\",\"#19d3f3\",\"#FF6692\",\"#B6E880\",\"#FF97FF\",\"#FECB52\"],\"font\":{\"color\":\"#2a3f5f\"},\"geo\":{\"bgcolor\":\"white\",\"lakecolor\":\"white\",\"landcolor\":\"#E5ECF6\",\"showlakes\":true,\"showland\":true,\"subunitcolor\":\"white\"},\"hoverlabel\":{\"align\":\"left\"},\"hovermode\":\"closest\",\"mapbox\":{\"style\":\"light\"},\"paper_bgcolor\":\"white\",\"plot_bgcolor\":\"#E5ECF6\",\"polar\":{\"angularaxis\":{\"gridcolor\":\"white\",\"linecolor\":\"white\",\"ticks\":\"\"},\"bgcolor\":\"#E5ECF6\",\"radialaxis\":{\"gridcolor\":\"white\",\"linecolor\":\"white\",\"ticks\":\"\"}},\"scene\":{\"xaxis\":{\"backgroundcolor\":\"#E5ECF6\",\"gridcolor\":\"white\",\"gridwidth\":2,\"linecolor\":\"white\",\"showbackground\":true,\"ticks\":\"\",\"zerolinecolor\":\"white\"},\"yaxis\":{\"backgroundcolor\":\"#E5ECF6\",\"gridcolor\":\"white\",\"gridwidth\":2,\"linecolor\":\"white\",\"showbackground\":true,\"ticks\":\"\",\"zerolinecolor\":\"white\"},\"zaxis\":{\"backgroundcolor\":\"#E5ECF6\",\"gridcolor\":\"white\",\"gridwidth\":2,\"linecolor\":\"white\",\"showbackground\":true,\"ticks\":\"\",\"zerolinecolor\":\"white\"}},\"shapedefaults\":{\"line\":{\"color\":\"#2a3f5f\"}},\"ternary\":{\"aaxis\":{\"gridcolor\":\"white\",\"linecolor\":\"white\",\"ticks\":\"\"},\"baxis\":{\"gridcolor\":\"white\",\"linecolor\":\"white\",\"ticks\":\"\"},\"bgcolor\":\"#E5ECF6\",\"caxis\":{\"gridcolor\":\"white\",\"linecolor\":\"white\",\"ticks\":\"\"}},\"title\":{\"x\":0.05},\"xaxis\":{\"automargin\":true,\"gridcolor\":\"white\",\"linecolor\":\"white\",\"ticks\":\"\",\"title\":{\"standoff\":15},\"zerolinecolor\":\"white\",\"zerolinewidth\":2},\"yaxis\":{\"automargin\":true,\"gridcolor\":\"white\",\"linecolor\":\"white\",\"ticks\":\"\",\"title\":{\"standoff\":15},\"zerolinecolor\":\"white\",\"zerolinewidth\":2}}},\"xaxis\":{\"anchor\":\"y\",\"domain\":[0.0,1.0],\"title\":{\"text\":\"burglary\"},\"type\":\"log\"},\"yaxis\":{\"anchor\":\"x\",\"domain\":[0.0,1.0],\"title\":{\"text\":\"larceny_theft\"}},\"legend\":{\"title\":{\"text\":\"state\"},\"tracegroupgap\":0,\"itemsizing\":\"constant\"},\"margin\":{\"t\":60}},                        {\"responsive\": true}                    ).then(function(){\n",
       "                            \n",
       "var gd = document.getElementById('d15b5d61-8502-49b1-8cc4-7c5d8721a185');\n",
       "var x = new MutationObserver(function (mutations, observer) {{\n",
       "        var display = window.getComputedStyle(gd).display;\n",
       "        if (!display || display === 'none') {{\n",
       "            console.log([gd, 'removed!']);\n",
       "            Plotly.purge(gd);\n",
       "            observer.disconnect();\n",
       "        }}\n",
       "}});\n",
       "\n",
       "// Listen for the removal of the full notebook cells\n",
       "var notebookContainer = gd.closest('#notebook-container');\n",
       "if (notebookContainer) {{\n",
       "    x.observe(notebookContainer, {childList: true});\n",
       "}}\n",
       "\n",
       "// Listen for the clearing of the current output cell\n",
       "var outputEl = gd.closest('.output');\n",
       "if (outputEl) {{\n",
       "    x.observe(outputEl, {childList: true});\n",
       "}}\n",
       "\n",
       "                        })                };                });            </script>        </div>"
      ]
     },
     "metadata": {},
     "output_type": "display_data"
    }
   ],
   "source": [
    "# Creating bubble chart using plotly\n",
    "fig = px.scatter(crime_df, x=\"burglary\", y=\"larceny_theft\", size=\"population\", color=\"state\",\n",
    "                 log_x=True, size_max=60)\n",
    "\n",
    "# Display chart\n",
    "fig.show()"
   ]
  },
  {
   "cell_type": "code",
   "execution_count": 14,
   "id": "e3c16767-9141-4425-972f-e15a4be888b4",
   "metadata": {},
   "outputs": [
    {
     "data": {
      "image/png": "[encoded data removed]",
      "text/plain": [
       "<Figure size 576x432 with 1 Axes>"
      ]
     },
     "metadata": {
      "needs_background": "light"
     },
     "output_type": "display_data"
    }
   ],
   "source": [
    "# Creating Density plot chart\n",
    "crime_df.larceny_theft.plot.density(color='green')\n",
    "\n",
    "# chart title\n",
    "plt.title(\"Python: Density plot chart\")\n",
    "plt.xlabel('larceny_theft')\n",
    "plt.gcf().set_size_inches(8,6)\n",
    "\n",
    "# Display chart\n",
    "plt.show()"
   ]
  },
  {
   "cell_type": "code",
   "execution_count": null,
   "id": "8a436eee-7441-4599-9e93-6ea13b920533",
   "metadata": {},
   "outputs": [],
   "source": []
  }
 ],
 "metadata": {
  "kernelspec": {
   "display_name": "Python 3 (ipykernel)",
   "language": "python",
   "name": "python3"
  },
  "language_info": {
   "codemirror_mode": {
    "name": "ipython",
    "version": 3
   },
   "file_extension": ".py",
   "mimetype": "text/x-python",
   "name": "python",
   "nbconvert_exporter": "python",
   "pygments_lexer": "ipython3",
   "version": "3.9.12"
  }
 },
 "nbformat": 4,
 "nbformat_minor": 5
}
